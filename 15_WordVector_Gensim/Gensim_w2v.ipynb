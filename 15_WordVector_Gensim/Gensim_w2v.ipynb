{
 "cells": [
  {
   "cell_type": "code",
   "execution_count": 4,
   "id": "b4dd667f",
   "metadata": {},
   "outputs": [
    {
     "name": "stdout",
     "output_type": "stream",
     "text": [
      "[==================================================] 100.0% 1662.8/1662.8MB downloaded\n"
     ]
    }
   ],
   "source": [
    "import gensim.downloader as api\n",
    "\n",
    "wv = api.load(\"word2vec-google-news-300\")"
   ]
  },
  {
   "cell_type": "code",
   "execution_count": 2,
   "id": "09af4b18",
   "metadata": {},
   "outputs": [
    {
     "name": "stdout",
     "output_type": "stream",
     "text": [
      "Requirement already satisfied: gensim in c:\\users\\lenovo\\anaconda3\\lib\\site-packages (4.3.1)\n",
      "Requirement already satisfied: numpy>=1.18.5 in c:\\users\\lenovo\\anaconda3\\lib\\site-packages (from gensim) (1.22.4)\n",
      "Requirement already satisfied: smart-open>=1.8.1 in c:\\users\\lenovo\\anaconda3\\lib\\site-packages (from gensim) (6.3.0)\n",
      "Requirement already satisfied: scipy>=1.7.0 in c:\\users\\lenovo\\anaconda3\\lib\\site-packages (from gensim) (1.9.3)\n",
      "Note: you may need to restart the kernel to use updated packages.\n"
     ]
    }
   ],
   "source": [
    "pip install gensim"
   ]
  },
  {
   "cell_type": "code",
   "execution_count": 49,
   "id": "acac2f1f",
   "metadata": {
    "scrolled": true
   },
   "outputs": [
    {
     "data": {
      "text/plain": [
       "['__class__',\n",
       " '__contains__',\n",
       " '__delattr__',\n",
       " '__dict__',\n",
       " '__dir__',\n",
       " '__doc__',\n",
       " '__eq__',\n",
       " '__format__',\n",
       " '__ge__',\n",
       " '__getattribute__',\n",
       " '__getitem__',\n",
       " '__gt__',\n",
       " '__hash__',\n",
       " '__init__',\n",
       " '__init_subclass__',\n",
       " '__le__',\n",
       " '__len__',\n",
       " '__lt__',\n",
       " '__module__',\n",
       " '__ne__',\n",
       " '__new__',\n",
       " '__reduce__',\n",
       " '__reduce_ex__',\n",
       " '__repr__',\n",
       " '__setattr__',\n",
       " '__setitem__',\n",
       " '__sizeof__',\n",
       " '__str__',\n",
       " '__subclasshook__',\n",
       " '__weakref__',\n",
       " '_adapt_by_suffix',\n",
       " '_load_specials',\n",
       " '_log_evaluate_word_analogies',\n",
       " '_save_specials',\n",
       " '_smart_save',\n",
       " '_upconvert_old_d2vkv',\n",
       " '_upconvert_old_vocab',\n",
       " 'add_lifecycle_event',\n",
       " 'add_vector',\n",
       " 'add_vectors',\n",
       " 'allocate_vecattrs',\n",
       " 'closer_than',\n",
       " 'cosine_similarities',\n",
       " 'distance',\n",
       " 'distances',\n",
       " 'doesnt_match',\n",
       " 'evaluate_word_analogies',\n",
       " 'evaluate_word_pairs',\n",
       " 'expandos',\n",
       " 'fill_norms',\n",
       " 'get_index',\n",
       " 'get_mean_vector',\n",
       " 'get_normed_vectors',\n",
       " 'get_vecattr',\n",
       " 'get_vector',\n",
       " 'has_index_for',\n",
       " 'index2entity',\n",
       " 'index2word',\n",
       " 'index_to_key',\n",
       " 'init_sims',\n",
       " 'intersect_word2vec_format',\n",
       " 'key_to_index',\n",
       " 'lifecycle_events',\n",
       " 'load',\n",
       " 'load_word2vec_format',\n",
       " 'log_accuracy',\n",
       " 'log_evaluate_word_pairs',\n",
       " 'mapfile_path',\n",
       " 'most_similar',\n",
       " 'most_similar_cosmul',\n",
       " 'most_similar_to_given',\n",
       " 'n_similarity',\n",
       " 'next_index',\n",
       " 'norms',\n",
       " 'rank',\n",
       " 'rank_by_centrality',\n",
       " 'relative_cosine_similarity',\n",
       " 'resize_vectors',\n",
       " 'save',\n",
       " 'save_word2vec_format',\n",
       " 'set_vecattr',\n",
       " 'similar_by_key',\n",
       " 'similar_by_vector',\n",
       " 'similar_by_word',\n",
       " 'similarity',\n",
       " 'similarity_unseen_docs',\n",
       " 'sort_by_descending_frequency',\n",
       " 'unit_normalize_all',\n",
       " 'vector_size',\n",
       " 'vectors',\n",
       " 'vectors_for_all',\n",
       " 'vectors_norm',\n",
       " 'vocab',\n",
       " 'wmdistance',\n",
       " 'word_vec',\n",
       " 'words_closer_than']"
      ]
     },
     "execution_count": 49,
     "metadata": {},
     "output_type": "execute_result"
    }
   ],
   "source": [
    "dir(wv)"
   ]
  },
  {
   "cell_type": "code",
   "execution_count": 50,
   "id": "51d1c2c2",
   "metadata": {},
   "outputs": [
    {
     "data": {
      "text/plain": [
       "0.72915095"
      ]
     },
     "execution_count": 50,
     "metadata": {},
     "output_type": "execute_result"
    }
   ],
   "source": [
    "wv.similarity(w1='great',w2='good')"
   ]
  },
  {
   "cell_type": "code",
   "execution_count": 51,
   "id": "3c31a280",
   "metadata": {},
   "outputs": [
    {
     "data": {
      "text/plain": [
       "0.43074462"
      ]
     },
     "execution_count": 51,
     "metadata": {},
     "output_type": "execute_result"
    }
   ],
   "source": [
    "wv.similarity(w1='great',w2='better')"
   ]
  },
  {
   "cell_type": "code",
   "execution_count": 52,
   "id": "858e4398",
   "metadata": {},
   "outputs": [
    {
     "data": {
      "text/plain": [
       "0.4098271"
      ]
     },
     "execution_count": 52,
     "metadata": {},
     "output_type": "execute_result"
    }
   ],
   "source": [
    "wv.similarity(w1='great',w2='well')"
   ]
  },
  {
   "cell_type": "code",
   "execution_count": 53,
   "id": "202e614f",
   "metadata": {},
   "outputs": [],
   "source": [
    "# These similarities are based upon the context in whoch these words appeared in the training documents. This similarity has nothing to do with \"Synonym\" of english language"
   ]
  },
  {
   "cell_type": "code",
   "execution_count": 54,
   "id": "309c9f13",
   "metadata": {},
   "outputs": [
    {
     "data": {
      "text/plain": [
       "0.28772825"
      ]
     },
     "execution_count": 54,
     "metadata": {},
     "output_type": "execute_result"
    }
   ],
   "source": [
    "wv.similarity(w1='profit',w2='gain')"
   ]
  },
  {
   "cell_type": "code",
   "execution_count": 55,
   "id": "8eb68444",
   "metadata": {},
   "outputs": [
    {
     "data": {
      "text/plain": [
       "0.34199455"
      ]
     },
     "execution_count": 55,
     "metadata": {},
     "output_type": "execute_result"
    }
   ],
   "source": [
    "wv.similarity(w1='profit',w2='loss')"
   ]
  },
  {
   "cell_type": "code",
   "execution_count": 56,
   "id": "306bd87c",
   "metadata": {},
   "outputs": [
    {
     "data": {
      "text/plain": [
       "0.5829346"
      ]
     },
     "execution_count": 56,
     "metadata": {},
     "output_type": "execute_result"
    }
   ],
   "source": [
    "wv.similarity(w1='profit',w2='revenue')"
   ]
  },
  {
   "cell_type": "code",
   "execution_count": 57,
   "id": "4fb84e5b",
   "metadata": {},
   "outputs": [
    {
     "data": {
      "text/plain": [
       "[('great', 0.7291510105133057),\n",
       " ('bad', 0.7190051078796387),\n",
       " ('terrific', 0.6889115571975708),\n",
       " ('decent', 0.6837348341941833),\n",
       " ('nice', 0.6836092472076416),\n",
       " ('excellent', 0.644292950630188),\n",
       " ('fantastic', 0.6407778263092041),\n",
       " ('better', 0.6120728850364685),\n",
       " ('solid', 0.5806034803390503),\n",
       " ('lousy', 0.576420247554779)]"
      ]
     },
     "execution_count": 57,
     "metadata": {},
     "output_type": "execute_result"
    }
   ],
   "source": [
    "wv.most_similar(\"good\")"
   ]
  },
  {
   "cell_type": "markdown",
   "id": "16c73f50",
   "metadata": {},
   "source": [
    "article1 =\"I was feeling good as it was holiday\"\n",
    "\n",
    "article2=\"I was feeling bad as it was holiday\"\n",
    "\n",
    "Here if we see the context in which 'good' and 'bad' are used in these 2 sentences is same...the neighbouring words for good/bad are almost same ...So based upon this, the two words are said to be similar in NLP"
   ]
  },
  {
   "cell_type": "code",
   "execution_count": 58,
   "id": "c4935ccd",
   "metadata": {},
   "outputs": [
    {
     "data": {
      "text/plain": [
       "[('dogs', 0.8680489659309387),\n",
       " ('puppy', 0.8106428384780884),\n",
       " ('pit_bull', 0.780396044254303),\n",
       " ('pooch', 0.7627376914024353),\n",
       " ('cat', 0.7609457969665527),\n",
       " ('golden_retriever', 0.7500901818275452),\n",
       " ('German_shepherd', 0.7465174198150635),\n",
       " ('Rottweiler', 0.7437615394592285),\n",
       " ('beagle', 0.7418621778488159),\n",
       " ('pup', 0.740691065788269)]"
      ]
     },
     "execution_count": 58,
     "metadata": {},
     "output_type": "execute_result"
    }
   ],
   "source": [
    "wv.most_similar(\"dog\")"
   ]
  },
  {
   "cell_type": "code",
   "execution_count": 59,
   "id": "611b6d75",
   "metadata": {},
   "outputs": [
    {
     "data": {
      "text/plain": [
       "[('cats', 0.8099379539489746),\n",
       " ('dog', 0.760945737361908),\n",
       " ('kitten', 0.7464985251426697),\n",
       " ('feline', 0.7326234579086304),\n",
       " ('beagle', 0.7150582671165466),\n",
       " ('puppy', 0.7075453400611877),\n",
       " ('pup', 0.6934291124343872),\n",
       " ('pet', 0.6891531348228455),\n",
       " ('felines', 0.6755931973457336),\n",
       " ('chihuahua', 0.6709762215614319)]"
      ]
     },
     "execution_count": 59,
     "metadata": {},
     "output_type": "execute_result"
    }
   ],
   "source": [
    "wv.most_similar(\"cat\")"
   ]
  },
  {
   "cell_type": "markdown",
   "id": "0699a32f",
   "metadata": {},
   "source": [
    " dog and cats mostly occurs in similar context in most of the articles"
   ]
  },
  {
   "cell_type": "markdown",
   "id": "a7eea061",
   "metadata": {},
   "source": [
    "King - man + woman = Queen\n",
    "\n",
    "France -Paris + Berlin = Germany"
   ]
  },
  {
   "cell_type": "code",
   "execution_count": 24,
   "id": "a86f2abc",
   "metadata": {},
   "outputs": [
    {
     "data": {
      "text/plain": [
       "[('queen', 0.7118193507194519),\n",
       " ('monarch', 0.6189674139022827),\n",
       " ('princess', 0.5902431011199951),\n",
       " ('crown_prince', 0.5499460697174072),\n",
       " ('prince', 0.5377321839332581),\n",
       " ('kings', 0.5236844420433044),\n",
       " ('Queen_Consort', 0.5235945582389832),\n",
       " ('queens', 0.5181134343147278),\n",
       " ('sultan', 0.5098593831062317),\n",
       " ('monarchy', 0.5087411999702454)]"
      ]
     },
     "execution_count": 24,
     "metadata": {},
     "output_type": "execute_result"
    }
   ],
   "source": [
    "wv.most_similar(positive=[\"king\", \"woman\"],negative=[\"man\"])"
   ]
  },
  {
   "cell_type": "code",
   "execution_count": 60,
   "id": "e8dd2eb0",
   "metadata": {},
   "outputs": [
    {
     "data": {
      "text/plain": [
       "[('Germany', 0.7901254892349243),\n",
       " ('Austria', 0.6026812195777893),\n",
       " ('German', 0.6004959940910339),\n",
       " ('Germans', 0.5851002931594849),\n",
       " ('Poland', 0.5847075581550598),\n",
       " ('Hungary', 0.5271855592727661),\n",
       " ('BBC_Tristana_Moore', 0.5249711275100708),\n",
       " ('symbol_RSTI', 0.5245768427848816),\n",
       " ('Belgium', 0.5221248269081116),\n",
       " ('Germnay', 0.5199405550956726)]"
      ]
     },
     "execution_count": 60,
     "metadata": {},
     "output_type": "execute_result"
    }
   ],
   "source": [
    "wv.most_similar(positive=[\"France\", \"Berlin\"],negative=[\"Paris\"])"
   ]
  },
  {
   "cell_type": "code",
   "execution_count": 61,
   "id": "5af83f5a",
   "metadata": {},
   "outputs": [
    {
     "data": {
      "text/plain": [
       "[('Jharkhand', 0.6881963610649109),\n",
       " ('Karnataka', 0.6507984399795532),\n",
       " ('Jamshedpur', 0.6432908177375793),\n",
       " ('Andhra_Pradesh', 0.6432713270187378),\n",
       " ('Uttar_Pradesh', 0.639927327632904),\n",
       " ('Madhya_Pradesh', 0.6392531991004944),\n",
       " ('Chhattisgarh', 0.6388451457023621),\n",
       " ('Bihar', 0.6377339959144592),\n",
       " ('Orissa', 0.6325611472129822),\n",
       " ('Maharashtra', 0.6291553974151611)]"
      ]
     },
     "execution_count": 61,
     "metadata": {},
     "output_type": "execute_result"
    }
   ],
   "source": [
    "wv.most_similar(positive=[\"France\", \"Ranchi\"],negative=[\"Paris\"])"
   ]
  },
  {
   "cell_type": "code",
   "execution_count": 62,
   "id": "d8a8bdfd",
   "metadata": {},
   "outputs": [
    {
     "data": {
      "text/plain": [
       "'Cat'"
      ]
     },
     "execution_count": 62,
     "metadata": {},
     "output_type": "execute_result"
    }
   ],
   "source": [
    "wv.doesnt_match(['Apple','Cat','Google','tata Steel'])"
   ]
  },
  {
   "cell_type": "code",
   "execution_count": 63,
   "id": "43ca6058",
   "metadata": {},
   "outputs": [
    {
     "data": {
      "text/plain": [
       "'Sparrow'"
      ]
     },
     "execution_count": 63,
     "metadata": {},
     "output_type": "execute_result"
    }
   ],
   "source": [
    "wv.doesnt_match(['Dog','Cat','Lion','Sparrow'])"
   ]
  },
  {
   "cell_type": "code",
   "execution_count": 64,
   "id": "46d59af7",
   "metadata": {},
   "outputs": [],
   "source": [
    "glv  = api.load('glove-twitter-25')"
   ]
  },
  {
   "cell_type": "code",
   "execution_count": 41,
   "id": "a6d7aea1",
   "metadata": {},
   "outputs": [],
   "source": [
    "# below results are given based upon training data from twitter so it may differ from waht we got from google news model"
   ]
  },
  {
   "cell_type": "code",
   "execution_count": 65,
   "id": "3530c364",
   "metadata": {},
   "outputs": [
    {
     "data": {
      "text/plain": [
       "[('too', 0.9648017287254333),\n",
       " ('day', 0.9533665180206299),\n",
       " ('well', 0.9503170847892761),\n",
       " ('nice', 0.9438973665237427),\n",
       " ('better', 0.9425962567329407),\n",
       " ('fun', 0.9418926239013672),\n",
       " ('much', 0.9413353800773621),\n",
       " ('this', 0.9387555122375488),\n",
       " ('hope', 0.9383506774902344),\n",
       " ('great', 0.9378516674041748)]"
      ]
     },
     "execution_count": 65,
     "metadata": {},
     "output_type": "execute_result"
    }
   ],
   "source": [
    "glv.most_similar(\"good\")"
   ]
  },
  {
   "cell_type": "code",
   "execution_count": 67,
   "id": "f56c6229",
   "metadata": {
    "scrolled": true
   },
   "outputs": [
    {
     "data": {
      "text/plain": [
       "'human'"
      ]
     },
     "execution_count": 67,
     "metadata": {},
     "output_type": "execute_result"
    }
   ],
   "source": [
    "glv.doesnt_match(\"banana grapes oranges human\".split(' '))"
   ]
  },
  {
   "cell_type": "code",
   "execution_count": null,
   "id": "4d21c5c0",
   "metadata": {},
   "outputs": [],
   "source": []
  },
  {
   "cell_type": "code",
   "execution_count": null,
   "id": "f8eb1c64",
   "metadata": {},
   "outputs": [],
   "source": []
  },
  {
   "cell_type": "code",
   "execution_count": 70,
   "id": "5370a025",
   "metadata": {},
   "outputs": [],
   "source": [
    "wv_great=wv['great']\n",
    "wv_good=wv['good']"
   ]
  },
  {
   "cell_type": "code",
   "execution_count": 71,
   "id": "7be340ea",
   "metadata": {},
   "outputs": [
    {
     "data": {
      "text/plain": [
       "(300,)"
      ]
     },
     "execution_count": 71,
     "metadata": {},
     "output_type": "execute_result"
    }
   ],
   "source": [
    "wv_great.shape"
   ]
  },
  {
   "cell_type": "code",
   "execution_count": 72,
   "id": "8f1caff1",
   "metadata": {},
   "outputs": [
    {
     "data": {
      "text/plain": [
       "array([ 7.17773438e-02,  2.08007812e-01, -2.84423828e-02,  1.78710938e-01,\n",
       "        1.32812500e-01, -9.96093750e-02,  9.61914062e-02, -1.16699219e-01,\n",
       "       -8.54492188e-03,  1.48437500e-01, -3.34472656e-02, -1.85546875e-01,\n",
       "        4.10156250e-02, -8.98437500e-02,  2.17285156e-02,  6.93359375e-02,\n",
       "        1.80664062e-01,  2.22656250e-01, -1.00585938e-01, -6.93359375e-02,\n",
       "        1.04427338e-04,  1.60156250e-01,  4.07714844e-02,  7.37304688e-02,\n",
       "        1.53320312e-01,  6.78710938e-02, -1.03027344e-01,  4.17480469e-02,\n",
       "        4.27246094e-02, -1.10351562e-01, -6.68945312e-02,  4.19921875e-02,\n",
       "        2.50000000e-01,  2.12890625e-01,  1.59179688e-01,  1.44653320e-02,\n",
       "       -4.88281250e-02,  1.39770508e-02,  3.55529785e-03,  2.09960938e-01,\n",
       "        1.52343750e-01, -7.32421875e-02,  2.16796875e-01, -5.76171875e-02,\n",
       "       -2.84423828e-02, -3.60107422e-03,  1.52343750e-01, -2.63671875e-02,\n",
       "        2.13623047e-02, -1.51367188e-01,  1.04003906e-01,  3.18359375e-01,\n",
       "       -1.85546875e-01,  3.68652344e-02, -1.10839844e-01, -3.17382812e-02,\n",
       "       -1.01562500e-01, -1.21093750e-01,  3.22265625e-01, -7.32421875e-02,\n",
       "       -1.52343750e-01,  2.67578125e-01, -1.50390625e-01, -1.23046875e-01,\n",
       "        1.07910156e-01,  6.68945312e-02, -2.13623047e-02, -1.00585938e-01,\n",
       "       -2.05078125e-01,  1.17675781e-01,  6.15234375e-02,  6.78710938e-02,\n",
       "        1.06933594e-01, -7.71484375e-02, -1.52343750e-01, -4.24194336e-03,\n",
       "       -1.45507812e-01,  2.53906250e-01,  4.80957031e-02,  9.71679688e-02,\n",
       "       -8.36181641e-03,  1.12792969e-01,  5.34667969e-02,  1.79443359e-02,\n",
       "       -5.63964844e-02, -3.30078125e-01, -9.76562500e-02,  1.42578125e-01,\n",
       "       -1.37695312e-01,  2.20947266e-02,  1.00097656e-01, -5.71289062e-02,\n",
       "       -1.56250000e-01, -6.37817383e-03, -9.37500000e-02, -4.68750000e-02,\n",
       "        8.59375000e-02,  3.06640625e-01, -1.11328125e-01, -1.94335938e-01,\n",
       "       -2.08007812e-01,  8.10546875e-02, -4.19921875e-02, -8.30078125e-02,\n",
       "       -1.04003906e-01,  2.92968750e-01,  2.39257812e-02, -3.85742188e-02,\n",
       "        3.56445312e-02, -1.04980469e-01, -6.54296875e-02,  2.79296875e-01,\n",
       "       -1.16210938e-01, -1.45874023e-02,  3.84765625e-01, -7.81250000e-02,\n",
       "       -2.92968750e-02, -1.35742188e-01, -5.39550781e-02, -5.49316406e-02,\n",
       "       -8.10546875e-02, -2.88085938e-02,  8.34960938e-02,  2.73437500e-01,\n",
       "       -6.20117188e-02, -4.78515625e-02, -1.09252930e-02, -1.13769531e-01,\n",
       "       -1.09863281e-01,  2.02148438e-01, -1.28906250e-01, -6.68945312e-02,\n",
       "       -2.67578125e-01,  9.61914062e-02,  1.04003906e-01, -1.69921875e-01,\n",
       "        5.56640625e-02,  1.54296875e-01,  8.05664062e-02,  2.19726562e-01,\n",
       "       -2.27539062e-01,  1.10351562e-01, -8.11767578e-03, -5.63964844e-02,\n",
       "       -9.03320312e-02, -7.76367188e-02, -3.61328125e-02,  3.61328125e-02,\n",
       "        1.58203125e-01, -1.56250000e-01,  2.26562500e-01,  2.85156250e-01,\n",
       "       -5.51757812e-02,  3.53515625e-01, -1.20605469e-01,  1.05957031e-01,\n",
       "        3.11279297e-02, -1.91406250e-01, -2.31445312e-01, -1.11816406e-01,\n",
       "        2.38037109e-03,  7.51953125e-02, -1.28784180e-02,  1.00585938e-01,\n",
       "        4.45312500e-01, -2.77343750e-01,  6.68945312e-02, -8.10546875e-02,\n",
       "        6.39648438e-02,  1.85546875e-02, -1.11328125e-01,  9.76562500e-02,\n",
       "        2.06054688e-01, -1.30859375e-01,  2.39257812e-02,  1.10839844e-01,\n",
       "        8.05664062e-02, -1.52343750e-01,  4.85229492e-03,  1.84326172e-02,\n",
       "       -9.17968750e-02, -2.41210938e-01,  8.39843750e-02, -1.00585938e-01,\n",
       "       -1.54296875e-01,  2.75878906e-02, -1.64062500e-01, -1.01562500e-01,\n",
       "       -6.07299805e-03,  1.33514404e-03, -2.53906250e-01,  3.14453125e-01,\n",
       "        1.31835938e-01, -1.31835938e-01,  2.17285156e-02, -1.56250000e-01,\n",
       "       -1.46484375e-01, -5.12695312e-02, -1.20605469e-01, -2.15820312e-01,\n",
       "        3.10058594e-02,  1.30859375e-01,  9.71679688e-02,  5.67626953e-03,\n",
       "        2.20947266e-02,  1.26953125e-01, -1.24511719e-02,  6.15234375e-02,\n",
       "       -2.23388672e-02,  2.50000000e-01, -7.17773438e-02,  1.58203125e-01,\n",
       "       -7.27539062e-02,  1.97753906e-02,  8.85009766e-03, -9.08203125e-02,\n",
       "        3.63281250e-01, -9.03320312e-02,  2.41699219e-02, -1.39770508e-02,\n",
       "       -5.10253906e-02,  2.40478516e-02,  5.88989258e-03, -1.02050781e-01,\n",
       "       -8.85009766e-03,  3.05175781e-02, -7.81250000e-02, -1.27929688e-01,\n",
       "        3.85742188e-02,  2.86865234e-02, -2.28515625e-01, -1.25122070e-02,\n",
       "        1.54296875e-01,  9.13085938e-02,  1.05468750e-01, -6.44531250e-02,\n",
       "       -1.28906250e-01, -1.02050781e-01, -2.16064453e-02, -3.29589844e-02,\n",
       "        7.47070312e-02,  3.78417969e-02,  7.42187500e-02, -1.23901367e-02,\n",
       "       -4.68750000e-02,  4.88281250e-03,  1.03515625e-01, -8.69140625e-02,\n",
       "       -2.26562500e-01, -2.53906250e-01,  3.58886719e-02,  4.45312500e-01,\n",
       "        5.56640625e-02,  1.59179688e-01,  2.71484375e-01, -1.08398438e-01,\n",
       "        6.25000000e-02, -5.59082031e-02, -2.50000000e-01, -1.55273438e-01,\n",
       "       -6.83593750e-02, -1.39648438e-01, -1.59179688e-01, -1.79443359e-02,\n",
       "        2.12402344e-02,  7.37304688e-02,  1.30859375e-01, -8.05664062e-02,\n",
       "        2.99072266e-02,  1.55639648e-02, -1.66015625e-01,  1.50390625e-01,\n",
       "       -6.77490234e-03,  1.01318359e-02,  1.14746094e-01, -1.48437500e-01,\n",
       "       -4.58984375e-02, -1.39648438e-01, -1.73828125e-01, -4.27246094e-02,\n",
       "       -5.81054688e-02,  5.22460938e-02, -1.11328125e-01,  8.44726562e-02,\n",
       "       -2.55126953e-02,  1.40625000e-01, -1.81640625e-01,  1.72119141e-02,\n",
       "       -1.37695312e-01, -1.47705078e-02, -1.14746094e-02,  6.44531250e-02,\n",
       "       -2.89062500e-01, -4.80957031e-02, -1.99218750e-01, -7.12890625e-02,\n",
       "        6.44531250e-02, -1.67968750e-01, -2.08740234e-02, -1.42578125e-01],\n",
       "      dtype=float32)"
      ]
     },
     "execution_count": 72,
     "metadata": {},
     "output_type": "execute_result"
    }
   ],
   "source": [
    "wv_great"
   ]
  },
  {
   "cell_type": "code",
   "execution_count": 73,
   "id": "cc4c3a4e",
   "metadata": {},
   "outputs": [
    {
     "data": {
      "text/html": [
       "<div>\n",
       "<style scoped>\n",
       "    .dataframe tbody tr th:only-of-type {\n",
       "        vertical-align: middle;\n",
       "    }\n",
       "\n",
       "    .dataframe tbody tr th {\n",
       "        vertical-align: top;\n",
       "    }\n",
       "\n",
       "    .dataframe thead th {\n",
       "        text-align: right;\n",
       "    }\n",
       "</style>\n",
       "<table border=\"1\" class=\"dataframe\">\n",
       "  <thead>\n",
       "    <tr style=\"text-align: right;\">\n",
       "      <th></th>\n",
       "      <th>Text</th>\n",
       "      <th>label</th>\n",
       "    </tr>\n",
       "  </thead>\n",
       "  <tbody>\n",
       "    <tr>\n",
       "      <th>0</th>\n",
       "      <td>Top Trump Surrogate BRUTALLY Stabs Him In The...</td>\n",
       "      <td>Fake</td>\n",
       "    </tr>\n",
       "    <tr>\n",
       "      <th>1</th>\n",
       "      <td>U.S. conservative leader optimistic of common ...</td>\n",
       "      <td>Real</td>\n",
       "    </tr>\n",
       "    <tr>\n",
       "      <th>2</th>\n",
       "      <td>Trump proposes U.S. tax overhaul, stirs concer...</td>\n",
       "      <td>Real</td>\n",
       "    </tr>\n",
       "    <tr>\n",
       "      <th>3</th>\n",
       "      <td>Court Forces Ohio To Allow Millions Of Illega...</td>\n",
       "      <td>Fake</td>\n",
       "    </tr>\n",
       "    <tr>\n",
       "      <th>4</th>\n",
       "      <td>Democrats say Trump agrees to work on immigrat...</td>\n",
       "      <td>Real</td>\n",
       "    </tr>\n",
       "  </tbody>\n",
       "</table>\n",
       "</div>"
      ],
      "text/plain": [
       "                                                Text label\n",
       "0   Top Trump Surrogate BRUTALLY Stabs Him In The...  Fake\n",
       "1  U.S. conservative leader optimistic of common ...  Real\n",
       "2  Trump proposes U.S. tax overhaul, stirs concer...  Real\n",
       "3   Court Forces Ohio To Allow Millions Of Illega...  Fake\n",
       "4  Democrats say Trump agrees to work on immigrat...  Real"
      ]
     },
     "execution_count": 73,
     "metadata": {},
     "output_type": "execute_result"
    }
   ],
   "source": [
    "import pandas as pd\n",
    "\n",
    "df =pd.read_csv('fake_and_real_news.csv')\n",
    "\n",
    "df.head()"
   ]
  },
  {
   "cell_type": "code",
   "execution_count": 74,
   "id": "5fc80fc4",
   "metadata": {},
   "outputs": [
    {
     "data": {
      "text/plain": [
       "(9900, 2)"
      ]
     },
     "execution_count": 74,
     "metadata": {},
     "output_type": "execute_result"
    }
   ],
   "source": [
    "df.shape"
   ]
  },
  {
   "cell_type": "code",
   "execution_count": 76,
   "id": "874106cf",
   "metadata": {},
   "outputs": [
    {
     "data": {
      "text/plain": [
       "Fake    5000\n",
       "Real    4900\n",
       "Name: label, dtype: int64"
      ]
     },
     "execution_count": 76,
     "metadata": {},
     "output_type": "execute_result"
    }
   ],
   "source": [
    "df.label.value_counts()"
   ]
  },
  {
   "cell_type": "code",
   "execution_count": 78,
   "id": "54621291",
   "metadata": {},
   "outputs": [],
   "source": [
    "df['label_num'] = df.label.map({\n",
    "                                'Fake':0,\n",
    "                                'Real':1\n",
    "                               })"
   ]
  },
  {
   "cell_type": "code",
   "execution_count": 79,
   "id": "f65b69e0",
   "metadata": {},
   "outputs": [
    {
     "data": {
      "text/html": [
       "<div>\n",
       "<style scoped>\n",
       "    .dataframe tbody tr th:only-of-type {\n",
       "        vertical-align: middle;\n",
       "    }\n",
       "\n",
       "    .dataframe tbody tr th {\n",
       "        vertical-align: top;\n",
       "    }\n",
       "\n",
       "    .dataframe thead th {\n",
       "        text-align: right;\n",
       "    }\n",
       "</style>\n",
       "<table border=\"1\" class=\"dataframe\">\n",
       "  <thead>\n",
       "    <tr style=\"text-align: right;\">\n",
       "      <th></th>\n",
       "      <th>Text</th>\n",
       "      <th>label</th>\n",
       "      <th>label_num</th>\n",
       "    </tr>\n",
       "  </thead>\n",
       "  <tbody>\n",
       "    <tr>\n",
       "      <th>0</th>\n",
       "      <td>Top Trump Surrogate BRUTALLY Stabs Him In The...</td>\n",
       "      <td>Fake</td>\n",
       "      <td>0</td>\n",
       "    </tr>\n",
       "    <tr>\n",
       "      <th>1</th>\n",
       "      <td>U.S. conservative leader optimistic of common ...</td>\n",
       "      <td>Real</td>\n",
       "      <td>1</td>\n",
       "    </tr>\n",
       "    <tr>\n",
       "      <th>2</th>\n",
       "      <td>Trump proposes U.S. tax overhaul, stirs concer...</td>\n",
       "      <td>Real</td>\n",
       "      <td>1</td>\n",
       "    </tr>\n",
       "    <tr>\n",
       "      <th>3</th>\n",
       "      <td>Court Forces Ohio To Allow Millions Of Illega...</td>\n",
       "      <td>Fake</td>\n",
       "      <td>0</td>\n",
       "    </tr>\n",
       "    <tr>\n",
       "      <th>4</th>\n",
       "      <td>Democrats say Trump agrees to work on immigrat...</td>\n",
       "      <td>Real</td>\n",
       "      <td>1</td>\n",
       "    </tr>\n",
       "    <tr>\n",
       "      <th>...</th>\n",
       "      <td>...</td>\n",
       "      <td>...</td>\n",
       "      <td>...</td>\n",
       "    </tr>\n",
       "    <tr>\n",
       "      <th>9895</th>\n",
       "      <td>Wikileaks Admits To Screwing Up IMMENSELY Wit...</td>\n",
       "      <td>Fake</td>\n",
       "      <td>0</td>\n",
       "    </tr>\n",
       "    <tr>\n",
       "      <th>9896</th>\n",
       "      <td>Trump consults Republican senators on Fed chie...</td>\n",
       "      <td>Real</td>\n",
       "      <td>1</td>\n",
       "    </tr>\n",
       "    <tr>\n",
       "      <th>9897</th>\n",
       "      <td>Trump lawyers say judge lacks jurisdiction for...</td>\n",
       "      <td>Real</td>\n",
       "      <td>1</td>\n",
       "    </tr>\n",
       "    <tr>\n",
       "      <th>9898</th>\n",
       "      <td>WATCH: Right-Wing Pastor Falsely Credits Trum...</td>\n",
       "      <td>Fake</td>\n",
       "      <td>0</td>\n",
       "    </tr>\n",
       "    <tr>\n",
       "      <th>9899</th>\n",
       "      <td>Sean Spicer HILARIOUSLY Branded As Chickensh*...</td>\n",
       "      <td>Fake</td>\n",
       "      <td>0</td>\n",
       "    </tr>\n",
       "  </tbody>\n",
       "</table>\n",
       "<p>9900 rows × 3 columns</p>\n",
       "</div>"
      ],
      "text/plain": [
       "                                                   Text label  label_num\n",
       "0      Top Trump Surrogate BRUTALLY Stabs Him In The...  Fake          0\n",
       "1     U.S. conservative leader optimistic of common ...  Real          1\n",
       "2     Trump proposes U.S. tax overhaul, stirs concer...  Real          1\n",
       "3      Court Forces Ohio To Allow Millions Of Illega...  Fake          0\n",
       "4     Democrats say Trump agrees to work on immigrat...  Real          1\n",
       "...                                                 ...   ...        ...\n",
       "9895   Wikileaks Admits To Screwing Up IMMENSELY Wit...  Fake          0\n",
       "9896  Trump consults Republican senators on Fed chie...  Real          1\n",
       "9897  Trump lawyers say judge lacks jurisdiction for...  Real          1\n",
       "9898   WATCH: Right-Wing Pastor Falsely Credits Trum...  Fake          0\n",
       "9899   Sean Spicer HILARIOUSLY Branded As Chickensh*...  Fake          0\n",
       "\n",
       "[9900 rows x 3 columns]"
      ]
     },
     "execution_count": 79,
     "metadata": {},
     "output_type": "execute_result"
    }
   ],
   "source": [
    "df"
   ]
  },
  {
   "cell_type": "code",
   "execution_count": 97,
   "id": "10405129",
   "metadata": {},
   "outputs": [],
   "source": [
    "import spacy\n",
    "nlp = spacy.load('en_core_web_lg')\n",
    "\n",
    "def preprocess_and_vectorize(text):\n",
    "    filtered_words=[]\n",
    "    doc = nlp(text)\n",
    "    for token in doc:\n",
    "        if token.is_stop or token.is_punct:\n",
    "            continue\n",
    "        filtered_words.append(token.lemma_)\n",
    "    return wv.get_mean_vector(filtered_words) # this will give the sentence vector embedding\n",
    "        \n",
    "    "
   ]
  },
  {
   "cell_type": "code",
   "execution_count": 98,
   "id": "e83808b7",
   "metadata": {},
   "outputs": [
    {
     "data": {
      "text/plain": [
       "array([ 0.00235079, -0.00284596, -0.03638233,  0.00413919, -0.10635224,\n",
       "        0.05758579,  0.13348952, -0.00689176,  0.05995331, -0.02875906,\n",
       "       -0.02279907, -0.06939262, -0.01549996,  0.03538099, -0.0873947 ,\n",
       "        0.10044542,  0.02490648,  0.11501945,  0.00442711, -0.07228819,\n",
       "       -0.04447255,  0.02785169,  0.03338735,  0.02222995,  0.07053161,\n",
       "        0.06723307,  0.03483712, -0.0873695 ,  0.04152397, -0.0969665 ,\n",
       "       -0.00914938,  0.00555944, -0.0277799 , -0.00701522,  0.05281431,\n",
       "       -0.01066206,  0.02466576,  0.02378148,  0.0279402 ,  0.05527755,\n",
       "        0.01359304, -0.01062085,  0.06734448, -0.03492254, -0.08421434,\n",
       "       -0.04324378, -0.03578918, -0.00817786, -0.02093195,  0.01856531,\n",
       "       -0.07064191,  0.05023994, -0.03036207, -0.0412168 , -0.00684169,\n",
       "        0.05189689, -0.04097777, -0.05789134,  0.044417  , -0.0470418 ,\n",
       "       -0.01475445,  0.01373999, -0.00459672,  0.00419459,  0.04307397,\n",
       "       -0.01500929, -0.08037488,  0.05358911, -0.0211829 , -0.00526253,\n",
       "        0.03918403,  0.04980108,  0.05149292, -0.02760597, -0.10414234,\n",
       "       -0.02358125,  0.01588048,  0.08794019,  0.02101067,  0.12986097,\n",
       "       -0.03165637,  0.04050155,  0.03682444,  0.040462  , -0.05560045,\n",
       "       -0.04289893, -0.0918161 ,  0.05959024,  0.00470191, -0.0232439 ,\n",
       "        0.00560733, -0.00577845, -0.06879626, -0.03633031, -0.02900399,\n",
       "       -0.04766011,  0.07934985,  0.00162647,  0.02277142,  0.02039685,\n",
       "       -0.04815039,  0.01239679, -0.00273225,  0.04066541,  0.01718738,\n",
       "        0.00625888, -0.01593183, -0.01934362,  0.05761226, -0.0331227 ,\n",
       "       -0.06559531, -0.05737359, -0.01415279,  0.00814293, -0.00914533,\n",
       "       -0.04018348,  0.06907931, -0.01761438, -0.04850446,  0.03578102,\n",
       "       -0.09473305,  0.0754801 , -0.0717351 ,  0.07410301, -0.01351144,\n",
       "       -0.06917487, -0.08305064,  0.02122197, -0.03204587, -0.03061295,\n",
       "        0.03981462, -0.09745683, -0.02837887,  0.01508353,  0.08710912,\n",
       "       -0.07773352,  0.02312475,  0.11828712,  0.02502898,  0.01062398,\n",
       "        0.02528481, -0.05621869, -0.01414752, -0.0054199 , -0.01355326,\n",
       "        0.00094675,  0.02235291, -0.01592062, -0.01313769, -0.08265737,\n",
       "       -0.01484838,  0.0081862 , -0.01607498,  0.00671422, -0.00992151,\n",
       "        0.01070912, -0.0982562 , -0.03244599, -0.10865653,  0.00107146,\n",
       "        0.06166647,  0.0420246 , -0.02478091, -0.06187486,  0.04542562,\n",
       "       -0.01792098,  0.02203037, -0.04716108,  0.05974475,  0.02451983,\n",
       "       -0.05880933,  0.00202552,  0.03811581, -0.00530442,  0.01021047,\n",
       "        0.00424089,  0.07840483,  0.00195731, -0.02595322, -0.01481547,\n",
       "       -0.00551981,  0.0238276 ,  0.12479315,  0.02065411, -0.0310494 ,\n",
       "       -0.00850888, -0.0311881 ,  0.00917857, -0.03004361,  0.0576644 ,\n",
       "       -0.04041921, -0.06032866,  0.04549592,  0.03322048, -0.01644383,\n",
       "       -0.00503511, -0.01896849,  0.01606871,  0.00400032, -0.06011828,\n",
       "        0.04199673,  0.00505777, -0.08229659, -0.01548028, -0.03333327,\n",
       "        0.00798658, -0.02941441, -0.02521159, -0.02466976, -0.03208973,\n",
       "       -0.0048754 ,  0.10096999, -0.00099747, -0.06560291, -0.09302893,\n",
       "       -0.02929383,  0.03191192, -0.06449024, -0.06151631, -0.03464489,\n",
       "       -0.00879403, -0.04896098, -0.05396915, -0.03790915, -0.00337401,\n",
       "       -0.11016175,  0.01955169,  0.00305599, -0.04357597, -0.0177894 ,\n",
       "       -0.00359144, -0.00470547,  0.05034078,  0.03830646,  0.03219876,\n",
       "        0.02305124,  0.00910473, -0.04350092, -0.02903038, -0.0315236 ,\n",
       "       -0.07043763,  0.03806581, -0.00331466,  0.0275654 , -0.10277379,\n",
       "        0.02215285,  0.02834682,  0.02572182, -0.01758924, -0.02523402,\n",
       "       -0.00754319,  0.0332179 ,  0.06108168,  0.0282419 , -0.02518045,\n",
       "       -0.0372708 , -0.02340444,  0.05284173, -0.02049535,  0.01781087,\n",
       "       -0.01642074, -0.00814359, -0.09242941,  0.02235497, -0.01418123,\n",
       "        0.04997897,  0.03673173, -0.03368299, -0.04099576, -0.01646286,\n",
       "       -0.00386522,  0.06183865,  0.10663132, -0.01943116, -0.03759148,\n",
       "       -0.07059436, -0.07094096, -0.08852433,  0.01143012, -0.06681544,\n",
       "        0.02912416, -0.04444458,  0.0345265 ,  0.00576102,  0.01349037,\n",
       "       -0.00558232, -0.04241272,  0.09029818,  0.05358769,  0.00822992,\n",
       "       -0.00130868,  0.01569558,  0.00255671, -0.00992117, -0.06574745,\n",
       "       -0.03867856, -0.03263403, -0.01895184,  0.07239452, -0.00496437],\n",
       "      dtype=float32)"
      ]
     },
     "execution_count": 98,
     "metadata": {},
     "output_type": "execute_result"
    }
   ],
   "source": [
    "preprocess_and_vectorize(\"Don't worry if you don't understand\")"
   ]
  },
  {
   "cell_type": "code",
   "execution_count": 87,
   "id": "fd834a79",
   "metadata": {},
   "outputs": [],
   "source": [
    "v1=wv['worry']\n",
    "v2=wv['understand']"
   ]
  },
  {
   "cell_type": "code",
   "execution_count": 90,
   "id": "b88c4bd4",
   "metadata": {},
   "outputs": [
    {
     "data": {
      "text/plain": [
       "array([ 0.00976562, -0.00561523, -0.08905029], dtype=float32)"
      ]
     },
     "execution_count": 90,
     "metadata": {},
     "output_type": "execute_result"
    }
   ],
   "source": [
    "import numpy as np\n",
    "\n",
    "np.mean([v1,v2],axis=0)[:3]"
   ]
  },
  {
   "cell_type": "code",
   "execution_count": 94,
   "id": "c36aa5a7",
   "metadata": {},
   "outputs": [
    {
     "data": {
      "text/plain": [
       "array([ 0.00976562, -0.00561523, -0.08905029], dtype=float32)"
      ]
     },
     "execution_count": 94,
     "metadata": {},
     "output_type": "execute_result"
    }
   ],
   "source": [
    "wv.get_mean_vector(['worry','understand'],pre_normalize=False)[:3]"
   ]
  },
  {
   "cell_type": "code",
   "execution_count": null,
   "id": "28271039",
   "metadata": {},
   "outputs": [],
   "source": [
    "df['vector'] = df.Text.apply(preprocess_and_vectorize)"
   ]
  },
  {
   "cell_type": "code",
   "execution_count": null,
   "id": "d76b910c",
   "metadata": {},
   "outputs": [],
   "source": [
    "df.head()"
   ]
  },
  {
   "cell_type": "code",
   "execution_count": null,
   "id": "0a3db33a",
   "metadata": {},
   "outputs": [],
   "source": []
  }
 ],
 "metadata": {
  "kernelspec": {
   "display_name": "Python 3 (ipykernel)",
   "language": "python",
   "name": "python3"
  },
  "language_info": {
   "codemirror_mode": {
    "name": "ipython",
    "version": 3
   },
   "file_extension": ".py",
   "mimetype": "text/x-python",
   "name": "python",
   "nbconvert_exporter": "python",
   "pygments_lexer": "ipython3",
   "version": "3.9.7"
  }
 },
 "nbformat": 4,
 "nbformat_minor": 5
}
