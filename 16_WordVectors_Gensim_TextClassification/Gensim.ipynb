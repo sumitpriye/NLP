{
 "cells": [
  {
   "cell_type": "code",
   "execution_count": 4,
   "id": "f518ed76",
   "metadata": {},
   "outputs": [
    {
     "name": "stdout",
     "output_type": "stream",
     "text": [
      "[==================================================] 100.0% 1662.8/1662.8MB downloaded\n"
     ]
    }
   ],
   "source": [
    "import gensim.downloader as api\n",
    "\n",
    "wv = api.load(\"word2vec-google-news-300\")"
   ]
  },
  {
   "cell_type": "code",
   "execution_count": 2,
   "id": "53f0eb9e",
   "metadata": {},
   "outputs": [
    {
     "name": "stdout",
     "output_type": "stream",
     "text": [
      "Requirement already satisfied: gensim in c:\\users\\lenovo\\anaconda3\\lib\\site-packages (4.3.1)\n",
      "Requirement already satisfied: numpy>=1.18.5 in c:\\users\\lenovo\\anaconda3\\lib\\site-packages (from gensim) (1.22.4)\n",
      "Requirement already satisfied: smart-open>=1.8.1 in c:\\users\\lenovo\\anaconda3\\lib\\site-packages (from gensim) (6.3.0)\n",
      "Requirement already satisfied: scipy>=1.7.0 in c:\\users\\lenovo\\anaconda3\\lib\\site-packages (from gensim) (1.9.3)\n",
      "Note: you may need to restart the kernel to use updated packages.\n"
     ]
    }
   ],
   "source": [
    "pip install gensim"
   ]
  },
  {
   "cell_type": "code",
   "execution_count": 49,
   "id": "5526112d",
   "metadata": {
    "scrolled": true
   },
   "outputs": [
    {
     "data": {
      "text/plain": [
       "['__class__',\n",
       " '__contains__',\n",
       " '__delattr__',\n",
       " '__dict__',\n",
       " '__dir__',\n",
       " '__doc__',\n",
       " '__eq__',\n",
       " '__format__',\n",
       " '__ge__',\n",
       " '__getattribute__',\n",
       " '__getitem__',\n",
       " '__gt__',\n",
       " '__hash__',\n",
       " '__init__',\n",
       " '__init_subclass__',\n",
       " '__le__',\n",
       " '__len__',\n",
       " '__lt__',\n",
       " '__module__',\n",
       " '__ne__',\n",
       " '__new__',\n",
       " '__reduce__',\n",
       " '__reduce_ex__',\n",
       " '__repr__',\n",
       " '__setattr__',\n",
       " '__setitem__',\n",
       " '__sizeof__',\n",
       " '__str__',\n",
       " '__subclasshook__',\n",
       " '__weakref__',\n",
       " '_adapt_by_suffix',\n",
       " '_load_specials',\n",
       " '_log_evaluate_word_analogies',\n",
       " '_save_specials',\n",
       " '_smart_save',\n",
       " '_upconvert_old_d2vkv',\n",
       " '_upconvert_old_vocab',\n",
       " 'add_lifecycle_event',\n",
       " 'add_vector',\n",
       " 'add_vectors',\n",
       " 'allocate_vecattrs',\n",
       " 'closer_than',\n",
       " 'cosine_similarities',\n",
       " 'distance',\n",
       " 'distances',\n",
       " 'doesnt_match',\n",
       " 'evaluate_word_analogies',\n",
       " 'evaluate_word_pairs',\n",
       " 'expandos',\n",
       " 'fill_norms',\n",
       " 'get_index',\n",
       " 'get_mean_vector',\n",
       " 'get_normed_vectors',\n",
       " 'get_vecattr',\n",
       " 'get_vector',\n",
       " 'has_index_for',\n",
       " 'index2entity',\n",
       " 'index2word',\n",
       " 'index_to_key',\n",
       " 'init_sims',\n",
       " 'intersect_word2vec_format',\n",
       " 'key_to_index',\n",
       " 'lifecycle_events',\n",
       " 'load',\n",
       " 'load_word2vec_format',\n",
       " 'log_accuracy',\n",
       " 'log_evaluate_word_pairs',\n",
       " 'mapfile_path',\n",
       " 'most_similar',\n",
       " 'most_similar_cosmul',\n",
       " 'most_similar_to_given',\n",
       " 'n_similarity',\n",
       " 'next_index',\n",
       " 'norms',\n",
       " 'rank',\n",
       " 'rank_by_centrality',\n",
       " 'relative_cosine_similarity',\n",
       " 'resize_vectors',\n",
       " 'save',\n",
       " 'save_word2vec_format',\n",
       " 'set_vecattr',\n",
       " 'similar_by_key',\n",
       " 'similar_by_vector',\n",
       " 'similar_by_word',\n",
       " 'similarity',\n",
       " 'similarity_unseen_docs',\n",
       " 'sort_by_descending_frequency',\n",
       " 'unit_normalize_all',\n",
       " 'vector_size',\n",
       " 'vectors',\n",
       " 'vectors_for_all',\n",
       " 'vectors_norm',\n",
       " 'vocab',\n",
       " 'wmdistance',\n",
       " 'word_vec',\n",
       " 'words_closer_than']"
      ]
     },
     "execution_count": 49,
     "metadata": {},
     "output_type": "execute_result"
    }
   ],
   "source": [
    "dir(wv)"
   ]
  },
  {
   "cell_type": "code",
   "execution_count": 50,
   "id": "fcce53cd",
   "metadata": {},
   "outputs": [
    {
     "data": {
      "text/plain": [
       "0.72915095"
      ]
     },
     "execution_count": 50,
     "metadata": {},
     "output_type": "execute_result"
    }
   ],
   "source": [
    "wv.similarity(w1='great',w2='good')"
   ]
  },
  {
   "cell_type": "code",
   "execution_count": 51,
   "id": "d1fbe229",
   "metadata": {},
   "outputs": [
    {
     "data": {
      "text/plain": [
       "0.43074462"
      ]
     },
     "execution_count": 51,
     "metadata": {},
     "output_type": "execute_result"
    }
   ],
   "source": [
    "wv.similarity(w1='great',w2='better')"
   ]
  },
  {
   "cell_type": "code",
   "execution_count": 52,
   "id": "71b19551",
   "metadata": {},
   "outputs": [
    {
     "data": {
      "text/plain": [
       "0.4098271"
      ]
     },
     "execution_count": 52,
     "metadata": {},
     "output_type": "execute_result"
    }
   ],
   "source": [
    "wv.similarity(w1='great',w2='well')"
   ]
  },
  {
   "cell_type": "code",
   "execution_count": 53,
   "id": "d74f9761",
   "metadata": {},
   "outputs": [],
   "source": [
    "# These similarities are based upon the context in whoch these words appeared in the training documents. This similarity has nothing to do with \"Synonym\" of english language"
   ]
  },
  {
   "cell_type": "code",
   "execution_count": 54,
   "id": "9578541a",
   "metadata": {},
   "outputs": [
    {
     "data": {
      "text/plain": [
       "0.28772825"
      ]
     },
     "execution_count": 54,
     "metadata": {},
     "output_type": "execute_result"
    }
   ],
   "source": [
    "wv.similarity(w1='profit',w2='gain')"
   ]
  },
  {
   "cell_type": "code",
   "execution_count": 55,
   "id": "f99d2ef6",
   "metadata": {},
   "outputs": [
    {
     "data": {
      "text/plain": [
       "0.34199455"
      ]
     },
     "execution_count": 55,
     "metadata": {},
     "output_type": "execute_result"
    }
   ],
   "source": [
    "wv.similarity(w1='profit',w2='loss')"
   ]
  },
  {
   "cell_type": "code",
   "execution_count": 56,
   "id": "3cbd188c",
   "metadata": {},
   "outputs": [
    {
     "data": {
      "text/plain": [
       "0.5829346"
      ]
     },
     "execution_count": 56,
     "metadata": {},
     "output_type": "execute_result"
    }
   ],
   "source": [
    "wv.similarity(w1='profit',w2='revenue')"
   ]
  },
  {
   "cell_type": "code",
   "execution_count": 57,
   "id": "e6799430",
   "metadata": {},
   "outputs": [
    {
     "data": {
      "text/plain": [
       "[('great', 0.7291510105133057),\n",
       " ('bad', 0.7190051078796387),\n",
       " ('terrific', 0.6889115571975708),\n",
       " ('decent', 0.6837348341941833),\n",
       " ('nice', 0.6836092472076416),\n",
       " ('excellent', 0.644292950630188),\n",
       " ('fantastic', 0.6407778263092041),\n",
       " ('better', 0.6120728850364685),\n",
       " ('solid', 0.5806034803390503),\n",
       " ('lousy', 0.576420247554779)]"
      ]
     },
     "execution_count": 57,
     "metadata": {},
     "output_type": "execute_result"
    }
   ],
   "source": [
    "wv.most_similar(\"good\")"
   ]
  },
  {
   "cell_type": "markdown",
   "id": "c94e8c9b",
   "metadata": {},
   "source": [
    "article1 =\"I was feeling good as it was holiday\"\n",
    "\n",
    "article2=\"I was feeling bad as it was holiday\"\n",
    "\n",
    "Here if we see the context in which 'good' and 'bad' are used in these 2 sentences is same...the neighbouring words for good/bad are almost same ...So based upon this, the two words are said to be similar in NLP"
   ]
  },
  {
   "cell_type": "code",
   "execution_count": 58,
   "id": "49089c97",
   "metadata": {},
   "outputs": [
    {
     "data": {
      "text/plain": [
       "[('dogs', 0.8680489659309387),\n",
       " ('puppy', 0.8106428384780884),\n",
       " ('pit_bull', 0.780396044254303),\n",
       " ('pooch', 0.7627376914024353),\n",
       " ('cat', 0.7609457969665527),\n",
       " ('golden_retriever', 0.7500901818275452),\n",
       " ('German_shepherd', 0.7465174198150635),\n",
       " ('Rottweiler', 0.7437615394592285),\n",
       " ('beagle', 0.7418621778488159),\n",
       " ('pup', 0.740691065788269)]"
      ]
     },
     "execution_count": 58,
     "metadata": {},
     "output_type": "execute_result"
    }
   ],
   "source": [
    "wv.most_similar(\"dog\")"
   ]
  },
  {
   "cell_type": "code",
   "execution_count": 59,
   "id": "7f590a32",
   "metadata": {},
   "outputs": [
    {
     "data": {
      "text/plain": [
       "[('cats', 0.8099379539489746),\n",
       " ('dog', 0.760945737361908),\n",
       " ('kitten', 0.7464985251426697),\n",
       " ('feline', 0.7326234579086304),\n",
       " ('beagle', 0.7150582671165466),\n",
       " ('puppy', 0.7075453400611877),\n",
       " ('pup', 0.6934291124343872),\n",
       " ('pet', 0.6891531348228455),\n",
       " ('felines', 0.6755931973457336),\n",
       " ('chihuahua', 0.6709762215614319)]"
      ]
     },
     "execution_count": 59,
     "metadata": {},
     "output_type": "execute_result"
    }
   ],
   "source": [
    "wv.most_similar(\"cat\")"
   ]
  },
  {
   "cell_type": "markdown",
   "id": "9825673c",
   "metadata": {},
   "source": [
    " dog and cats mostly occurs in similar context in most of the articles"
   ]
  },
  {
   "cell_type": "markdown",
   "id": "f59f9d6c",
   "metadata": {},
   "source": [
    "King - man + woman = Queen\n",
    "\n",
    "France -Paris + Berlin = Germany"
   ]
  },
  {
   "cell_type": "code",
   "execution_count": 24,
   "id": "3f36e23a",
   "metadata": {},
   "outputs": [
    {
     "data": {
      "text/plain": [
       "[('queen', 0.7118193507194519),\n",
       " ('monarch', 0.6189674139022827),\n",
       " ('princess', 0.5902431011199951),\n",
       " ('crown_prince', 0.5499460697174072),\n",
       " ('prince', 0.5377321839332581),\n",
       " ('kings', 0.5236844420433044),\n",
       " ('Queen_Consort', 0.5235945582389832),\n",
       " ('queens', 0.5181134343147278),\n",
       " ('sultan', 0.5098593831062317),\n",
       " ('monarchy', 0.5087411999702454)]"
      ]
     },
     "execution_count": 24,
     "metadata": {},
     "output_type": "execute_result"
    }
   ],
   "source": [
    "wv.most_similar(positive=[\"king\", \"woman\"],negative=[\"man\"])"
   ]
  },
  {
   "cell_type": "code",
   "execution_count": 60,
   "id": "a6353ca7",
   "metadata": {},
   "outputs": [
    {
     "data": {
      "text/plain": [
       "[('Germany', 0.7901254892349243),\n",
       " ('Austria', 0.6026812195777893),\n",
       " ('German', 0.6004959940910339),\n",
       " ('Germans', 0.5851002931594849),\n",
       " ('Poland', 0.5847075581550598),\n",
       " ('Hungary', 0.5271855592727661),\n",
       " ('BBC_Tristana_Moore', 0.5249711275100708),\n",
       " ('symbol_RSTI', 0.5245768427848816),\n",
       " ('Belgium', 0.5221248269081116),\n",
       " ('Germnay', 0.5199405550956726)]"
      ]
     },
     "execution_count": 60,
     "metadata": {},
     "output_type": "execute_result"
    }
   ],
   "source": [
    "wv.most_similar(positive=[\"France\", \"Berlin\"],negative=[\"Paris\"])"
   ]
  },
  {
   "cell_type": "code",
   "execution_count": 61,
   "id": "3f359779",
   "metadata": {},
   "outputs": [
    {
     "data": {
      "text/plain": [
       "[('Jharkhand', 0.6881963610649109),\n",
       " ('Karnataka', 0.6507984399795532),\n",
       " ('Jamshedpur', 0.6432908177375793),\n",
       " ('Andhra_Pradesh', 0.6432713270187378),\n",
       " ('Uttar_Pradesh', 0.639927327632904),\n",
       " ('Madhya_Pradesh', 0.6392531991004944),\n",
       " ('Chhattisgarh', 0.6388451457023621),\n",
       " ('Bihar', 0.6377339959144592),\n",
       " ('Orissa', 0.6325611472129822),\n",
       " ('Maharashtra', 0.6291553974151611)]"
      ]
     },
     "execution_count": 61,
     "metadata": {},
     "output_type": "execute_result"
    }
   ],
   "source": [
    "wv.most_similar(positive=[\"France\", \"Ranchi\"],negative=[\"Paris\"])"
   ]
  },
  {
   "cell_type": "code",
   "execution_count": 62,
   "id": "51a715e6",
   "metadata": {},
   "outputs": [
    {
     "data": {
      "text/plain": [
       "'Cat'"
      ]
     },
     "execution_count": 62,
     "metadata": {},
     "output_type": "execute_result"
    }
   ],
   "source": [
    "wv.doesnt_match(['Apple','Cat','Google','tata Steel'])"
   ]
  },
  {
   "cell_type": "code",
   "execution_count": 63,
   "id": "7c4ec1d3",
   "metadata": {},
   "outputs": [
    {
     "data": {
      "text/plain": [
       "'Sparrow'"
      ]
     },
     "execution_count": 63,
     "metadata": {},
     "output_type": "execute_result"
    }
   ],
   "source": [
    "wv.doesnt_match(['Dog','Cat','Lion','Sparrow'])"
   ]
  },
  {
   "cell_type": "code",
   "execution_count": 64,
   "id": "0e5c47b6",
   "metadata": {},
   "outputs": [],
   "source": [
    "glv  = api.load('glove-twitter-25')"
   ]
  },
  {
   "cell_type": "code",
   "execution_count": 41,
   "id": "5f69064c",
   "metadata": {},
   "outputs": [],
   "source": [
    "# below results are given based upon training data from twitter so it may differ from waht we got from google news model"
   ]
  },
  {
   "cell_type": "code",
   "execution_count": 65,
   "id": "d90e2d21",
   "metadata": {},
   "outputs": [
    {
     "data": {
      "text/plain": [
       "[('too', 0.9648017287254333),\n",
       " ('day', 0.9533665180206299),\n",
       " ('well', 0.9503170847892761),\n",
       " ('nice', 0.9438973665237427),\n",
       " ('better', 0.9425962567329407),\n",
       " ('fun', 0.9418926239013672),\n",
       " ('much', 0.9413353800773621),\n",
       " ('this', 0.9387555122375488),\n",
       " ('hope', 0.9383506774902344),\n",
       " ('great', 0.9378516674041748)]"
      ]
     },
     "execution_count": 65,
     "metadata": {},
     "output_type": "execute_result"
    }
   ],
   "source": [
    "glv.most_similar(\"good\")"
   ]
  },
  {
   "cell_type": "code",
   "execution_count": 67,
   "id": "8e48116b",
   "metadata": {
    "scrolled": true
   },
   "outputs": [
    {
     "data": {
      "text/plain": [
       "'human'"
      ]
     },
     "execution_count": 67,
     "metadata": {},
     "output_type": "execute_result"
    }
   ],
   "source": [
    "glv.doesnt_match(\"banana grapes oranges human\".split(' '))"
   ]
  },
  {
   "cell_type": "code",
   "execution_count": null,
   "id": "d036b9dc",
   "metadata": {},
   "outputs": [],
   "source": []
  },
  {
   "cell_type": "code",
   "execution_count": null,
   "id": "6a6901ff",
   "metadata": {},
   "outputs": [],
   "source": []
  },
  {
   "cell_type": "code",
   "execution_count": 70,
   "id": "dcafcae4",
   "metadata": {},
   "outputs": [],
   "source": [
    "wv_great=wv['great']\n",
    "wv_good=wv['good']"
   ]
  },
  {
   "cell_type": "code",
   "execution_count": 71,
   "id": "6f0c94fb",
   "metadata": {},
   "outputs": [
    {
     "data": {
      "text/plain": [
       "(300,)"
      ]
     },
     "execution_count": 71,
     "metadata": {},
     "output_type": "execute_result"
    }
   ],
   "source": [
    "wv_great.shape"
   ]
  },
  {
   "cell_type": "code",
   "execution_count": 72,
   "id": "98c56d93",
   "metadata": {},
   "outputs": [
    {
     "data": {
      "text/plain": [
       "array([ 7.17773438e-02,  2.08007812e-01, -2.84423828e-02,  1.78710938e-01,\n",
       "        1.32812500e-01, -9.96093750e-02,  9.61914062e-02, -1.16699219e-01,\n",
       "       -8.54492188e-03,  1.48437500e-01, -3.34472656e-02, -1.85546875e-01,\n",
       "        4.10156250e-02, -8.98437500e-02,  2.17285156e-02,  6.93359375e-02,\n",
       "        1.80664062e-01,  2.22656250e-01, -1.00585938e-01, -6.93359375e-02,\n",
       "        1.04427338e-04,  1.60156250e-01,  4.07714844e-02,  7.37304688e-02,\n",
       "        1.53320312e-01,  6.78710938e-02, -1.03027344e-01,  4.17480469e-02,\n",
       "        4.27246094e-02, -1.10351562e-01, -6.68945312e-02,  4.19921875e-02,\n",
       "        2.50000000e-01,  2.12890625e-01,  1.59179688e-01,  1.44653320e-02,\n",
       "       -4.88281250e-02,  1.39770508e-02,  3.55529785e-03,  2.09960938e-01,\n",
       "        1.52343750e-01, -7.32421875e-02,  2.16796875e-01, -5.76171875e-02,\n",
       "       -2.84423828e-02, -3.60107422e-03,  1.52343750e-01, -2.63671875e-02,\n",
       "        2.13623047e-02, -1.51367188e-01,  1.04003906e-01,  3.18359375e-01,\n",
       "       -1.85546875e-01,  3.68652344e-02, -1.10839844e-01, -3.17382812e-02,\n",
       "       -1.01562500e-01, -1.21093750e-01,  3.22265625e-01, -7.32421875e-02,\n",
       "       -1.52343750e-01,  2.67578125e-01, -1.50390625e-01, -1.23046875e-01,\n",
       "        1.07910156e-01,  6.68945312e-02, -2.13623047e-02, -1.00585938e-01,\n",
       "       -2.05078125e-01,  1.17675781e-01,  6.15234375e-02,  6.78710938e-02,\n",
       "        1.06933594e-01, -7.71484375e-02, -1.52343750e-01, -4.24194336e-03,\n",
       "       -1.45507812e-01,  2.53906250e-01,  4.80957031e-02,  9.71679688e-02,\n",
       "       -8.36181641e-03,  1.12792969e-01,  5.34667969e-02,  1.79443359e-02,\n",
       "       -5.63964844e-02, -3.30078125e-01, -9.76562500e-02,  1.42578125e-01,\n",
       "       -1.37695312e-01,  2.20947266e-02,  1.00097656e-01, -5.71289062e-02,\n",
       "       -1.56250000e-01, -6.37817383e-03, -9.37500000e-02, -4.68750000e-02,\n",
       "        8.59375000e-02,  3.06640625e-01, -1.11328125e-01, -1.94335938e-01,\n",
       "       -2.08007812e-01,  8.10546875e-02, -4.19921875e-02, -8.30078125e-02,\n",
       "       -1.04003906e-01,  2.92968750e-01,  2.39257812e-02, -3.85742188e-02,\n",
       "        3.56445312e-02, -1.04980469e-01, -6.54296875e-02,  2.79296875e-01,\n",
       "       -1.16210938e-01, -1.45874023e-02,  3.84765625e-01, -7.81250000e-02,\n",
       "       -2.92968750e-02, -1.35742188e-01, -5.39550781e-02, -5.49316406e-02,\n",
       "       -8.10546875e-02, -2.88085938e-02,  8.34960938e-02,  2.73437500e-01,\n",
       "       -6.20117188e-02, -4.78515625e-02, -1.09252930e-02, -1.13769531e-01,\n",
       "       -1.09863281e-01,  2.02148438e-01, -1.28906250e-01, -6.68945312e-02,\n",
       "       -2.67578125e-01,  9.61914062e-02,  1.04003906e-01, -1.69921875e-01,\n",
       "        5.56640625e-02,  1.54296875e-01,  8.05664062e-02,  2.19726562e-01,\n",
       "       -2.27539062e-01,  1.10351562e-01, -8.11767578e-03, -5.63964844e-02,\n",
       "       -9.03320312e-02, -7.76367188e-02, -3.61328125e-02,  3.61328125e-02,\n",
       "        1.58203125e-01, -1.56250000e-01,  2.26562500e-01,  2.85156250e-01,\n",
       "       -5.51757812e-02,  3.53515625e-01, -1.20605469e-01,  1.05957031e-01,\n",
       "        3.11279297e-02, -1.91406250e-01, -2.31445312e-01, -1.11816406e-01,\n",
       "        2.38037109e-03,  7.51953125e-02, -1.28784180e-02,  1.00585938e-01,\n",
       "        4.45312500e-01, -2.77343750e-01,  6.68945312e-02, -8.10546875e-02,\n",
       "        6.39648438e-02,  1.85546875e-02, -1.11328125e-01,  9.76562500e-02,\n",
       "        2.06054688e-01, -1.30859375e-01,  2.39257812e-02,  1.10839844e-01,\n",
       "        8.05664062e-02, -1.52343750e-01,  4.85229492e-03,  1.84326172e-02,\n",
       "       -9.17968750e-02, -2.41210938e-01,  8.39843750e-02, -1.00585938e-01,\n",
       "       -1.54296875e-01,  2.75878906e-02, -1.64062500e-01, -1.01562500e-01,\n",
       "       -6.07299805e-03,  1.33514404e-03, -2.53906250e-01,  3.14453125e-01,\n",
       "        1.31835938e-01, -1.31835938e-01,  2.17285156e-02, -1.56250000e-01,\n",
       "       -1.46484375e-01, -5.12695312e-02, -1.20605469e-01, -2.15820312e-01,\n",
       "        3.10058594e-02,  1.30859375e-01,  9.71679688e-02,  5.67626953e-03,\n",
       "        2.20947266e-02,  1.26953125e-01, -1.24511719e-02,  6.15234375e-02,\n",
       "       -2.23388672e-02,  2.50000000e-01, -7.17773438e-02,  1.58203125e-01,\n",
       "       -7.27539062e-02,  1.97753906e-02,  8.85009766e-03, -9.08203125e-02,\n",
       "        3.63281250e-01, -9.03320312e-02,  2.41699219e-02, -1.39770508e-02,\n",
       "       -5.10253906e-02,  2.40478516e-02,  5.88989258e-03, -1.02050781e-01,\n",
       "       -8.85009766e-03,  3.05175781e-02, -7.81250000e-02, -1.27929688e-01,\n",
       "        3.85742188e-02,  2.86865234e-02, -2.28515625e-01, -1.25122070e-02,\n",
       "        1.54296875e-01,  9.13085938e-02,  1.05468750e-01, -6.44531250e-02,\n",
       "       -1.28906250e-01, -1.02050781e-01, -2.16064453e-02, -3.29589844e-02,\n",
       "        7.47070312e-02,  3.78417969e-02,  7.42187500e-02, -1.23901367e-02,\n",
       "       -4.68750000e-02,  4.88281250e-03,  1.03515625e-01, -8.69140625e-02,\n",
       "       -2.26562500e-01, -2.53906250e-01,  3.58886719e-02,  4.45312500e-01,\n",
       "        5.56640625e-02,  1.59179688e-01,  2.71484375e-01, -1.08398438e-01,\n",
       "        6.25000000e-02, -5.59082031e-02, -2.50000000e-01, -1.55273438e-01,\n",
       "       -6.83593750e-02, -1.39648438e-01, -1.59179688e-01, -1.79443359e-02,\n",
       "        2.12402344e-02,  7.37304688e-02,  1.30859375e-01, -8.05664062e-02,\n",
       "        2.99072266e-02,  1.55639648e-02, -1.66015625e-01,  1.50390625e-01,\n",
       "       -6.77490234e-03,  1.01318359e-02,  1.14746094e-01, -1.48437500e-01,\n",
       "       -4.58984375e-02, -1.39648438e-01, -1.73828125e-01, -4.27246094e-02,\n",
       "       -5.81054688e-02,  5.22460938e-02, -1.11328125e-01,  8.44726562e-02,\n",
       "       -2.55126953e-02,  1.40625000e-01, -1.81640625e-01,  1.72119141e-02,\n",
       "       -1.37695312e-01, -1.47705078e-02, -1.14746094e-02,  6.44531250e-02,\n",
       "       -2.89062500e-01, -4.80957031e-02, -1.99218750e-01, -7.12890625e-02,\n",
       "        6.44531250e-02, -1.67968750e-01, -2.08740234e-02, -1.42578125e-01],\n",
       "      dtype=float32)"
      ]
     },
     "execution_count": 72,
     "metadata": {},
     "output_type": "execute_result"
    }
   ],
   "source": [
    "wv_great"
   ]
  },
  {
   "cell_type": "code",
   "execution_count": 73,
   "id": "26e5ed11",
   "metadata": {},
   "outputs": [
    {
     "data": {
      "text/html": [
       "<div>\n",
       "<style scoped>\n",
       "    .dataframe tbody tr th:only-of-type {\n",
       "        vertical-align: middle;\n",
       "    }\n",
       "\n",
       "    .dataframe tbody tr th {\n",
       "        vertical-align: top;\n",
       "    }\n",
       "\n",
       "    .dataframe thead th {\n",
       "        text-align: right;\n",
       "    }\n",
       "</style>\n",
       "<table border=\"1\" class=\"dataframe\">\n",
       "  <thead>\n",
       "    <tr style=\"text-align: right;\">\n",
       "      <th></th>\n",
       "      <th>Text</th>\n",
       "      <th>label</th>\n",
       "    </tr>\n",
       "  </thead>\n",
       "  <tbody>\n",
       "    <tr>\n",
       "      <th>0</th>\n",
       "      <td>Top Trump Surrogate BRUTALLY Stabs Him In The...</td>\n",
       "      <td>Fake</td>\n",
       "    </tr>\n",
       "    <tr>\n",
       "      <th>1</th>\n",
       "      <td>U.S. conservative leader optimistic of common ...</td>\n",
       "      <td>Real</td>\n",
       "    </tr>\n",
       "    <tr>\n",
       "      <th>2</th>\n",
       "      <td>Trump proposes U.S. tax overhaul, stirs concer...</td>\n",
       "      <td>Real</td>\n",
       "    </tr>\n",
       "    <tr>\n",
       "      <th>3</th>\n",
       "      <td>Court Forces Ohio To Allow Millions Of Illega...</td>\n",
       "      <td>Fake</td>\n",
       "    </tr>\n",
       "    <tr>\n",
       "      <th>4</th>\n",
       "      <td>Democrats say Trump agrees to work on immigrat...</td>\n",
       "      <td>Real</td>\n",
       "    </tr>\n",
       "  </tbody>\n",
       "</table>\n",
       "</div>"
      ],
      "text/plain": [
       "                                                Text label\n",
       "0   Top Trump Surrogate BRUTALLY Stabs Him In The...  Fake\n",
       "1  U.S. conservative leader optimistic of common ...  Real\n",
       "2  Trump proposes U.S. tax overhaul, stirs concer...  Real\n",
       "3   Court Forces Ohio To Allow Millions Of Illega...  Fake\n",
       "4  Democrats say Trump agrees to work on immigrat...  Real"
      ]
     },
     "execution_count": 73,
     "metadata": {},
     "output_type": "execute_result"
    }
   ],
   "source": [
    "import pandas as pd\n",
    "\n",
    "df =pd.read_csv('fake_and_real_news.csv')\n",
    "\n",
    "df.head()"
   ]
  },
  {
   "cell_type": "code",
   "execution_count": 74,
   "id": "01b3efad",
   "metadata": {},
   "outputs": [
    {
     "data": {
      "text/plain": [
       "(9900, 2)"
      ]
     },
     "execution_count": 74,
     "metadata": {},
     "output_type": "execute_result"
    }
   ],
   "source": [
    "df.shape"
   ]
  },
  {
   "cell_type": "code",
   "execution_count": 76,
   "id": "baf36536",
   "metadata": {},
   "outputs": [
    {
     "data": {
      "text/plain": [
       "Fake    5000\n",
       "Real    4900\n",
       "Name: label, dtype: int64"
      ]
     },
     "execution_count": 76,
     "metadata": {},
     "output_type": "execute_result"
    }
   ],
   "source": [
    "df.label.value_counts()"
   ]
  },
  {
   "cell_type": "code",
   "execution_count": 78,
   "id": "489e06f8",
   "metadata": {},
   "outputs": [],
   "source": [
    "df['label_num'] = df.label.map({\n",
    "                                'Fake':0,\n",
    "                                'Real':1\n",
    "                               })"
   ]
  },
  {
   "cell_type": "code",
   "execution_count": 79,
   "id": "80b24dd4",
   "metadata": {},
   "outputs": [
    {
     "data": {
      "text/html": [
       "<div>\n",
       "<style scoped>\n",
       "    .dataframe tbody tr th:only-of-type {\n",
       "        vertical-align: middle;\n",
       "    }\n",
       "\n",
       "    .dataframe tbody tr th {\n",
       "        vertical-align: top;\n",
       "    }\n",
       "\n",
       "    .dataframe thead th {\n",
       "        text-align: right;\n",
       "    }\n",
       "</style>\n",
       "<table border=\"1\" class=\"dataframe\">\n",
       "  <thead>\n",
       "    <tr style=\"text-align: right;\">\n",
       "      <th></th>\n",
       "      <th>Text</th>\n",
       "      <th>label</th>\n",
       "      <th>label_num</th>\n",
       "    </tr>\n",
       "  </thead>\n",
       "  <tbody>\n",
       "    <tr>\n",
       "      <th>0</th>\n",
       "      <td>Top Trump Surrogate BRUTALLY Stabs Him In The...</td>\n",
       "      <td>Fake</td>\n",
       "      <td>0</td>\n",
       "    </tr>\n",
       "    <tr>\n",
       "      <th>1</th>\n",
       "      <td>U.S. conservative leader optimistic of common ...</td>\n",
       "      <td>Real</td>\n",
       "      <td>1</td>\n",
       "    </tr>\n",
       "    <tr>\n",
       "      <th>2</th>\n",
       "      <td>Trump proposes U.S. tax overhaul, stirs concer...</td>\n",
       "      <td>Real</td>\n",
       "      <td>1</td>\n",
       "    </tr>\n",
       "    <tr>\n",
       "      <th>3</th>\n",
       "      <td>Court Forces Ohio To Allow Millions Of Illega...</td>\n",
       "      <td>Fake</td>\n",
       "      <td>0</td>\n",
       "    </tr>\n",
       "    <tr>\n",
       "      <th>4</th>\n",
       "      <td>Democrats say Trump agrees to work on immigrat...</td>\n",
       "      <td>Real</td>\n",
       "      <td>1</td>\n",
       "    </tr>\n",
       "    <tr>\n",
       "      <th>...</th>\n",
       "      <td>...</td>\n",
       "      <td>...</td>\n",
       "      <td>...</td>\n",
       "    </tr>\n",
       "    <tr>\n",
       "      <th>9895</th>\n",
       "      <td>Wikileaks Admits To Screwing Up IMMENSELY Wit...</td>\n",
       "      <td>Fake</td>\n",
       "      <td>0</td>\n",
       "    </tr>\n",
       "    <tr>\n",
       "      <th>9896</th>\n",
       "      <td>Trump consults Republican senators on Fed chie...</td>\n",
       "      <td>Real</td>\n",
       "      <td>1</td>\n",
       "    </tr>\n",
       "    <tr>\n",
       "      <th>9897</th>\n",
       "      <td>Trump lawyers say judge lacks jurisdiction for...</td>\n",
       "      <td>Real</td>\n",
       "      <td>1</td>\n",
       "    </tr>\n",
       "    <tr>\n",
       "      <th>9898</th>\n",
       "      <td>WATCH: Right-Wing Pastor Falsely Credits Trum...</td>\n",
       "      <td>Fake</td>\n",
       "      <td>0</td>\n",
       "    </tr>\n",
       "    <tr>\n",
       "      <th>9899</th>\n",
       "      <td>Sean Spicer HILARIOUSLY Branded As Chickensh*...</td>\n",
       "      <td>Fake</td>\n",
       "      <td>0</td>\n",
       "    </tr>\n",
       "  </tbody>\n",
       "</table>\n",
       "<p>9900 rows × 3 columns</p>\n",
       "</div>"
      ],
      "text/plain": [
       "                                                   Text label  label_num\n",
       "0      Top Trump Surrogate BRUTALLY Stabs Him In The...  Fake          0\n",
       "1     U.S. conservative leader optimistic of common ...  Real          1\n",
       "2     Trump proposes U.S. tax overhaul, stirs concer...  Real          1\n",
       "3      Court Forces Ohio To Allow Millions Of Illega...  Fake          0\n",
       "4     Democrats say Trump agrees to work on immigrat...  Real          1\n",
       "...                                                 ...   ...        ...\n",
       "9895   Wikileaks Admits To Screwing Up IMMENSELY Wit...  Fake          0\n",
       "9896  Trump consults Republican senators on Fed chie...  Real          1\n",
       "9897  Trump lawyers say judge lacks jurisdiction for...  Real          1\n",
       "9898   WATCH: Right-Wing Pastor Falsely Credits Trum...  Fake          0\n",
       "9899   Sean Spicer HILARIOUSLY Branded As Chickensh*...  Fake          0\n",
       "\n",
       "[9900 rows x 3 columns]"
      ]
     },
     "execution_count": 79,
     "metadata": {},
     "output_type": "execute_result"
    }
   ],
   "source": [
    "df"
   ]
  },
  {
   "cell_type": "code",
   "execution_count": 97,
   "id": "281a0162",
   "metadata": {},
   "outputs": [],
   "source": [
    "import spacy\n",
    "nlp = spacy.load('en_core_web_lg')\n",
    "\n",
    "def preprocess_and_vectorize(text):\n",
    "    filtered_words=[]\n",
    "    doc = nlp(text)\n",
    "    for token in doc:\n",
    "        if token.is_stop or token.is_punct:\n",
    "            continue\n",
    "        filtered_words.append(token.lemma_)\n",
    "    return wv.get_mean_vector(filtered_words) # this will give the sentence vector embedding\n",
    "        \n",
    "    "
   ]
  },
  {
   "cell_type": "code",
   "execution_count": 98,
   "id": "9dead84d",
   "metadata": {},
   "outputs": [
    {
     "data": {
      "text/plain": [
       "array([ 0.00235079, -0.00284596, -0.03638233,  0.00413919, -0.10635224,\n",
       "        0.05758579,  0.13348952, -0.00689176,  0.05995331, -0.02875906,\n",
       "       -0.02279907, -0.06939262, -0.01549996,  0.03538099, -0.0873947 ,\n",
       "        0.10044542,  0.02490648,  0.11501945,  0.00442711, -0.07228819,\n",
       "       -0.04447255,  0.02785169,  0.03338735,  0.02222995,  0.07053161,\n",
       "        0.06723307,  0.03483712, -0.0873695 ,  0.04152397, -0.0969665 ,\n",
       "       -0.00914938,  0.00555944, -0.0277799 , -0.00701522,  0.05281431,\n",
       "       -0.01066206,  0.02466576,  0.02378148,  0.0279402 ,  0.05527755,\n",
       "        0.01359304, -0.01062085,  0.06734448, -0.03492254, -0.08421434,\n",
       "       -0.04324378, -0.03578918, -0.00817786, -0.02093195,  0.01856531,\n",
       "       -0.07064191,  0.05023994, -0.03036207, -0.0412168 , -0.00684169,\n",
       "        0.05189689, -0.04097777, -0.05789134,  0.044417  , -0.0470418 ,\n",
       "       -0.01475445,  0.01373999, -0.00459672,  0.00419459,  0.04307397,\n",
       "       -0.01500929, -0.08037488,  0.05358911, -0.0211829 , -0.00526253,\n",
       "        0.03918403,  0.04980108,  0.05149292, -0.02760597, -0.10414234,\n",
       "       -0.02358125,  0.01588048,  0.08794019,  0.02101067,  0.12986097,\n",
       "       -0.03165637,  0.04050155,  0.03682444,  0.040462  , -0.05560045,\n",
       "       -0.04289893, -0.0918161 ,  0.05959024,  0.00470191, -0.0232439 ,\n",
       "        0.00560733, -0.00577845, -0.06879626, -0.03633031, -0.02900399,\n",
       "       -0.04766011,  0.07934985,  0.00162647,  0.02277142,  0.02039685,\n",
       "       -0.04815039,  0.01239679, -0.00273225,  0.04066541,  0.01718738,\n",
       "        0.00625888, -0.01593183, -0.01934362,  0.05761226, -0.0331227 ,\n",
       "       -0.06559531, -0.05737359, -0.01415279,  0.00814293, -0.00914533,\n",
       "       -0.04018348,  0.06907931, -0.01761438, -0.04850446,  0.03578102,\n",
       "       -0.09473305,  0.0754801 , -0.0717351 ,  0.07410301, -0.01351144,\n",
       "       -0.06917487, -0.08305064,  0.02122197, -0.03204587, -0.03061295,\n",
       "        0.03981462, -0.09745683, -0.02837887,  0.01508353,  0.08710912,\n",
       "       -0.07773352,  0.02312475,  0.11828712,  0.02502898,  0.01062398,\n",
       "        0.02528481, -0.05621869, -0.01414752, -0.0054199 , -0.01355326,\n",
       "        0.00094675,  0.02235291, -0.01592062, -0.01313769, -0.08265737,\n",
       "       -0.01484838,  0.0081862 , -0.01607498,  0.00671422, -0.00992151,\n",
       "        0.01070912, -0.0982562 , -0.03244599, -0.10865653,  0.00107146,\n",
       "        0.06166647,  0.0420246 , -0.02478091, -0.06187486,  0.04542562,\n",
       "       -0.01792098,  0.02203037, -0.04716108,  0.05974475,  0.02451983,\n",
       "       -0.05880933,  0.00202552,  0.03811581, -0.00530442,  0.01021047,\n",
       "        0.00424089,  0.07840483,  0.00195731, -0.02595322, -0.01481547,\n",
       "       -0.00551981,  0.0238276 ,  0.12479315,  0.02065411, -0.0310494 ,\n",
       "       -0.00850888, -0.0311881 ,  0.00917857, -0.03004361,  0.0576644 ,\n",
       "       -0.04041921, -0.06032866,  0.04549592,  0.03322048, -0.01644383,\n",
       "       -0.00503511, -0.01896849,  0.01606871,  0.00400032, -0.06011828,\n",
       "        0.04199673,  0.00505777, -0.08229659, -0.01548028, -0.03333327,\n",
       "        0.00798658, -0.02941441, -0.02521159, -0.02466976, -0.03208973,\n",
       "       -0.0048754 ,  0.10096999, -0.00099747, -0.06560291, -0.09302893,\n",
       "       -0.02929383,  0.03191192, -0.06449024, -0.06151631, -0.03464489,\n",
       "       -0.00879403, -0.04896098, -0.05396915, -0.03790915, -0.00337401,\n",
       "       -0.11016175,  0.01955169,  0.00305599, -0.04357597, -0.0177894 ,\n",
       "       -0.00359144, -0.00470547,  0.05034078,  0.03830646,  0.03219876,\n",
       "        0.02305124,  0.00910473, -0.04350092, -0.02903038, -0.0315236 ,\n",
       "       -0.07043763,  0.03806581, -0.00331466,  0.0275654 , -0.10277379,\n",
       "        0.02215285,  0.02834682,  0.02572182, -0.01758924, -0.02523402,\n",
       "       -0.00754319,  0.0332179 ,  0.06108168,  0.0282419 , -0.02518045,\n",
       "       -0.0372708 , -0.02340444,  0.05284173, -0.02049535,  0.01781087,\n",
       "       -0.01642074, -0.00814359, -0.09242941,  0.02235497, -0.01418123,\n",
       "        0.04997897,  0.03673173, -0.03368299, -0.04099576, -0.01646286,\n",
       "       -0.00386522,  0.06183865,  0.10663132, -0.01943116, -0.03759148,\n",
       "       -0.07059436, -0.07094096, -0.08852433,  0.01143012, -0.06681544,\n",
       "        0.02912416, -0.04444458,  0.0345265 ,  0.00576102,  0.01349037,\n",
       "       -0.00558232, -0.04241272,  0.09029818,  0.05358769,  0.00822992,\n",
       "       -0.00130868,  0.01569558,  0.00255671, -0.00992117, -0.06574745,\n",
       "       -0.03867856, -0.03263403, -0.01895184,  0.07239452, -0.00496437],\n",
       "      dtype=float32)"
      ]
     },
     "execution_count": 98,
     "metadata": {},
     "output_type": "execute_result"
    }
   ],
   "source": [
    "preprocess_and_vectorize(\"Don't worry if you don't understand\")"
   ]
  },
  {
   "cell_type": "code",
   "execution_count": 87,
   "id": "f6b6eca1",
   "metadata": {},
   "outputs": [],
   "source": [
    "v1=wv['worry']\n",
    "v2=wv['understand']"
   ]
  },
  {
   "cell_type": "code",
   "execution_count": 90,
   "id": "8d3e587f",
   "metadata": {},
   "outputs": [
    {
     "data": {
      "text/plain": [
       "array([ 0.00976562, -0.00561523, -0.08905029], dtype=float32)"
      ]
     },
     "execution_count": 90,
     "metadata": {},
     "output_type": "execute_result"
    }
   ],
   "source": [
    "import numpy as np\n",
    "\n",
    "np.mean([v1,v2],axis=0)[:3]"
   ]
  },
  {
   "cell_type": "code",
   "execution_count": 94,
   "id": "95f21046",
   "metadata": {},
   "outputs": [
    {
     "data": {
      "text/plain": [
       "array([ 0.00976562, -0.00561523, -0.08905029], dtype=float32)"
      ]
     },
     "execution_count": 94,
     "metadata": {},
     "output_type": "execute_result"
    }
   ],
   "source": [
    "wv.get_mean_vector(['worry','understand'],pre_normalize=False)[:3]"
   ]
  },
  {
   "cell_type": "code",
   "execution_count": 99,
   "id": "f45dcb0f",
   "metadata": {},
   "outputs": [],
   "source": [
    "df['vector'] = df.Text.apply(preprocess_and_vectorize)"
   ]
  },
  {
   "cell_type": "code",
   "execution_count": 100,
   "id": "acd5d373",
   "metadata": {},
   "outputs": [
    {
     "data": {
      "text/html": [
       "<div>\n",
       "<style scoped>\n",
       "    .dataframe tbody tr th:only-of-type {\n",
       "        vertical-align: middle;\n",
       "    }\n",
       "\n",
       "    .dataframe tbody tr th {\n",
       "        vertical-align: top;\n",
       "    }\n",
       "\n",
       "    .dataframe thead th {\n",
       "        text-align: right;\n",
       "    }\n",
       "</style>\n",
       "<table border=\"1\" class=\"dataframe\">\n",
       "  <thead>\n",
       "    <tr style=\"text-align: right;\">\n",
       "      <th></th>\n",
       "      <th>Text</th>\n",
       "      <th>label</th>\n",
       "      <th>label_num</th>\n",
       "      <th>vector</th>\n",
       "    </tr>\n",
       "  </thead>\n",
       "  <tbody>\n",
       "    <tr>\n",
       "      <th>0</th>\n",
       "      <td>Top Trump Surrogate BRUTALLY Stabs Him In The...</td>\n",
       "      <td>Fake</td>\n",
       "      <td>0</td>\n",
       "      <td>[0.008657642, 0.019024342, -0.011917442, 0.032...</td>\n",
       "    </tr>\n",
       "    <tr>\n",
       "      <th>1</th>\n",
       "      <td>U.S. conservative leader optimistic of common ...</td>\n",
       "      <td>Real</td>\n",
       "      <td>1</td>\n",
       "      <td>[0.010864096, 0.007960429, 0.0011915653, 0.014...</td>\n",
       "    </tr>\n",
       "    <tr>\n",
       "      <th>2</th>\n",
       "      <td>Trump proposes U.S. tax overhaul, stirs concer...</td>\n",
       "      <td>Real</td>\n",
       "      <td>1</td>\n",
       "      <td>[0.018134918, 0.0062743523, -0.005872244, 0.03...</td>\n",
       "    </tr>\n",
       "    <tr>\n",
       "      <th>3</th>\n",
       "      <td>Court Forces Ohio To Allow Millions Of Illega...</td>\n",
       "      <td>Fake</td>\n",
       "      <td>0</td>\n",
       "      <td>[0.01255197, 0.012613623, 5.9780963e-05, 0.021...</td>\n",
       "    </tr>\n",
       "    <tr>\n",
       "      <th>4</th>\n",
       "      <td>Democrats say Trump agrees to work on immigrat...</td>\n",
       "      <td>Real</td>\n",
       "      <td>1</td>\n",
       "      <td>[-0.0019059887, 0.011889367, 0.0035395357, 0.0...</td>\n",
       "    </tr>\n",
       "  </tbody>\n",
       "</table>\n",
       "</div>"
      ],
      "text/plain": [
       "                                                Text label  label_num  \\\n",
       "0   Top Trump Surrogate BRUTALLY Stabs Him In The...  Fake          0   \n",
       "1  U.S. conservative leader optimistic of common ...  Real          1   \n",
       "2  Trump proposes U.S. tax overhaul, stirs concer...  Real          1   \n",
       "3   Court Forces Ohio To Allow Millions Of Illega...  Fake          0   \n",
       "4  Democrats say Trump agrees to work on immigrat...  Real          1   \n",
       "\n",
       "                                              vector  \n",
       "0  [0.008657642, 0.019024342, -0.011917442, 0.032...  \n",
       "1  [0.010864096, 0.007960429, 0.0011915653, 0.014...  \n",
       "2  [0.018134918, 0.0062743523, -0.005872244, 0.03...  \n",
       "3  [0.01255197, 0.012613623, 5.9780963e-05, 0.021...  \n",
       "4  [-0.0019059887, 0.011889367, 0.0035395357, 0.0...  "
      ]
     },
     "execution_count": 100,
     "metadata": {},
     "output_type": "execute_result"
    }
   ],
   "source": [
    "df.head()"
   ]
  },
  {
   "cell_type": "markdown",
   "id": "818f5708",
   "metadata": {},
   "source": [
    "#### Train-Test splitting"
   ]
  },
  {
   "cell_type": "code",
   "execution_count": 101,
   "id": "a3b9c3b2",
   "metadata": {},
   "outputs": [],
   "source": [
    "from sklearn.model_selection import train_test_split\n",
    "X_train, X_test, y_train, y_test = train_test_split(df.vector.values, df.label_num, test_size=0.2, random_state=100, stratify=df.label_num)"
   ]
  },
  {
   "cell_type": "code",
   "execution_count": 102,
   "id": "6345ce60",
   "metadata": {},
   "outputs": [
    {
     "data": {
      "text/plain": [
       "(7920,)"
      ]
     },
     "execution_count": 102,
     "metadata": {},
     "output_type": "execute_result"
    }
   ],
   "source": [
    "X_train.shape"
   ]
  },
  {
   "cell_type": "code",
   "execution_count": 103,
   "id": "8fccc4d4",
   "metadata": {},
   "outputs": [
    {
     "data": {
      "text/plain": [
       "(1980,)"
      ]
     },
     "execution_count": 103,
     "metadata": {},
     "output_type": "execute_result"
    }
   ],
   "source": [
    "X_test.shape"
   ]
  },
  {
   "cell_type": "code",
   "execution_count": 104,
   "id": "dd0554b8",
   "metadata": {},
   "outputs": [
    {
     "data": {
      "text/plain": [
       "array([array([-3.19996703e-04,  1.46420309e-02,  9.39054880e-03,  3.15904170e-02,\n",
       "              -1.86479501e-02, -1.87104885e-02,  8.86298716e-03, -1.09211737e-02,\n",
       "               3.88389789e-02,  9.78142209e-03, -1.18343923e-02, -1.01343980e-02,\n",
       "              -1.10506918e-02,  1.99369285e-02, -2.62129828e-02,  3.43950242e-02,\n",
       "               2.14870367e-02,  3.64386439e-02, -6.96915574e-03, -2.59445366e-02,\n",
       "              -5.23589225e-03,  1.82476267e-02,  2.23851409e-02,  1.59412052e-03,\n",
       "               1.36468019e-02, -6.48343563e-03, -1.99889019e-02, -4.43498557e-03,\n",
       "               1.30031090e-02, -6.00775937e-03, -1.82520540e-03, -9.48729052e-04,\n",
       "              -3.27183232e-02, -5.46349958e-03,  1.01130558e-02, -1.96278840e-03,\n",
       "               9.76906251e-03,  5.62366331e-03, -5.19776205e-03,  1.63220577e-02,\n",
       "               1.58174913e-02, -2.22341623e-03,  3.91685627e-02,  4.50086966e-03,\n",
       "              -2.59540081e-02, -1.57382730e-02, -1.82443876e-02,  3.51316249e-03,\n",
       "              -1.84892900e-02,  2.36981586e-02, -1.73490774e-03,  2.87697650e-02,\n",
       "              -2.09295307e-03,  3.80167342e-03,  1.86761264e-02,  4.59351577e-03,\n",
       "              -3.77536304e-02, -1.37186330e-02, -1.37310578e-02, -3.16874571e-02,\n",
       "               1.43582956e-03,  2.08016317e-02, -3.54654528e-02, -8.33242014e-03,\n",
       "               1.03768455e-02, -9.75225493e-03, -1.29240192e-02,  2.94048190e-02,\n",
       "               1.12565630e-03,  1.20533733e-02,  9.91731416e-04,  6.07384974e-03,\n",
       "               1.78981163e-02,  1.00546228e-02, -1.53529635e-02, -2.17320118e-02,\n",
       "               1.79306101e-02,  2.03545801e-02,  2.19569467e-02,  3.38257737e-02,\n",
       "               7.06182281e-03, -1.39491688e-02,  1.03526693e-02,  1.61596667e-03,\n",
       "              -4.09709057e-03, -1.85886715e-02, -3.46180946e-02,  2.76299976e-02,\n",
       "               1.02976393e-02, -3.34269088e-03,  2.46528368e-02, -1.29383057e-02,\n",
       "              -2.60407254e-02, -3.44774388e-02, -2.91272858e-03, -1.14429435e-02,\n",
       "               1.00999884e-02,  1.26338331e-02,  2.17917804e-02, -2.22328734e-02,\n",
       "              -1.64539907e-02, -1.20427832e-02,  1.03929583e-02, -2.46221130e-03,\n",
       "              -9.00497602e-04, -6.42211875e-03,  4.61228238e-03, -2.46744528e-02,\n",
       "               1.36398058e-02, -1.77203380e-02, -1.66979115e-02, -1.62439179e-02,\n",
       "              -4.99152672e-03,  1.35437434e-03,  3.42233740e-02,  9.64034334e-05,\n",
       "               1.42397052e-02, -1.60416421e-02,  4.07607369e-02,  1.97114497e-02,\n",
       "              -2.31685936e-02,  8.66745319e-03, -2.67040003e-02,  1.80890914e-02,\n",
       "              -7.45941047e-03, -1.23304324e-02, -1.32331690e-02, -1.39204450e-02,\n",
       "               1.02274958e-02,  5.55519806e-03, -4.04302636e-03, -2.66696252e-02,\n",
       "              -1.73808858e-02, -6.40605390e-03, -8.52418784e-03, -1.33015290e-02,\n",
       "               1.65253633e-03,  1.50134200e-02,  1.55827608e-02,  1.40622500e-02,\n",
       "               1.37020340e-02, -1.90623682e-02, -8.91936570e-03, -8.92528915e-04,\n",
       "               2.49546999e-03,  6.47255499e-03,  2.89563206e-03, -1.75097864e-02,\n",
       "               1.73859193e-03, -7.77247921e-03,  3.87910455e-02, -1.22532872e-02,\n",
       "              -1.33418059e-02,  3.74374492e-03, -3.52364709e-03, -7.16091599e-03,\n",
       "              -9.57628991e-03, -2.65232213e-02, -4.41704644e-03, -2.24032719e-02,\n",
       "              -9.01472010e-03,  1.07634654e-02,  2.04989836e-02,  3.13559570e-03,\n",
       "               2.07960326e-03, -3.14126611e-02,  3.51899303e-02, -6.41113520e-03,\n",
       "               2.84600668e-02,  1.48868654e-02, -2.25318912e-02, -4.04213648e-03,\n",
       "               4.92708758e-03, -4.46461178e-02,  4.41106036e-03, -1.92234032e-02,\n",
       "               3.57147865e-02, -8.08767695e-03, -1.54021038e-02, -8.71758256e-03,\n",
       "              -3.92100289e-02, -2.46400293e-02, -8.90740193e-04, -6.26880489e-03,\n",
       "              -6.38357969e-03, -7.46456999e-03, -5.07743447e-04,  1.09012863e-02,\n",
       "               2.34171078e-02,  3.15520540e-02,  1.11982785e-02,  9.78081021e-03,\n",
       "               1.33590968e-02,  4.51557426e-04, -2.59983223e-02,  6.30573789e-03,\n",
       "              -2.26584706e-03,  2.16323626e-03, -1.37539057e-03, -2.26148441e-02,\n",
       "              -1.14654433e-02,  1.60380658e-02, -5.75390225e-03, -1.32951951e-02,\n",
       "               3.81793827e-03, -1.42831821e-02,  2.87309429e-03,  9.56372730e-03,\n",
       "               2.54844694e-04, -1.46931931e-02, -8.20817053e-03,  1.92654822e-02,\n",
       "              -4.71772766e-03,  7.49164307e-03, -2.53846943e-02,  1.61706693e-02,\n",
       "               1.21761477e-02,  3.88087681e-03, -3.83426882e-02,  8.18086664e-06,\n",
       "              -1.08911144e-02,  3.93011793e-03, -9.91709996e-03,  8.89254268e-03,\n",
       "               3.16496938e-02, -2.48130169e-02,  3.12246401e-02,  2.55805403e-02,\n",
       "               2.13073753e-02, -6.65700017e-03,  2.00169510e-03,  1.00953411e-03,\n",
       "              -1.31780161e-02,  7.96197448e-03,  2.13475358e-02, -4.17476147e-03,\n",
       "               8.08983855e-03, -2.15410125e-02,  2.28197929e-02,  6.27971813e-03,\n",
       "               3.64664057e-03, -2.03694869e-02, -1.20994458e-02, -3.14842202e-02,\n",
       "              -9.06139705e-03,  1.53934006e-02, -1.31989003e-03,  2.72414871e-02,\n",
       "               7.96491932e-03, -1.20749781e-02, -7.98059627e-03,  1.27880592e-02,\n",
       "               3.25268088e-03,  1.12711517e-02,  2.47730650e-02, -1.13828266e-02,\n",
       "               2.06839889e-02,  5.15347114e-03, -1.12905502e-02, -2.70662066e-02,\n",
       "               6.49008062e-03, -9.20695718e-03,  2.61202245e-03,  1.53270895e-02,\n",
       "               1.90782864e-02,  4.87887450e-02,  8.67765266e-05, -2.01271172e-03,\n",
       "              -3.95457931e-02, -1.02606951e-04, -5.56080486e-04,  3.27718891e-02,\n",
       "               3.15952897e-02, -3.63083626e-03,  7.72383297e-03, -1.53824892e-02,\n",
       "              -1.67069193e-02, -3.38316560e-02, -1.61870420e-02,  3.79462889e-03,\n",
       "              -3.67492344e-03, -5.98375034e-03,  1.17768126e-03,  2.78954692e-02,\n",
       "              -6.46343129e-03, -4.05035820e-03, -2.57068761e-02,  5.23251621e-03,\n",
       "               1.24898879e-02,  3.41739296e-03, -1.02106947e-02,  9.40981042e-03,\n",
       "              -3.66320312e-02,  2.66634137e-03, -8.84992257e-03, -1.09933075e-02,\n",
       "              -2.27596192e-03, -1.24738086e-02,  1.77198686e-02,  9.19060875e-03],\n",
       "             dtype=float32)                                                       ,\n",
       "       array([ 1.65541377e-02,  1.73625816e-02,  1.48627441e-03,  2.37691365e-02,\n",
       "              -1.44185713e-02,  5.33722900e-03,  3.06991972e-02, -2.31322777e-02,\n",
       "               4.18270081e-02,  2.45166328e-02, -2.00275192e-03, -3.51670422e-02,\n",
       "              -2.51268726e-02,  2.53821928e-02, -5.00757769e-02,  3.48028578e-02,\n",
       "               1.46456901e-02,  1.91199575e-02,  8.65292177e-03, -2.73947287e-02,\n",
       "              -7.72339059e-03,  9.05353017e-03,  3.03021949e-02,  8.69190600e-03,\n",
       "               7.39185605e-03,  1.00616254e-02, -2.06461512e-02,  1.04834335e-02,\n",
       "              -1.54023674e-05, -1.30225793e-02, -1.52496789e-02, -3.10952356e-03,\n",
       "              -2.81472728e-02, -5.06470818e-03,  5.68891224e-03,  1.05427131e-02,\n",
       "               2.23338678e-02,  1.60754658e-02,  4.66143107e-03,  3.33691109e-03,\n",
       "               1.32341450e-02, -4.36562439e-03,  3.85653041e-02,  1.96872186e-02,\n",
       "              -1.02002677e-02, -1.59976780e-02, -1.07133379e-02, -3.36857978e-03,\n",
       "              -1.66152399e-02,  1.89627148e-02, -2.48093307e-02,  1.35487933e-02,\n",
       "              -2.63921358e-02, -2.49736998e-02,  1.94831956e-02,  1.56555567e-02,\n",
       "              -1.68024320e-02, -5.17671071e-02, -7.12909270e-03, -3.71981002e-02,\n",
       "               1.52157824e-02,  2.42443662e-02, -1.33215915e-02, -1.32288011e-02,\n",
       "               1.78392753e-02, -1.72418766e-02, -2.91273240e-02,  2.62963697e-02,\n",
       "              -5.16013522e-03,  1.54951597e-02,  1.15170758e-02,  9.95027274e-03,\n",
       "               3.84675004e-02,  4.75054048e-03, -1.19945174e-02, -3.56957014e-03,\n",
       "               3.13262977e-02,  1.75419748e-02,  2.84166727e-02,  4.25819270e-02,\n",
       "              -3.66140669e-03, -1.87390149e-02,  1.07953111e-02, -2.65958719e-03,\n",
       "              -9.05631576e-04, -1.00112930e-02, -1.23193795e-02,  5.07672206e-02,\n",
       "              -1.52811818e-02, -9.09723248e-03,  1.48797408e-02, -3.38791707e-03,\n",
       "              -3.29018123e-02, -4.05598097e-02, -1.27668008e-02, -1.73305557e-03,\n",
       "               2.20032912e-02,  1.77469328e-02,  3.08603775e-02, -1.59064699e-02,\n",
       "              -8.11365712e-03, -1.77512374e-02,  6.13459107e-03, -6.78039109e-03,\n",
       "               5.70531050e-03, -1.08685149e-02, -1.82457063e-02, -2.16092006e-03,\n",
       "               4.87778941e-03, -2.18440033e-02, -2.13239845e-02, -6.72248192e-03,\n",
       "              -1.00544654e-02,  3.03570088e-03,  5.07652946e-02, -1.43916840e-02,\n",
       "               1.13335233e-02, -2.65646130e-02,  4.19577286e-02,  2.27332730e-02,\n",
       "              -2.92295460e-02, -9.69657302e-03, -2.52309851e-02,  2.30784938e-02,\n",
       "              -5.02504548e-03, -8.21672101e-03, -1.41791496e-02, -6.03408460e-03,\n",
       "              -9.44136758e-04,  5.66803664e-03, -2.03276612e-02, -2.72205751e-02,\n",
       "              -1.72411390e-02, -2.79224245e-03, -4.70434967e-03, -9.72188544e-03,\n",
       "               1.32517802e-04,  2.13140361e-02,  8.53728224e-03,  1.93174444e-02,\n",
       "               2.60758698e-02, -2.90071797e-02,  2.35570548e-03, -6.81088585e-03,\n",
       "               6.36158837e-03,  1.40408417e-02, -2.18820678e-05, -2.68825479e-02,\n",
       "              -1.09461127e-02, -6.52218144e-03,  2.41620205e-02, -1.90485036e-03,\n",
       "              -1.21505968e-02,  5.53428475e-03, -1.50532955e-02, -3.52925691e-03,\n",
       "              -1.53111070e-02, -1.83402319e-02, -1.38103217e-03, -9.58349090e-03,\n",
       "              -6.90725492e-03,  1.13406526e-02,  1.83493663e-02, -3.43697472e-03,\n",
       "               2.96346331e-03, -2.89983544e-02,  2.78605968e-02, -1.27617484e-02,\n",
       "               1.56924427e-02,  1.48500912e-02, -1.62021052e-02, -1.46968430e-02,\n",
       "               5.34957554e-03, -2.91211046e-02, -9.22150537e-03,  9.90439951e-03,\n",
       "               2.21578963e-02, -1.73209794e-02, -1.18763633e-02, -4.04765317e-03,\n",
       "              -2.88077928e-02, -2.25030687e-02, -1.47992382e-02, -1.21482266e-02,\n",
       "               1.68588720e-02, -4.54785209e-03, -1.98954763e-03,  1.67350937e-02,\n",
       "               1.67867672e-02,  1.54898455e-02,  1.22152613e-02,  2.85633653e-02,\n",
       "               1.66977458e-02,  5.47804404e-03, -1.75659321e-02,  1.59766935e-02,\n",
       "               4.39709140e-04, -1.11455629e-02, -2.53155315e-03, -1.82248540e-02,\n",
       "               1.04878861e-02,  1.26209352e-02, -2.16408689e-02, -9.33016278e-03,\n",
       "               5.38628083e-03, -7.54707539e-03, -3.28304432e-03,  2.53323503e-02,\n",
       "              -2.84690876e-02, -3.22356704e-03, -2.64333765e-04,  1.83547996e-02,\n",
       "               2.65514432e-03,  5.90492738e-03, -3.09682973e-02,  1.30290994e-02,\n",
       "               1.04358615e-02,  1.21904220e-02, -4.87011811e-03, -8.31490662e-03,\n",
       "              -8.97639059e-03,  1.66563429e-02,  3.70151270e-03, -5.80914039e-03,\n",
       "               8.71595833e-03, -1.73856691e-02,  3.21480297e-02,  2.23617423e-02,\n",
       "               1.38498964e-02, -1.82447303e-02,  1.00246267e-02, -2.24860990e-03,\n",
       "              -1.06388535e-02, -1.01009859e-02,  3.03785875e-02,  6.29105419e-03,\n",
       "               2.28525754e-02, -1.55433398e-02,  1.79320406e-02,  1.19813811e-03,\n",
       "               1.17578795e-02, -1.10104093e-02, -1.46924462e-02, -2.82816365e-02,\n",
       "              -4.53982642e-03,  2.14660820e-02,  1.18352810e-03,  3.76188606e-02,\n",
       "              -2.58801761e-03, -2.02634856e-02, -1.05084432e-02,  3.59739037e-03,\n",
       "               6.05922518e-03,  2.25930344e-02,  2.77454872e-02, -1.60885546e-02,\n",
       "               1.56043060e-02,  8.91854800e-03, -2.31041480e-02, -2.61202436e-02,\n",
       "               3.21629271e-02,  4.59787156e-03, -1.40441507e-02,  1.62907857e-02,\n",
       "               3.06613799e-02,  5.50440252e-02, -2.90010665e-02, -1.32780941e-02,\n",
       "              -2.00420320e-02, -1.33078713e-02,  8.37498956e-05,  2.67193075e-02,\n",
       "               3.60461771e-02, -2.48882221e-03,  1.48311332e-02, -2.16926876e-02,\n",
       "              -1.00954426e-02, -2.33797412e-02,  1.72442605e-03,  6.34744111e-03,\n",
       "               3.91267892e-03,  5.07566892e-03,  2.04799827e-02,  1.25139449e-02,\n",
       "              -9.47866868e-03, -1.62799121e-03, -3.06522101e-02, -4.78741108e-03,\n",
       "               6.30561356e-03, -1.48484309e-04, -1.35679686e-04,  3.72927496e-03,\n",
       "              -4.55579795e-02,  1.15368757e-02, -4.89576766e-03, -2.76673753e-02,\n",
       "              -5.73423738e-03, -1.75292138e-02,  1.05701219e-02,  1.46322779e-03],\n",
       "             dtype=float32)                                                       ,\n",
       "       array([-9.80183482e-03,  1.05376821e-02,  1.06862476e-02,  2.10998654e-02,\n",
       "              -2.12806854e-02, -1.75244398e-02,  1.84763465e-02, -2.67600380e-02,\n",
       "               3.29721943e-02,  2.00280193e-02, -2.03393158e-02, -3.09266746e-02,\n",
       "              -6.82798028e-03,  1.77905317e-02, -5.99023290e-02,  1.03298118e-02,\n",
       "              -1.17131192e-02,  3.44755985e-02,  5.61118545e-03, -4.32081074e-02,\n",
       "               9.08306148e-03,  4.80555510e-03, -1.41816924e-03,  1.65914570e-03,\n",
       "               2.29386259e-02,  1.29529741e-02, -3.03351935e-02, -2.28821486e-03,\n",
       "               3.99180781e-03,  3.01988721e-02,  1.94054784e-03, -3.57749276e-02,\n",
       "              -3.02924756e-02, -1.35663459e-02,  1.28327608e-02, -8.16754065e-03,\n",
       "               5.87207498e-03,  7.52931600e-03,  5.51289041e-03,  1.69371031e-02,\n",
       "               2.44646054e-02, -8.69392511e-03,  4.31183986e-02,  1.24406759e-02,\n",
       "              -1.82118677e-02, -1.68191679e-02, -3.21800797e-03,  2.56491937e-02,\n",
       "              -1.67574286e-02,  2.40281187e-02, -7.73398322e-04,  2.22153608e-02,\n",
       "              -9.64658055e-03, -3.31817823e-03,  7.83762243e-03,  2.08056234e-02,\n",
       "              -5.23292422e-02, -2.09817085e-02, -9.91274975e-03, -2.77130827e-02,\n",
       "              -1.62118487e-02, -1.44323204e-02, -9.96413361e-03,  3.11032636e-03,\n",
       "               7.64010288e-03, -7.82856997e-03,  6.10059651e-04,  2.80973148e-02,\n",
       "              -3.59003292e-03,  2.25844961e-02, -1.62091479e-02, -2.94332916e-04,\n",
       "               3.35591026e-02,  2.06292551e-02, -2.17472576e-02, -2.29600351e-02,\n",
       "               1.68870445e-02,  5.32705896e-02,  1.55661721e-02,  3.64208557e-02,\n",
       "               1.79736912e-02, -1.61274318e-02, -2.66440469e-03,  1.98313203e-02,\n",
       "               1.47593180e-02, -2.11128984e-02, -3.60927843e-02,  3.20396796e-02,\n",
       "              -6.23629941e-03,  2.46160887e-02,  3.20642143e-02, -2.09534764e-02,\n",
       "              -2.13061478e-02, -2.96894498e-02, -9.98667162e-03, -3.51021029e-02,\n",
       "              -4.95715183e-04,  7.14968611e-03,  1.98541265e-02, -2.67088059e-02,\n",
       "              -7.30192056e-03,  7.21762329e-03,  7.92681985e-03,  3.23644700e-03,\n",
       "               1.42235942e-02, -7.54523557e-03,  1.79616045e-02, -4.13527414e-02,\n",
       "               1.08519709e-02, -1.93222128e-02, -6.27263309e-03, -2.19004884e-04,\n",
       "              -2.58333646e-02,  1.25202043e-02,  1.71278510e-02, -8.00010655e-03,\n",
       "               4.82481811e-03,  1.22439479e-02,  4.44851704e-02,  3.70834731e-02,\n",
       "              -3.37277912e-02, -7.08291627e-05, -3.76774147e-02,  3.20942439e-02,\n",
       "              -1.52681237e-02, -1.05966069e-02,  1.74949691e-02, -2.05607042e-02,\n",
       "               8.42911133e-04,  7.24217482e-03,  1.54195512e-02, -4.09785239e-03,\n",
       "              -1.47862015e-02, -2.52085570e-02, -1.39639378e-02, -1.38560589e-02,\n",
       "               6.84159808e-03,  1.05420814e-03, -1.13114435e-02,  7.60330586e-03,\n",
       "               2.85409559e-02, -2.90134866e-02, -9.50396340e-03,  2.64543435e-03,\n",
       "              -1.63903530e-03, -1.56062504e-03, -1.11496812e-02, -4.31414042e-03,\n",
       "              -2.07121838e-02, -6.63396530e-03,  2.99445465e-02, -1.38084614e-03,\n",
       "              -2.70684739e-03, -6.32781582e-03,  1.98332723e-02, -1.07653933e-02,\n",
       "              -2.30220500e-02, -2.16557030e-02,  1.04253432e-02, -6.44491892e-03,\n",
       "              -6.14310848e-03,  2.49107648e-02,  2.05461811e-02, -3.10734883e-02,\n",
       "               2.43317205e-02, -2.90439483e-02,  1.93619113e-02, -4.72221430e-03,\n",
       "               3.18499170e-02,  1.64381042e-02, -2.38509644e-02, -5.97116398e-03,\n",
       "              -1.35130004e-03, -3.46663073e-02,  2.75747795e-02, -4.05869000e-02,\n",
       "               3.28541808e-02, -1.87117271e-02, -2.12278627e-02, -3.81568559e-02,\n",
       "              -4.13293801e-02, -3.05815376e-02,  7.75648654e-03, -1.17781423e-02,\n",
       "               1.66925378e-02, -5.08033810e-03,  1.20946374e-02,  2.25925911e-02,\n",
       "               1.22188320e-02,  2.83283647e-02, -1.37942117e-02,  5.80149796e-03,\n",
       "              -5.32185147e-03,  1.44376317e-02, -3.44812684e-02,  1.54367387e-02,\n",
       "               5.25084743e-03, -7.70422677e-03, -8.44134670e-03, -6.16928227e-02,\n",
       "              -7.86614721e-04,  2.31027827e-02,  1.14154322e-02,  1.35128270e-03,\n",
       "              -2.91516166e-03,  5.84961963e-04,  2.39032600e-03, -5.76966489e-03,\n",
       "              -3.33005786e-02, -8.78112018e-03, -2.04952545e-02,  1.54919643e-02,\n",
       "              -1.37218433e-02,  3.24859731e-02, -5.28060868e-02, -1.52825587e-03,\n",
       "               1.39392307e-02,  1.86699368e-02, -3.82038355e-02,  4.63074539e-03,\n",
       "              -1.04222801e-02, -1.62883122e-02, -4.89700492e-03, -6.60914369e-03,\n",
       "               1.85417887e-02, -3.47524658e-02,  2.59468835e-02,  1.68171339e-02,\n",
       "               3.70609164e-02,  2.84148077e-03,  9.46172047e-03, -9.16167814e-03,\n",
       "               1.87251139e-02,  1.89774181e-03,  2.90592816e-02,  8.76649097e-03,\n",
       "               4.89440607e-03, -1.51049756e-02,  1.92160420e-02, -2.74699964e-02,\n",
       "              -2.41219695e-03, -1.00855688e-02, -1.41419168e-03, -2.48884317e-02,\n",
       "              -1.47087453e-03, -4.17702831e-04, -3.53130046e-03,  7.26928748e-03,\n",
       "               1.40617946e-02, -5.76637266e-03,  6.91379001e-03, -1.80645334e-03,\n",
       "               1.86215155e-03,  5.14435768e-03,  1.56719442e-02,  7.05237826e-03,\n",
       "               2.91189831e-02,  5.64450258e-03,  3.71826882e-03, -9.39516816e-03,\n",
       "               1.39829582e-02,  1.22825531e-02, -7.89423473e-03,  1.85378408e-03,\n",
       "               4.24239486e-02,  3.49021032e-02, -2.39218771e-02, -2.20300294e-02,\n",
       "              -2.90487893e-02, -1.45728402e-02,  5.16419346e-03,  5.36050797e-02,\n",
       "               3.21360677e-02, -1.78121701e-02,  5.94731281e-03,  7.40246195e-03,\n",
       "              -2.39182748e-02, -2.20209248e-02,  1.18914573e-02,  2.02577170e-02,\n",
       "              -1.24876937e-02,  1.73867475e-02,  1.17103849e-02,  2.21607145e-02,\n",
       "              -6.49383524e-04, -1.32118883e-02, -4.17292491e-02,  3.12191825e-02,\n",
       "               2.98956688e-02,  7.77156558e-03, -1.22801168e-02,  1.47200087e-02,\n",
       "              -6.83940854e-03, -5.98619052e-04, -7.29859946e-03, -2.80967657e-03,\n",
       "              -2.20433765e-04,  6.13328302e-03,  1.42745757e-02,  6.73558330e-04],\n",
       "             dtype=float32)                                                       ,\n",
       "       ...,\n",
       "       array([ 0.01923722,  0.01079524,  0.00098126,  0.03082575, -0.0099099 ,\n",
       "              -0.0102294 ,  0.02209855, -0.02809184,  0.03742767,  0.02609691,\n",
       "              -0.01520166, -0.02863746,  0.00080527,  0.00043603, -0.02439222,\n",
       "               0.02131515,  0.02693806,  0.03378148,  0.01524571, -0.0246483 ,\n",
       "               0.00166568,  0.01786634,  0.01350699, -0.01307132,  0.01964562,\n",
       "              -0.00025511, -0.01482481,  0.01935032,  0.03892742, -0.00348083,\n",
       "              -0.01681379, -0.01957081, -0.02189334, -0.01805221, -0.00596505,\n",
       "              -0.00426395,  0.01258191, -0.00503087, -0.00351602,  0.00916065,\n",
       "               0.01152738, -0.02375325,  0.04375678,  0.00982499, -0.0040105 ,\n",
       "               0.00309581, -0.01103989,  0.00394583,  0.00462829,  0.02398437,\n",
       "              -0.03116128,  0.02716848, -0.01067163, -0.01040894, -0.00365793,\n",
       "               0.00693682, -0.02387866, -0.03563398, -0.01074446, -0.03608029,\n",
       "              -0.00382703,  0.02279988, -0.02769075, -0.01664427,  0.0032845 ,\n",
       "              -0.00859105, -0.02086265,  0.01421262,  0.01449073,  0.02985168,\n",
       "               0.01772546,  0.00021712,  0.02036322,  0.01244765, -0.01578763,\n",
       "              -0.00348713,  0.01121253,  0.00906045,  0.03279085,  0.0362353 ,\n",
       "              -0.00123994, -0.02228831,  0.00987716, -0.0008716 , -0.00539083,\n",
       "              -0.01659801, -0.03903786,  0.03087599,  0.01714462,  0.0037136 ,\n",
       "               0.00569041, -0.00666284, -0.03482975, -0.02548437, -0.02146728,\n",
       "              -0.01933526,  0.01816243,  0.00893937, -0.0034181 , -0.03211294,\n",
       "              -0.01413205, -0.02165005,  0.00183016, -0.00784774, -0.00906558,\n",
       "              -0.01551454,  0.00241261, -0.0230594 , -0.00148206, -0.02581433,\n",
       "              -0.00245798, -0.00078025,  0.00463437, -0.01298219,  0.03916688,\n",
       "              -0.0020825 ,  0.00463925, -0.01719904,  0.02840993,  0.01737438,\n",
       "              -0.02002219, -0.01224829, -0.0014782 ,  0.00027492, -0.00011347,\n",
       "              -0.01812104, -0.00545757,  0.00912369,  0.01003371,  0.01953975,\n",
       "              -0.02589209, -0.0218059 , -0.01231018,  0.00966509, -0.01186744,\n",
       "              -0.00887719,  0.00396049,  0.00928327,  0.00584121,  0.03122704,\n",
       "               0.01836114, -0.00381373,  0.00475958, -0.00494306, -0.00616488,\n",
       "               0.01658802, -0.00255382, -0.01253073, -0.00557095, -0.0055594 ,\n",
       "               0.02997689,  0.00061689, -0.01327359,  0.01249225, -0.0084558 ,\n",
       "              -0.01263644, -0.00773572, -0.02306135, -0.01141767, -0.00212528,\n",
       "              -0.01928406,  0.01002823,  0.02906535,  0.01752773,  0.01332105,\n",
       "              -0.01816298,  0.01849334, -0.00855379,  0.0073967 ,  0.00685269,\n",
       "              -0.01914257, -0.02044488, -0.00325437, -0.03575772, -0.01105871,\n",
       "              -0.00765042,  0.03385037, -0.01888346, -0.02103533, -0.003297  ,\n",
       "              -0.0418752 , -0.01879455,  0.00741668, -0.00792845, -0.01731727,\n",
       "              -0.00851107,  0.00108999, -0.00450183,  0.03444438, -0.00038436,\n",
       "               0.01902221,  0.01859195,  0.02792332,  0.00104592, -0.02587029,\n",
       "               0.02200131, -0.00990592, -0.00825281, -0.01865413, -0.03670585,\n",
       "              -0.01466518,  0.02321708, -0.00666514, -0.01145618,  0.02352944,\n",
       "              -0.01041103, -0.00394648,  0.0192026 , -0.01481402, -0.00539295,\n",
       "              -0.02661336,  0.00526244, -0.00590091,  0.00225326, -0.04112531,\n",
       "               0.00649446,  0.01223088,  0.00834113, -0.01975492, -0.01672552,\n",
       "              -0.01741244,  0.01591848,  0.00022431, -0.00107569,  0.00422652,\n",
       "              -0.01275734,  0.00202396,  0.02853383,  0.01067669, -0.00900454,\n",
       "              -0.0007622 , -0.00204426, -0.01701183,  0.00686833,  0.02549922,\n",
       "               0.00515744,  0.00571927, -0.02122283,  0.01246696,  0.01138278,\n",
       "               0.01912562,  0.01144003, -0.00828283, -0.03156475, -0.01088015,\n",
       "               0.01822379,  0.0028263 ,  0.01890357,  0.00558554, -0.01811319,\n",
       "              -0.01570431,  0.01697805,  0.00946309,  0.02278247,  0.0336109 ,\n",
       "              -0.00984762,  0.00670681, -0.01911949, -0.02041807, -0.02233268,\n",
       "               0.00264687,  0.00146102, -0.01159986,  0.0032573 ,  0.01599056,\n",
       "               0.03145579, -0.0201565 , -0.00446961, -0.01744821, -0.00285548,\n",
       "              -0.00554939,  0.02852347,  0.02723181,  0.00244134,  0.02702867,\n",
       "              -0.020185  , -0.01325573, -0.00999981, -0.01183503, -0.00098967,\n",
       "               0.00740179, -0.00922318, -0.00250878,  0.02403604, -0.00109787,\n",
       "              -0.01951095, -0.03489605,  0.0061221 ,  0.00118059,  0.01523091,\n",
       "              -0.0029506 ,  0.00148955, -0.03988516,  0.00149356, -0.0089807 ,\n",
       "              -0.02501479, -0.0046345 , -0.01460888,  0.00698401,  0.00266399],\n",
       "             dtype=float32)                                                    ,\n",
       "       array([ 1.72264744e-02,  6.82597840e-03,  1.36429863e-03,  3.32724415e-02,\n",
       "              -1.50894700e-02, -1.36423307e-02,  1.51696503e-02, -1.99721064e-02,\n",
       "               3.49038802e-02,  2.43245177e-02, -2.15386152e-02, -2.04012189e-02,\n",
       "              -4.11432981e-03,  2.83022206e-02, -2.21608337e-02,  1.97781902e-02,\n",
       "               1.44572882e-02,  3.51219773e-02, -7.14433700e-05, -2.43896507e-02,\n",
       "               1.24222934e-02,  1.75684579e-02,  2.04450767e-02, -1.31749921e-02,\n",
       "               2.16924716e-02,  2.33675563e-03, -1.98635012e-02,  1.66611187e-02,\n",
       "               2.99698431e-02, -7.90427439e-03, -1.12245036e-02, -4.73526632e-03,\n",
       "              -1.91460457e-02,  3.66235431e-03,  8.49424116e-03, -1.03895058e-04,\n",
       "               1.92201529e-02, -1.07208416e-02, -1.89913961e-03,  2.00999584e-02,\n",
       "               3.13321464e-02, -1.21335695e-02,  3.50372717e-02,  8.81742220e-04,\n",
       "              -6.94603706e-03, -2.29972713e-02, -1.25806909e-02,  1.94784366e-02,\n",
       "              -1.26656843e-02,  1.34404656e-02, -1.19258119e-02,  1.89622883e-02,\n",
       "              -1.37870386e-02, -1.53388886e-04,  1.24793984e-02,  9.67215374e-03,\n",
       "              -2.46404540e-02, -2.51738466e-02,  3.73625522e-03, -3.49903144e-02,\n",
       "              -6.11288752e-03,  3.03393789e-02, -2.92443167e-02, -6.72544679e-03,\n",
       "               1.41307004e-02, -1.32447435e-02, -2.93799546e-02,  2.03179494e-02,\n",
       "               2.71774689e-03,  2.54745465e-02,  1.56105924e-02, -7.90490117e-03,\n",
       "               1.47327306e-02,  1.08085983e-02, -1.09336926e-02, -2.31945161e-02,\n",
       "               1.19001176e-02,  2.06909906e-02,  3.42600793e-02,  3.85183766e-02,\n",
       "               3.96013213e-03, -2.22016275e-02,  3.07781994e-03, -9.38260928e-03,\n",
       "              -1.50401518e-02, -1.46764880e-02, -4.46649007e-02,  2.59135943e-02,\n",
       "               1.73503608e-02,  1.91479400e-02,  3.07527110e-02, -9.24058072e-03,\n",
       "              -2.38008834e-02, -3.98031287e-02, -1.85281187e-02, -2.07587704e-02,\n",
       "               1.23090418e-02,  1.66853163e-02,  1.45793697e-02, -3.15359570e-02,\n",
       "              -1.31526692e-02, -2.05024462e-02,  2.06906255e-02,  5.95555268e-03,\n",
       "              -2.86740647e-03, -2.37394609e-02,  1.84304066e-04, -1.53052192e-02,\n",
       "               4.06051520e-04, -1.04317293e-02, -1.13181323e-02,  6.86591631e-03,\n",
       "               5.74140390e-03,  5.81116928e-03,  3.60342264e-02, -4.09387890e-03,\n",
       "               1.58217922e-02, -2.22642105e-02,  3.33132707e-02,  3.34706120e-02,\n",
       "              -2.08058823e-02, -6.99680997e-03, -2.28628311e-02,  7.75297685e-03,\n",
       "              -1.18123554e-02, -1.26236146e-02, -1.92583760e-03, -1.27142370e-02,\n",
       "               5.91058563e-03,  4.29372257e-03, -1.69649944e-02, -3.48594449e-02,\n",
       "              -2.53911633e-02,  7.60628900e-05, -1.00308773e-03, -4.22495045e-03,\n",
       "               4.20911843e-03,  1.60368066e-02,  9.78605449e-03,  2.64255926e-02,\n",
       "               1.51262628e-02, -1.83502585e-02,  1.42921461e-03, -1.23738572e-02,\n",
       "               1.04836095e-03,  1.47846183e-02,  2.33404106e-03, -3.27630602e-02,\n",
       "              -1.60689410e-02, -1.04857739e-02,  3.29700261e-02,  1.56302191e-02,\n",
       "              -1.63727440e-02,  8.15703440e-03,  9.96374432e-03, -1.55667113e-02,\n",
       "              -1.19675370e-03, -2.86882110e-02, -1.22993803e-02, -2.20320895e-02,\n",
       "              -1.58892721e-02,  1.57332290e-02,  2.41936333e-02,  5.33864088e-03,\n",
       "               1.25899129e-02, -3.23239043e-02,  1.92159303e-02, -1.30144283e-02,\n",
       "               6.56133983e-03,  1.57726742e-02, -1.05916923e-02, -5.29011805e-03,\n",
       "               6.69468055e-03, -4.15209904e-02,  3.89260659e-03, -5.36349555e-03,\n",
       "               3.42142060e-02, -5.50407218e-03, -1.20581007e-02, -1.13811847e-02,\n",
       "              -4.38876934e-02, -1.67432744e-02,  1.66522013e-03, -8.87721870e-03,\n",
       "              -1.61030609e-02, -1.84853710e-02, -2.54107057e-03,  2.30313191e-04,\n",
       "               3.15417647e-02,  1.70192476e-02, -2.71642173e-04,  1.52415475e-02,\n",
       "               3.29202972e-03,  3.61027988e-03, -2.20822301e-02,  1.49435448e-02,\n",
       "              -3.18434974e-03, -4.29357495e-03, -1.83612835e-02, -2.62389388e-02,\n",
       "              -1.22165065e-02,  1.69660300e-02, -9.87315085e-03, -1.31684188e-02,\n",
       "               1.03409709e-02, -1.55899106e-02, -6.11829711e-03,  2.21930277e-02,\n",
       "              -1.75407473e-02, -1.91976894e-02, -1.56738292e-02,  1.88548304e-02,\n",
       "               3.18483170e-03,  4.64120385e-05, -2.98165958e-02,  1.32966437e-03,\n",
       "               1.75341964e-02,  6.34709839e-03, -2.72449236e-02, -2.79132859e-03,\n",
       "               4.97767120e-04,  1.10161202e-02,  1.03294440e-02, -1.20960772e-02,\n",
       "               1.54945524e-02, -2.73567624e-02,  1.30165964e-02,  1.91587005e-02,\n",
       "               9.81634855e-03, -3.63371888e-04, -2.34208605e-03,  6.58727577e-03,\n",
       "              -1.66948028e-02,  3.37563129e-03,  2.30633244e-02,  7.66074285e-04,\n",
       "               9.18139052e-03, -2.11326499e-02,  1.46640716e-02, -7.15737813e-04,\n",
       "               1.11739514e-02, -1.34776589e-02, -1.12545518e-02, -3.29498127e-02,\n",
       "              -1.86381508e-02,  1.60842892e-02,  4.50119888e-03,  2.73470692e-02,\n",
       "               2.62005138e-03, -2.81329751e-02, -1.74467806e-02,  2.92406268e-02,\n",
       "               4.71130153e-03,  1.18551897e-02,  1.43684875e-02, -8.53577536e-03,\n",
       "               5.85722784e-03,  7.84585532e-03, -9.76015627e-03, -2.14751214e-02,\n",
       "               1.11337740e-03, -4.28022165e-03, -1.81823317e-02,  8.35949928e-03,\n",
       "               1.53342430e-02,  4.06652242e-02, -2.43011257e-03,  1.01024716e-03,\n",
       "              -2.70191543e-02,  4.72295657e-03,  1.56083480e-02,  3.86333056e-02,\n",
       "               4.08885293e-02,  3.16664972e-03,  2.31779739e-02, -3.12021766e-02,\n",
       "              -1.54342661e-02, -2.94906665e-02, -5.60722919e-03, -5.13770524e-03,\n",
       "               1.91816140e-03, -5.57875354e-03,  2.27980083e-03,  2.39545200e-02,\n",
       "               7.60570774e-03, -3.56404856e-03, -2.64722388e-02,  6.64215209e-03,\n",
       "               1.20422794e-02,  1.45615162e-02,  3.68583668e-03, -2.55192840e-03,\n",
       "              -3.65049914e-02, -3.12901614e-03, -1.27651757e-02, -2.53076069e-02,\n",
       "              -8.91233888e-03, -1.65945776e-02,  1.56645179e-02, -3.90899507e-03],\n",
       "             dtype=float32)                                                       ,\n",
       "       array([ 1.39972251e-02,  1.31067280e-02, -3.77496326e-04,  2.84103528e-02,\n",
       "              -1.88098438e-02, -2.25503128e-02,  1.60425007e-02, -6.22506021e-03,\n",
       "               3.94909978e-02,  9.36402101e-03, -3.18753645e-02, -1.78812668e-02,\n",
       "              -2.27967687e-02,  2.21406557e-02, -4.68381979e-02,  2.97021549e-02,\n",
       "               3.92962135e-02,  3.42596360e-02,  7.57016614e-03, -2.73810830e-02,\n",
       "              -3.22983658e-04,  9.72592272e-03,  3.09274346e-02,  2.96136201e-03,\n",
       "               1.33553799e-02,  1.36644524e-02, -2.85449233e-02,  2.31708953e-04,\n",
       "               1.47923157e-02,  1.05220685e-02,  1.15427272e-02,  9.50621348e-03,\n",
       "              -3.31041254e-02, -1.74208023e-02,  8.85359850e-03,  7.31576001e-03,\n",
       "               2.55223159e-02,  7.09281443e-03, -1.64647680e-02,  1.61448773e-02,\n",
       "               1.06652174e-02, -1.76368076e-02,  5.52013665e-02, -5.72386314e-04,\n",
       "              -5.74853346e-02, -1.06543526e-02,  6.23940444e-03,  2.22253725e-02,\n",
       "              -2.23142523e-02,  2.24991366e-02, -4.83401818e-03,  8.82118382e-03,\n",
       "              -2.01969463e-02, -8.93048476e-03, -5.37930289e-04,  1.27822347e-02,\n",
       "              -2.63736900e-02, -1.80340614e-02, -2.88127665e-03, -2.46802717e-02,\n",
       "              -8.46820709e-04,  1.82742923e-02, -3.81482095e-02, -6.20643422e-03,\n",
       "               1.75740998e-02,  7.46003492e-03, -4.78852773e-03,  5.00828139e-02,\n",
       "               6.31682342e-03,  3.01307999e-02,  6.87876530e-03,  1.83245689e-02,\n",
       "               3.52115445e-02,  2.35143062e-02, -7.07308576e-03, -1.97843686e-02,\n",
       "               1.52720409e-02,  2.28746627e-02,  1.12469187e-02,  3.14125977e-02,\n",
       "              -2.71285162e-03, -2.69366335e-02, -2.02043424e-03,  6.11659884e-03,\n",
       "               6.22054702e-03, -2.32084282e-02, -3.48357186e-02,  1.72415711e-02,\n",
       "               6.03212789e-03,  5.34833921e-03,  5.70023321e-02, -1.69295035e-02,\n",
       "              -2.62803715e-02, -2.98002958e-02,  1.39947340e-03, -2.21825112e-02,\n",
       "               1.38463918e-02,  7.18891434e-03,  1.34384036e-02, -3.17390226e-02,\n",
       "              -6.40658953e-04, -3.55472788e-02,  1.32649941e-02,  6.77219499e-03,\n",
       "               1.26367342e-02, -3.20978090e-02, -2.96388706e-03, -3.56690139e-02,\n",
       "               8.64882767e-03, -2.66630631e-02, -4.61257808e-03, -1.66235920e-02,\n",
       "              -1.25175919e-02,  6.37176540e-03,  3.82358097e-02,  2.65667588e-03,\n",
       "               3.89614999e-02, -1.41362045e-02,  5.06582633e-02,  2.60347612e-02,\n",
       "              -2.81389151e-02,  9.79549368e-04, -8.84140842e-03,  8.29458609e-03,\n",
       "               1.10871876e-02, -2.15150248e-02,  4.30069864e-04, -2.56094430e-02,\n",
       "               1.87624879e-02,  1.59876179e-02, -9.28571826e-05, -2.32422315e-02,\n",
       "              -3.48995090e-03, -2.74421684e-02, -2.15896349e-02, -6.12602057e-03,\n",
       "              -5.80158411e-03, -4.84338915e-03, -9.48396046e-03,  2.06409376e-02,\n",
       "               1.17567116e-02, -2.81099658e-02, -1.09994169e-02,  2.95784441e-03,\n",
       "              -4.03355062e-03, -6.17096573e-03, -7.56181404e-03, -2.98421867e-02,\n",
       "              -7.62772281e-03, -2.71283882e-03,  3.46221030e-02, -1.46860136e-02,\n",
       "              -6.68452727e-03,  2.08151806e-03,  1.36426901e-02, -9.41999350e-03,\n",
       "              -8.84121284e-03, -3.07287853e-02, -2.18206532e-02,  2.97505106e-03,\n",
       "              -1.06481360e-02,  5.49679797e-04,  2.08252594e-02, -3.03620892e-03,\n",
       "               2.75594927e-03, -4.71064784e-02,  2.25748178e-02, -2.57267151e-02,\n",
       "               4.32567671e-02,  1.14085516e-02, -1.67493224e-02,  5.32613555e-03,\n",
       "               3.35937575e-03, -4.35431339e-02, -4.50000307e-03, -3.85809839e-02,\n",
       "               3.19712497e-02,  4.13067872e-03, -3.30020785e-02, -1.40233133e-02,\n",
       "              -5.71322441e-02, -1.27044739e-02, -1.12604052e-02,  4.34470596e-03,\n",
       "               1.25963148e-02, -1.55189410e-02, -1.75898373e-02,  1.78082138e-02,\n",
       "               2.85672508e-02,  2.36915760e-02,  3.71153699e-03,  5.17270854e-03,\n",
       "               1.46770142e-02,  1.62130520e-02, -2.87555978e-02,  1.86013039e-02,\n",
       "               1.35477362e-02,  6.28419500e-03,  4.77401400e-03, -2.03269552e-02,\n",
       "              -2.67496295e-02,  2.29583140e-02,  1.93539653e-02, -7.77065568e-03,\n",
       "               1.24728363e-02, -5.57803642e-03,  2.13692579e-02, -1.15594398e-02,\n",
       "              -2.02838541e-03, -4.09820937e-02, -1.08352425e-02,  2.08210703e-02,\n",
       "              -6.18707214e-04,  1.82436239e-02, -2.67701223e-02,  1.35450030e-03,\n",
       "               1.15706250e-02,  1.01093519e-02, -8.17046314e-03, -5.30804601e-03,\n",
       "              -2.76748720e-03, -1.42546510e-03,  8.90697353e-03,  4.30202531e-03,\n",
       "               3.28332596e-02, -1.43199190e-02,  4.60767634e-02,  4.14073393e-02,\n",
       "               3.27802971e-02, -4.51677665e-03,  1.23834042e-02,  1.01801939e-02,\n",
       "              -1.06133735e-02, -6.52894611e-04, -2.19883327e-03,  4.49563423e-03,\n",
       "               8.64131004e-03, -1.14872996e-02,  2.35354248e-02, -2.50190869e-02,\n",
       "               9.83544812e-03, -1.13354288e-02, -1.10904744e-03, -2.67825108e-02,\n",
       "              -4.76493826e-03,  4.42093611e-03,  1.59929581e-02,  4.44856510e-02,\n",
       "               7.13149831e-03, -8.78637005e-03, -4.14542854e-02, -3.28410696e-03,\n",
       "              -3.31802323e-04,  2.77803559e-03,  1.18421419e-02,  6.34251675e-03,\n",
       "               2.82052699e-02,  2.35890858e-02, -4.26445529e-03, -1.42387562e-02,\n",
       "              -1.39381271e-03, -1.06201479e-02, -8.80681258e-03,  1.87927876e-02,\n",
       "               4.73529473e-03,  3.15352976e-02, -3.29811648e-02, -1.28106456e-02,\n",
       "              -3.85635681e-02,  1.43582271e-02,  1.18434345e-02,  4.17895466e-02,\n",
       "               3.14917862e-02, -2.38497071e-02, -5.58591029e-03, -1.99726550e-03,\n",
       "               1.22692843e-03, -5.24883568e-02, -3.98673490e-03, -1.75363943e-02,\n",
       "              -1.18680624e-02, -5.96432434e-03,  2.52037402e-03,  3.57232168e-02,\n",
       "              -1.69558376e-02, -2.36323383e-02, -3.34093124e-02,  1.03029273e-02,\n",
       "               2.94388849e-02,  1.39125232e-02, -2.48656310e-02, -9.03363898e-03,\n",
       "              -2.39534806e-02, -4.00016131e-03, -5.88358101e-03, -9.66142863e-03,\n",
       "              -1.42455250e-02, -2.66219536e-03,  2.94390284e-02,  1.46725762e-03],\n",
       "             dtype=float32)                                                       ],\n",
       "      dtype=object)"
      ]
     },
     "execution_count": 104,
     "metadata": {},
     "output_type": "execute_result"
    }
   ],
   "source": [
    "X_train"
   ]
  },
  {
   "cell_type": "markdown",
   "id": "dbb1af02",
   "metadata": {},
   "source": [
    "**Reshaping the X_train and X_test so as to fit for models**"
   ]
  },
  {
   "cell_type": "code",
   "execution_count": 105,
   "id": "f4a3f132",
   "metadata": {},
   "outputs": [
    {
     "name": "stdout",
     "output_type": "stream",
     "text": [
      "Shape of X_train before reshaping:  (7920,)\n",
      "Shape of X_test before reshaping:  (1980,)\n",
      "Shape of X_train after reshaping:  (7920, 300)\n",
      "Shape of X_test after reshaping:  (1980, 300)\n"
     ]
    }
   ],
   "source": [
    "print(\"Shape of X_train before reshaping: \", X_train.shape)\n",
    "print(\"Shape of X_test before reshaping: \", X_test.shape)\n",
    "\n",
    "\n",
    "X_train_2d = np.stack(X_train)\n",
    "X_test_2d =  np.stack(X_test)\n",
    "\n",
    "print(\"Shape of X_train after reshaping: \", X_train_2d.shape)\n",
    "print(\"Shape of X_test after reshaping: \", X_test_2d.shape)"
   ]
  },
  {
   "cell_type": "code",
   "execution_count": 106,
   "id": "01cac509",
   "metadata": {},
   "outputs": [
    {
     "name": "stdout",
     "output_type": "stream",
     "text": [
      "              precision    recall  f1-score   support\n",
      "\n",
      "           0       0.98      0.98      0.98      1000\n",
      "           1       0.98      0.98      0.98       980\n",
      "\n",
      "    accuracy                           0.98      1980\n",
      "   macro avg       0.98      0.98      0.98      1980\n",
      "weighted avg       0.98      0.98      0.98      1980\n",
      "\n"
     ]
    }
   ],
   "source": [
    "from sklearn.ensemble import GradientBoostingClassifier\n",
    "from sklearn.metrics import classification_report\n",
    "\n",
    "# 1. Creating an object of gradient Boosting classifier\n",
    "clf = GradientBoostingClassifier()\n",
    "clf.fit(X_train_2d,y_train)\n",
    "y_pred = clf.predict(X_test_2d)\n",
    "\n",
    "print(classification_report(y_test,y_pred))"
   ]
  },
  {
   "cell_type": "code",
   "execution_count": 107,
   "id": "e99c593b",
   "metadata": {},
   "outputs": [
    {
     "data": {
      "text/plain": [
       "array([1, 0, 0], dtype=int64)"
      ]
     },
     "execution_count": 107,
     "metadata": {},
     "output_type": "execute_result"
    }
   ],
   "source": [
    "test_news = [\n",
    "    \"Michigan governor denies misleading U.S. House on Flint water (Reuters) - Michigan Governor Rick Snyder denied Thursday that he had misled a U.S. House of Representatives committee last year over testimony on Flintâ€™s water crisis after lawmakers asked if his testimony had been contradicted by a witness in a court hearing. The House Oversight and Government Reform Committee wrote Snyder earlier Thursday asking him about published reports that one of his aides, Harvey Hollins, testified in a court hearing last week in Michigan that he had notified Snyder of an outbreak of Legionnairesâ€™ disease linked to the Flint water crisis in December 2015, rather than 2016 as Snyder had testified. â€œMy testimony was truthful and I stand by it,â€ Snyder told the committee in a letter, adding that his office has provided tens of thousands of pages of records to the committee and would continue to cooperate fully.  Last week, prosecutors in Michigan said Dr. Eden Wells, the stateâ€™s chief medical executive who already faced lesser charges, would become the sixth current or former official to face involuntary manslaughter charges in connection with the crisis. The charges stem from more than 80 cases of Legionnairesâ€™ disease and at least 12 deaths that were believed to be linked to the water in Flint after the city switched its source from Lake Huron to the Flint River in April 2014. Wells was among six current and former Michigan and Flint officials charged in June. The other five, including Michigan Health and Human Services Director Nick Lyon, were charged at the time with involuntary manslaughter\",\n",
    "    \" WATCH: Fox News Host Loses Her Sh*t, Says Investigating Russia For Hacking Our Election Is Unpatriotic This woman is insane.In an incredibly disrespectful rant against President Obama and anyone else who supports investigating Russian interference in our election, Fox News host Jeanine Pirro said that anybody who is against Donald Trump is anti-American. Look, it s time to take sides,  she began.\",\n",
    "    \" Sarah Palin Celebrates After White Man Who Pulled Gun On Black Protesters Goes Unpunished (VIDEO) Sarah Palin, one of the nigh-innumerable  deplorables  in Donald Trump s  basket,  almost outdid herself in terms of horribleness on Friday.\"\n",
    "]\n",
    "\n",
    "test_news_vectors = [preprocess_and_vectorize(news) for news in test_news]\n",
    "clf.predict(test_news_vectors)"
   ]
  },
  {
   "cell_type": "markdown",
   "id": "592d5fed",
   "metadata": {},
   "source": [
    "**Confusion Matrix for Best Model**"
   ]
  },
  {
   "cell_type": "code",
   "execution_count": 109,
   "id": "f1f44572",
   "metadata": {},
   "outputs": [
    {
     "data": {
      "text/plain": [
       "Text(69.0, 0.5, 'Truth')"
      ]
     },
     "execution_count": 109,
     "metadata": {},
     "output_type": "execute_result"
    },
    {
     "data": {
      "image/png": "[encoded data removed]",
      "text/plain": [
       "<Figure size 720x504 with 2 Axes>"
      ]
     },
     "metadata": {
      "needs_background": "light"
     },
     "output_type": "display_data"
    }
   ],
   "source": [
    "#finally print the confusion matrix for the best model (GradientBoostingClassifier)\n",
    "\n",
    "from sklearn.metrics import confusion_matrix\n",
    "cm = confusion_matrix(y_test, y_pred)\n",
    "cm\n",
    "\n",
    "\n",
    "from matplotlib import pyplot as plt\n",
    "import seaborn as sn\n",
    "plt.figure(figsize = (10,7))\n",
    "sn.heatmap(cm, annot=True, fmt='d')\n",
    "plt.xlabel('Prediction')\n",
    "plt.ylabel('Truth')"
   ]
  },
  {
   "cell_type": "code",
   "execution_count": null,
   "id": "03411a53",
   "metadata": {},
   "outputs": [],
   "source": []
  }
 ],
 "metadata": {
  "kernelspec": {
   "display_name": "Python 3 (ipykernel)",
   "language": "python",
   "name": "python3"
  },
  "language_info": {
   "codemirror_mode": {
    "name": "ipython",
    "version": 3
   },
   "file_extension": ".py",
   "mimetype": "text/x-python",
   "name": "python",
   "nbconvert_exporter": "python",
   "pygments_lexer": "ipython3",
   "version": "3.9.7"
  }
 },
 "nbformat": 4,
 "nbformat_minor": 5
}
