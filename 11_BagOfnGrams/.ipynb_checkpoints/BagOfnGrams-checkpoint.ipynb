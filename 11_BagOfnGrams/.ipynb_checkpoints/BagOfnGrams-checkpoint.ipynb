{
 "cells": [
  {
   "cell_type": "code",
   "execution_count": 9,
   "id": "c2895c1f",
   "metadata": {},
   "outputs": [],
   "source": [
    "from sklearn.feature_extraction.text import CountVectorizer\n",
    "cv = CountVectorizer(ngram_range=(1, 3))"
   ]
  },
  {
   "cell_type": "code",
   "execution_count": 10,
   "id": "44880d43",
   "metadata": {},
   "outputs": [
    {
     "data": {
      "text/html": [
       "<style>#sk-container-id-3 {color: black;background-color: white;}#sk-container-id-3 pre{padding: 0;}#sk-container-id-3 div.sk-toggleable {background-color: white;}#sk-container-id-3 label.sk-toggleable__label {cursor: pointer;display: block;width: 100%;margin-bottom: 0;padding: 0.3em;box-sizing: border-box;text-align: center;}#sk-container-id-3 label.sk-toggleable__label-arrow:before {content: \"▸\";float: left;margin-right: 0.25em;color: #696969;}#sk-container-id-3 label.sk-toggleable__label-arrow:hover:before {color: black;}#sk-container-id-3 div.sk-estimator:hover label.sk-toggleable__label-arrow:before {color: black;}#sk-container-id-3 div.sk-toggleable__content {max-height: 0;max-width: 0;overflow: hidden;text-align: left;background-color: #f0f8ff;}#sk-container-id-3 div.sk-toggleable__content pre {margin: 0.2em;color: black;border-radius: 0.25em;background-color: #f0f8ff;}#sk-container-id-3 input.sk-toggleable__control:checked~div.sk-toggleable__content {max-height: 200px;max-width: 100%;overflow: auto;}#sk-container-id-3 input.sk-toggleable__control:checked~label.sk-toggleable__label-arrow:before {content: \"▾\";}#sk-container-id-3 div.sk-estimator input.sk-toggleable__control:checked~label.sk-toggleable__label {background-color: #d4ebff;}#sk-container-id-3 div.sk-label input.sk-toggleable__control:checked~label.sk-toggleable__label {background-color: #d4ebff;}#sk-container-id-3 input.sk-hidden--visually {border: 0;clip: rect(1px 1px 1px 1px);clip: rect(1px, 1px, 1px, 1px);height: 1px;margin: -1px;overflow: hidden;padding: 0;position: absolute;width: 1px;}#sk-container-id-3 div.sk-estimator {font-family: monospace;background-color: #f0f8ff;border: 1px dotted black;border-radius: 0.25em;box-sizing: border-box;margin-bottom: 0.5em;}#sk-container-id-3 div.sk-estimator:hover {background-color: #d4ebff;}#sk-container-id-3 div.sk-parallel-item::after {content: \"\";width: 100%;border-bottom: 1px solid gray;flex-grow: 1;}#sk-container-id-3 div.sk-label:hover label.sk-toggleable__label {background-color: #d4ebff;}#sk-container-id-3 div.sk-serial::before {content: \"\";position: absolute;border-left: 1px solid gray;box-sizing: border-box;top: 0;bottom: 0;left: 50%;z-index: 0;}#sk-container-id-3 div.sk-serial {display: flex;flex-direction: column;align-items: center;background-color: white;padding-right: 0.2em;padding-left: 0.2em;position: relative;}#sk-container-id-3 div.sk-item {position: relative;z-index: 1;}#sk-container-id-3 div.sk-parallel {display: flex;align-items: stretch;justify-content: center;background-color: white;position: relative;}#sk-container-id-3 div.sk-item::before, #sk-container-id-3 div.sk-parallel-item::before {content: \"\";position: absolute;border-left: 1px solid gray;box-sizing: border-box;top: 0;bottom: 0;left: 50%;z-index: -1;}#sk-container-id-3 div.sk-parallel-item {display: flex;flex-direction: column;z-index: 1;position: relative;background-color: white;}#sk-container-id-3 div.sk-parallel-item:first-child::after {align-self: flex-end;width: 50%;}#sk-container-id-3 div.sk-parallel-item:last-child::after {align-self: flex-start;width: 50%;}#sk-container-id-3 div.sk-parallel-item:only-child::after {width: 0;}#sk-container-id-3 div.sk-dashed-wrapped {border: 1px dashed gray;margin: 0 0.4em 0.5em 0.4em;box-sizing: border-box;padding-bottom: 0.4em;background-color: white;}#sk-container-id-3 div.sk-label label {font-family: monospace;font-weight: bold;display: inline-block;line-height: 1.2em;}#sk-container-id-3 div.sk-label-container {text-align: center;}#sk-container-id-3 div.sk-container {/* jupyter's `normalize.less` sets `[hidden] { display: none; }` but bootstrap.min.css set `[hidden] { display: none !important; }` so we also need the `!important` here to be able to override the default hidden behavior on the sphinx rendered scikit-learn.org. See: https://github.com/scikit-learn/scikit-learn/issues/21755 */display: inline-block !important;position: relative;}#sk-container-id-3 div.sk-text-repr-fallback {display: none;}</style><div id=\"sk-container-id-3\" class=\"sk-top-container\"><div class=\"sk-text-repr-fallback\"><pre>CountVectorizer(ngram_range=(1, 3))</pre><b>In a Jupyter environment, please rerun this cell to show the HTML representation or trust the notebook. <br />On GitHub, the HTML representation is unable to render, please try loading this page with nbviewer.org.</b></div><div class=\"sk-container\" hidden><div class=\"sk-item\"><div class=\"sk-estimator sk-toggleable\"><input class=\"sk-toggleable__control sk-hidden--visually\" id=\"sk-estimator-id-3\" type=\"checkbox\" checked><label for=\"sk-estimator-id-3\" class=\"sk-toggleable__label sk-toggleable__label-arrow\">CountVectorizer</label><div class=\"sk-toggleable__content\"><pre>CountVectorizer(ngram_range=(1, 3))</pre></div></div></div></div></div>"
      ],
      "text/plain": [
       "CountVectorizer(ngram_range=(1, 3))"
      ]
     },
     "execution_count": 10,
     "metadata": {},
     "output_type": "execute_result"
    }
   ],
   "source": [
    "cv.fit(['He wants to go to New york for higher Studies'])"
   ]
  },
  {
   "cell_type": "code",
   "execution_count": 11,
   "id": "508f7dc8",
   "metadata": {},
   "outputs": [
    {
     "data": {
      "text/plain": [
       "{'he': 6,\n",
       " 'wants': 20,\n",
       " 'to': 15,\n",
       " 'go': 3,\n",
       " 'new': 11,\n",
       " 'york': 23,\n",
       " 'for': 0,\n",
       " 'higher': 9,\n",
       " 'studies': 14,\n",
       " 'he wants': 7,\n",
       " 'wants to': 21,\n",
       " 'to go': 16,\n",
       " 'go to': 4,\n",
       " 'to new': 18,\n",
       " 'new york': 12,\n",
       " 'york for': 24,\n",
       " 'for higher': 1,\n",
       " 'higher studies': 10,\n",
       " 'he wants to': 8,\n",
       " 'wants to go': 22,\n",
       " 'to go to': 17,\n",
       " 'go to new': 5,\n",
       " 'to new york': 19,\n",
       " 'new york for': 13,\n",
       " 'york for higher': 25,\n",
       " 'for higher studies': 2}"
      ]
     },
     "execution_count": 11,
     "metadata": {},
     "output_type": "execute_result"
    }
   ],
   "source": [
    "cv.vocabulary_"
   ]
  },
  {
   "cell_type": "code",
   "execution_count": 12,
   "id": "b1f2ce20",
   "metadata": {},
   "outputs": [],
   "source": [
    "# Performing Preprocessing\n",
    "import spacy"
   ]
  },
  {
   "cell_type": "code",
   "execution_count": 13,
   "id": "bb4e4822",
   "metadata": {},
   "outputs": [],
   "source": [
    "# load english language model and create nlp object from it\n",
    "nlp = spacy.load('en_core_web_sm')"
   ]
  },
  {
   "cell_type": "code",
   "execution_count": 19,
   "id": "c10792d9",
   "metadata": {},
   "outputs": [],
   "source": [
    "def preprocess(text):\n",
    "    doc = nlp(text)\n",
    "    \n",
    "    filtered_tokens=[]\n",
    "    \n",
    "    for token in doc:\n",
    "        if token.is_stop or token.is_punct:\n",
    "            continue\n",
    "        filtered_tokens.append(token.lemma_)\n",
    "    return \" \".join(filtered_tokens)\n",
    "        "
   ]
  },
  {
   "cell_type": "code",
   "execution_count": 20,
   "id": "6a5ded8d",
   "metadata": {},
   "outputs": [
    {
     "data": {
      "text/plain": [
       "'want New york high study'"
      ]
     },
     "execution_count": 20,
     "metadata": {},
     "output_type": "execute_result"
    }
   ],
   "source": [
    "text=\"He wants to go to New york for higher Studies\"\n",
    "preprocess(text)"
   ]
  },
  {
   "cell_type": "code",
   "execution_count": 21,
   "id": "9d5ad463",
   "metadata": {},
   "outputs": [],
   "source": [
    "corpus = [\"Thor ate pizza\",\n",
    "          \"Loki is tall\", \n",
    "          \"Loki is eating Pizza\"]"
   ]
  },
  {
   "cell_type": "code",
   "execution_count": 22,
   "id": "3328f5ba",
   "metadata": {},
   "outputs": [],
   "source": [
    "corpus_processsed = [preprocess(text) for text in corpus]"
   ]
  },
  {
   "cell_type": "code",
   "execution_count": 23,
   "id": "ea925216",
   "metadata": {},
   "outputs": [
    {
     "data": {
      "text/plain": [
       "['thor eat pizza', 'Loki tall', 'Loki eat Pizza']"
      ]
     },
     "execution_count": 23,
     "metadata": {},
     "output_type": "execute_result"
    }
   ],
   "source": [
    "corpus_processsed"
   ]
  },
  {
   "cell_type": "code",
   "execution_count": 24,
   "id": "f708e36d",
   "metadata": {},
   "outputs": [
    {
     "data": {
      "text/plain": [
       "{'thor': 7,\n",
       " 'eat': 0,\n",
       " 'pizza': 5,\n",
       " 'thor eat': 8,\n",
       " 'eat pizza': 1,\n",
       " 'loki': 2,\n",
       " 'tall': 6,\n",
       " 'loki tall': 4,\n",
       " 'loki eat': 3}"
      ]
     },
     "execution_count": 24,
     "metadata": {},
     "output_type": "execute_result"
    }
   ],
   "source": [
    "v = CountVectorizer(ngram_range=(1,2))\n",
    "v.fit(corpus_processsed)\n",
    "v.vocabulary_"
   ]
  },
  {
   "cell_type": "code",
   "execution_count": 30,
   "id": "bed0da03",
   "metadata": {},
   "outputs": [
    {
     "data": {
      "text/plain": [
       "array([[1, 1, 0, 0, 0, 1, 0, 1, 1]], dtype=int64)"
      ]
     },
     "execution_count": 30,
     "metadata": {},
     "output_type": "execute_result"
    }
   ],
   "source": [
    "v.transform([\"Thor eat Pizza\"]).toarray()"
   ]
  },
  {
   "cell_type": "code",
   "execution_count": 31,
   "id": "5354cf42",
   "metadata": {},
   "outputs": [],
   "source": [
    "# Above arary gives the count vector for the inpt text so that it can be used in further machine learning pipeline"
   ]
  },
  {
   "cell_type": "code",
   "execution_count": 32,
   "id": "2ab52d52",
   "metadata": {},
   "outputs": [],
   "source": [
    "# Classifying the news text into different categories"
   ]
  },
  {
   "cell_type": "code",
   "execution_count": 36,
   "id": "7b05915a",
   "metadata": {},
   "outputs": [
    {
     "data": {
      "text/html": [
       "<div>\n",
       "<style scoped>\n",
       "    .dataframe tbody tr th:only-of-type {\n",
       "        vertical-align: middle;\n",
       "    }\n",
       "\n",
       "    .dataframe tbody tr th {\n",
       "        vertical-align: top;\n",
       "    }\n",
       "\n",
       "    .dataframe thead th {\n",
       "        text-align: right;\n",
       "    }\n",
       "</style>\n",
       "<table border=\"1\" class=\"dataframe\">\n",
       "  <thead>\n",
       "    <tr style=\"text-align: right;\">\n",
       "      <th></th>\n",
       "      <th>text</th>\n",
       "      <th>category</th>\n",
       "    </tr>\n",
       "  </thead>\n",
       "  <tbody>\n",
       "    <tr>\n",
       "      <th>0</th>\n",
       "      <td>Watching Schrödinger's Cat Die University of C...</td>\n",
       "      <td>SCIENCE</td>\n",
       "    </tr>\n",
       "    <tr>\n",
       "      <th>1</th>\n",
       "      <td>WATCH: Freaky Vortex Opens Up In Flooded Lake</td>\n",
       "      <td>SCIENCE</td>\n",
       "    </tr>\n",
       "    <tr>\n",
       "      <th>2</th>\n",
       "      <td>Entrepreneurs Today Don't Need a Big Budget to...</td>\n",
       "      <td>BUSINESS</td>\n",
       "    </tr>\n",
       "    <tr>\n",
       "      <th>3</th>\n",
       "      <td>These Roads Could Recharge Your Electric Car A...</td>\n",
       "      <td>BUSINESS</td>\n",
       "    </tr>\n",
       "    <tr>\n",
       "      <th>4</th>\n",
       "      <td>Civilian 'Guard' Fires Gun While 'Protecting' ...</td>\n",
       "      <td>CRIME</td>\n",
       "    </tr>\n",
       "  </tbody>\n",
       "</table>\n",
       "</div>"
      ],
      "text/plain": [
       "                                                text  category\n",
       "0  Watching Schrödinger's Cat Die University of C...   SCIENCE\n",
       "1     WATCH: Freaky Vortex Opens Up In Flooded Lake    SCIENCE\n",
       "2  Entrepreneurs Today Don't Need a Big Budget to...  BUSINESS\n",
       "3  These Roads Could Recharge Your Electric Car A...  BUSINESS\n",
       "4  Civilian 'Guard' Fires Gun While 'Protecting' ...     CRIME"
      ]
     },
     "execution_count": 36,
     "metadata": {},
     "output_type": "execute_result"
    }
   ],
   "source": [
    "import pandas as pd\n",
    "df = pd.read_json('news_dataset.json')\n",
    "df.head()"
   ]
  },
  {
   "cell_type": "code",
   "execution_count": 37,
   "id": "e0d2a712",
   "metadata": {},
   "outputs": [
    {
     "data": {
      "text/plain": [
       "(12695, 2)"
      ]
     },
     "execution_count": 37,
     "metadata": {},
     "output_type": "execute_result"
    }
   ],
   "source": [
    "df.shape"
   ]
  },
  {
   "cell_type": "code",
   "execution_count": 40,
   "id": "32d7b6b6",
   "metadata": {},
   "outputs": [
    {
     "data": {
      "text/plain": [
       "4"
      ]
     },
     "execution_count": 40,
     "metadata": {},
     "output_type": "execute_result"
    }
   ],
   "source": [
    "df.category.nunique()"
   ]
  },
  {
   "cell_type": "code",
   "execution_count": 41,
   "id": "83ecafdd",
   "metadata": {},
   "outputs": [
    {
     "data": {
      "text/plain": [
       "array(['SCIENCE', 'BUSINESS', 'CRIME', 'SPORTS'], dtype=object)"
      ]
     },
     "execution_count": 41,
     "metadata": {},
     "output_type": "execute_result"
    }
   ],
   "source": [
    "df.category.unique()"
   ]
  },
  {
   "cell_type": "code",
   "execution_count": 43,
   "id": "d10e08ad",
   "metadata": {},
   "outputs": [
    {
     "data": {
      "text/plain": [
       "BUSINESS    4254\n",
       "SPORTS      4167\n",
       "CRIME       2893\n",
       "SCIENCE     1381\n",
       "Name: category, dtype: int64"
      ]
     },
     "execution_count": 43,
     "metadata": {},
     "output_type": "execute_result"
    }
   ],
   "source": [
    "df.category.value_counts()"
   ]
  },
  {
   "cell_type": "markdown",
   "id": "a760c64b",
   "metadata": {},
   "source": [
    "Here we see that the dataset is imbalanced. Some categories has around 4k entries whereas some has 1k. So we need to use some sampling technique to remove this imbalance in dataset.\n",
    "Here for this purpose we will just use undersampling technique to make the dataset balanced. Preferred will be to use SMOTE."
   ]
  },
  {
   "cell_type": "code",
   "execution_count": 46,
   "id": "372c3a82",
   "metadata": {},
   "outputs": [
    {
     "data": {
      "text/html": [
       "<div>\n",
       "<style scoped>\n",
       "    .dataframe tbody tr th:only-of-type {\n",
       "        vertical-align: middle;\n",
       "    }\n",
       "\n",
       "    .dataframe tbody tr th {\n",
       "        vertical-align: top;\n",
       "    }\n",
       "\n",
       "    .dataframe thead th {\n",
       "        text-align: right;\n",
       "    }\n",
       "</style>\n",
       "<table border=\"1\" class=\"dataframe\">\n",
       "  <thead>\n",
       "    <tr style=\"text-align: right;\">\n",
       "      <th></th>\n",
       "      <th>text</th>\n",
       "      <th>category</th>\n",
       "    </tr>\n",
       "  </thead>\n",
       "  <tbody>\n",
       "    <tr>\n",
       "      <th>2</th>\n",
       "      <td>Entrepreneurs Today Don't Need a Big Budget to...</td>\n",
       "      <td>BUSINESS</td>\n",
       "    </tr>\n",
       "    <tr>\n",
       "      <th>3</th>\n",
       "      <td>These Roads Could Recharge Your Electric Car A...</td>\n",
       "      <td>BUSINESS</td>\n",
       "    </tr>\n",
       "    <tr>\n",
       "      <th>5</th>\n",
       "      <td>Trump Pays Penalty For Ethically Questionable ...</td>\n",
       "      <td>BUSINESS</td>\n",
       "    </tr>\n",
       "    <tr>\n",
       "      <th>7</th>\n",
       "      <td>9 Tips for Making Your Blog Better in 2015 New...</td>\n",
       "      <td>BUSINESS</td>\n",
       "    </tr>\n",
       "    <tr>\n",
       "      <th>10</th>\n",
       "      <td>This Is The First 10 Years Of Your Career You ...</td>\n",
       "      <td>BUSINESS</td>\n",
       "    </tr>\n",
       "    <tr>\n",
       "      <th>...</th>\n",
       "      <td>...</td>\n",
       "      <td>...</td>\n",
       "    </tr>\n",
       "    <tr>\n",
       "      <th>12682</th>\n",
       "      <td>56 Successful Business Leaders, Including Repu...</td>\n",
       "      <td>BUSINESS</td>\n",
       "    </tr>\n",
       "    <tr>\n",
       "      <th>12685</th>\n",
       "      <td>Nearly Two-Thirds Of Marketers Are Not Giving ...</td>\n",
       "      <td>BUSINESS</td>\n",
       "    </tr>\n",
       "    <tr>\n",
       "      <th>12687</th>\n",
       "      <td>Get Even I was in debt. Serious debt. The \"how...</td>\n",
       "      <td>BUSINESS</td>\n",
       "    </tr>\n",
       "    <tr>\n",
       "      <th>12688</th>\n",
       "      <td>Basic Premise of Social Integration Easy for u...</td>\n",
       "      <td>BUSINESS</td>\n",
       "    </tr>\n",
       "    <tr>\n",
       "      <th>12694</th>\n",
       "      <td>Your Customers Ignore Your Emails -- How Will ...</td>\n",
       "      <td>BUSINESS</td>\n",
       "    </tr>\n",
       "  </tbody>\n",
       "</table>\n",
       "<p>4254 rows × 2 columns</p>\n",
       "</div>"
      ],
      "text/plain": [
       "                                                    text  category\n",
       "2      Entrepreneurs Today Don't Need a Big Budget to...  BUSINESS\n",
       "3      These Roads Could Recharge Your Electric Car A...  BUSINESS\n",
       "5      Trump Pays Penalty For Ethically Questionable ...  BUSINESS\n",
       "7      9 Tips for Making Your Blog Better in 2015 New...  BUSINESS\n",
       "10     This Is The First 10 Years Of Your Career You ...  BUSINESS\n",
       "...                                                  ...       ...\n",
       "12682  56 Successful Business Leaders, Including Repu...  BUSINESS\n",
       "12685  Nearly Two-Thirds Of Marketers Are Not Giving ...  BUSINESS\n",
       "12687  Get Even I was in debt. Serious debt. The \"how...  BUSINESS\n",
       "12688  Basic Premise of Social Integration Easy for u...  BUSINESS\n",
       "12694  Your Customers Ignore Your Emails -- How Will ...  BUSINESS\n",
       "\n",
       "[4254 rows x 2 columns]"
      ]
     },
     "execution_count": 46,
     "metadata": {},
     "output_type": "execute_result"
    }
   ],
   "source": [
    "df[df['category']=='BUSINESS']"
   ]
  },
  {
   "cell_type": "code",
   "execution_count": 47,
   "id": "5a2e2783",
   "metadata": {},
   "outputs": [],
   "source": [
    "df_business_sampled=df[df['category']=='BUSINESS'].sample(1381)"
   ]
  },
  {
   "cell_type": "code",
   "execution_count": 48,
   "id": "e611f7c7",
   "metadata": {},
   "outputs": [
    {
     "data": {
      "text/html": [
       "<div>\n",
       "<style scoped>\n",
       "    .dataframe tbody tr th:only-of-type {\n",
       "        vertical-align: middle;\n",
       "    }\n",
       "\n",
       "    .dataframe tbody tr th {\n",
       "        vertical-align: top;\n",
       "    }\n",
       "\n",
       "    .dataframe thead th {\n",
       "        text-align: right;\n",
       "    }\n",
       "</style>\n",
       "<table border=\"1\" class=\"dataframe\">\n",
       "  <thead>\n",
       "    <tr style=\"text-align: right;\">\n",
       "      <th></th>\n",
       "      <th>text</th>\n",
       "      <th>category</th>\n",
       "    </tr>\n",
       "  </thead>\n",
       "  <tbody>\n",
       "    <tr>\n",
       "      <th>426</th>\n",
       "      <td>9 Tips to Kick Your Business' Summer Marketing...</td>\n",
       "      <td>BUSINESS</td>\n",
       "    </tr>\n",
       "    <tr>\n",
       "      <th>6062</th>\n",
       "      <td>Why You Should Be Using LinkedIn More Like Fac...</td>\n",
       "      <td>BUSINESS</td>\n",
       "    </tr>\n",
       "    <tr>\n",
       "      <th>10646</th>\n",
       "      <td>Putting the Emphasis Where It Belongs A leader...</td>\n",
       "      <td>BUSINESS</td>\n",
       "    </tr>\n",
       "    <tr>\n",
       "      <th>1540</th>\n",
       "      <td>3 Reasons To Be Angry About Equifax’s Data Bre...</td>\n",
       "      <td>BUSINESS</td>\n",
       "    </tr>\n",
       "    <tr>\n",
       "      <th>3225</th>\n",
       "      <td>Trailblazing Women: Kelly Hoey, LP at Laconia ...</td>\n",
       "      <td>BUSINESS</td>\n",
       "    </tr>\n",
       "    <tr>\n",
       "      <th>...</th>\n",
       "      <td>...</td>\n",
       "      <td>...</td>\n",
       "    </tr>\n",
       "    <tr>\n",
       "      <th>5197</th>\n",
       "      <td>America Is Globally Shamed For Its Pathetic Mi...</td>\n",
       "      <td>BUSINESS</td>\n",
       "    </tr>\n",
       "    <tr>\n",
       "      <th>2317</th>\n",
       "      <td>American Airlines Merger Settlement Approved B...</td>\n",
       "      <td>BUSINESS</td>\n",
       "    </tr>\n",
       "    <tr>\n",
       "      <th>11106</th>\n",
       "      <td>New Ford CEO Fields Versus General Motors CEO ...</td>\n",
       "      <td>BUSINESS</td>\n",
       "    </tr>\n",
       "    <tr>\n",
       "      <th>10843</th>\n",
       "      <td>The New Norm: Crazy Contracts and How to Fight...</td>\n",
       "      <td>BUSINESS</td>\n",
       "    </tr>\n",
       "    <tr>\n",
       "      <th>10284</th>\n",
       "      <td>3 Proven Ways To Help You Achieve Your Goals W...</td>\n",
       "      <td>BUSINESS</td>\n",
       "    </tr>\n",
       "  </tbody>\n",
       "</table>\n",
       "<p>1381 rows × 2 columns</p>\n",
       "</div>"
      ],
      "text/plain": [
       "                                                    text  category\n",
       "426    9 Tips to Kick Your Business' Summer Marketing...  BUSINESS\n",
       "6062   Why You Should Be Using LinkedIn More Like Fac...  BUSINESS\n",
       "10646  Putting the Emphasis Where It Belongs A leader...  BUSINESS\n",
       "1540   3 Reasons To Be Angry About Equifax’s Data Bre...  BUSINESS\n",
       "3225   Trailblazing Women: Kelly Hoey, LP at Laconia ...  BUSINESS\n",
       "...                                                  ...       ...\n",
       "5197   America Is Globally Shamed For Its Pathetic Mi...  BUSINESS\n",
       "2317   American Airlines Merger Settlement Approved B...  BUSINESS\n",
       "11106  New Ford CEO Fields Versus General Motors CEO ...  BUSINESS\n",
       "10843  The New Norm: Crazy Contracts and How to Fight...  BUSINESS\n",
       "10284  3 Proven Ways To Help You Achieve Your Goals W...  BUSINESS\n",
       "\n",
       "[1381 rows x 2 columns]"
      ]
     },
     "execution_count": 48,
     "metadata": {},
     "output_type": "execute_result"
    }
   ],
   "source": [
    "df_business_sampled"
   ]
  },
  {
   "cell_type": "code",
   "execution_count": 49,
   "id": "cca728b3",
   "metadata": {},
   "outputs": [],
   "source": [
    "# Similarly we do the same process for other categories as well"
   ]
  },
  {
   "cell_type": "code",
   "execution_count": 50,
   "id": "312e24f6",
   "metadata": {},
   "outputs": [],
   "source": [
    "df_crime_sampled = df[df['category']=='CRIME'].sample(1381)"
   ]
  },
  {
   "cell_type": "code",
   "execution_count": 51,
   "id": "0666a612",
   "metadata": {},
   "outputs": [
    {
     "data": {
      "text/html": [
       "<div>\n",
       "<style scoped>\n",
       "    .dataframe tbody tr th:only-of-type {\n",
       "        vertical-align: middle;\n",
       "    }\n",
       "\n",
       "    .dataframe tbody tr th {\n",
       "        vertical-align: top;\n",
       "    }\n",
       "\n",
       "    .dataframe thead th {\n",
       "        text-align: right;\n",
       "    }\n",
       "</style>\n",
       "<table border=\"1\" class=\"dataframe\">\n",
       "  <thead>\n",
       "    <tr style=\"text-align: right;\">\n",
       "      <th></th>\n",
       "      <th>text</th>\n",
       "      <th>category</th>\n",
       "    </tr>\n",
       "  </thead>\n",
       "  <tbody>\n",
       "    <tr>\n",
       "      <th>7312</th>\n",
       "      <td>Justice For Tulsa -- And Olivia Hooker He crad...</td>\n",
       "      <td>CRIME</td>\n",
       "    </tr>\n",
       "    <tr>\n",
       "      <th>8310</th>\n",
       "      <td>A Criminal Mastermind Might Be Closer Than You...</td>\n",
       "      <td>CRIME</td>\n",
       "    </tr>\n",
       "    <tr>\n",
       "      <th>7699</th>\n",
       "      <td>Hey, Arizona, Next Time Try Scaphism If we're ...</td>\n",
       "      <td>CRIME</td>\n",
       "    </tr>\n",
       "    <tr>\n",
       "      <th>1171</th>\n",
       "      <td>Father Went From Room To Room Killing His Fami...</td>\n",
       "      <td>CRIME</td>\n",
       "    </tr>\n",
       "    <tr>\n",
       "      <th>3063</th>\n",
       "      <td>Jack McCullough Freed After Wrongful Convictio...</td>\n",
       "      <td>CRIME</td>\n",
       "    </tr>\n",
       "    <tr>\n",
       "      <th>...</th>\n",
       "      <td>...</td>\n",
       "      <td>...</td>\n",
       "    </tr>\n",
       "    <tr>\n",
       "      <th>10022</th>\n",
       "      <td>Angry Customer Unleashes 13-Foot-Long Python I...</td>\n",
       "      <td>CRIME</td>\n",
       "    </tr>\n",
       "    <tr>\n",
       "      <th>7835</th>\n",
       "      <td>The Man Who Shot At George Zimmerman Has Been ...</td>\n",
       "      <td>CRIME</td>\n",
       "    </tr>\n",
       "    <tr>\n",
       "      <th>5751</th>\n",
       "      <td>3 Dead In Apparent Murder-Suicide At Luxury Ne...</td>\n",
       "      <td>CRIME</td>\n",
       "    </tr>\n",
       "    <tr>\n",
       "      <th>10638</th>\n",
       "      <td>Man Who Believes He Is A 'Werewolf' Who Killed...</td>\n",
       "      <td>CRIME</td>\n",
       "    </tr>\n",
       "    <tr>\n",
       "      <th>4300</th>\n",
       "      <td>Suspect In Murder Of Louisiana Cop Arrested Af...</td>\n",
       "      <td>CRIME</td>\n",
       "    </tr>\n",
       "  </tbody>\n",
       "</table>\n",
       "<p>1381 rows × 2 columns</p>\n",
       "</div>"
      ],
      "text/plain": [
       "                                                    text category\n",
       "7312   Justice For Tulsa -- And Olivia Hooker He crad...    CRIME\n",
       "8310   A Criminal Mastermind Might Be Closer Than You...    CRIME\n",
       "7699   Hey, Arizona, Next Time Try Scaphism If we're ...    CRIME\n",
       "1171   Father Went From Room To Room Killing His Fami...    CRIME\n",
       "3063   Jack McCullough Freed After Wrongful Convictio...    CRIME\n",
       "...                                                  ...      ...\n",
       "10022  Angry Customer Unleashes 13-Foot-Long Python I...    CRIME\n",
       "7835   The Man Who Shot At George Zimmerman Has Been ...    CRIME\n",
       "5751   3 Dead In Apparent Murder-Suicide At Luxury Ne...    CRIME\n",
       "10638  Man Who Believes He Is A 'Werewolf' Who Killed...    CRIME\n",
       "4300   Suspect In Murder Of Louisiana Cop Arrested Af...    CRIME\n",
       "\n",
       "[1381 rows x 2 columns]"
      ]
     },
     "execution_count": 51,
     "metadata": {},
     "output_type": "execute_result"
    }
   ],
   "source": [
    "df_crime_sampled"
   ]
  },
  {
   "cell_type": "code",
   "execution_count": 52,
   "id": "e53e9f8d",
   "metadata": {},
   "outputs": [],
   "source": [
    "df_sports_sampled = df[df['category']=='SPORTS'].sample(1381)"
   ]
  },
  {
   "cell_type": "code",
   "execution_count": 53,
   "id": "e66f3a1c",
   "metadata": {},
   "outputs": [
    {
     "data": {
      "text/html": [
       "<div>\n",
       "<style scoped>\n",
       "    .dataframe tbody tr th:only-of-type {\n",
       "        vertical-align: middle;\n",
       "    }\n",
       "\n",
       "    .dataframe tbody tr th {\n",
       "        vertical-align: top;\n",
       "    }\n",
       "\n",
       "    .dataframe thead th {\n",
       "        text-align: right;\n",
       "    }\n",
       "</style>\n",
       "<table border=\"1\" class=\"dataframe\">\n",
       "  <thead>\n",
       "    <tr style=\"text-align: right;\">\n",
       "      <th></th>\n",
       "      <th>text</th>\n",
       "      <th>category</th>\n",
       "    </tr>\n",
       "  </thead>\n",
       "  <tbody>\n",
       "    <tr>\n",
       "      <th>2754</th>\n",
       "      <td>Happy Maurice Cheeks Day! As I prepared to wri...</td>\n",
       "      <td>SPORTS</td>\n",
       "    </tr>\n",
       "    <tr>\n",
       "      <th>10962</th>\n",
       "      <td>Tony Hawk Does A '900' At Age 48 Because He's ...</td>\n",
       "      <td>SPORTS</td>\n",
       "    </tr>\n",
       "    <tr>\n",
       "      <th>5590</th>\n",
       "      <td>Sony, Back In The Crosshairs, Defends 'Concuss...</td>\n",
       "      <td>SPORTS</td>\n",
       "    </tr>\n",
       "    <tr>\n",
       "      <th>8853</th>\n",
       "      <td>District Attorney Admits Exactly Why He's Drop...</td>\n",
       "      <td>SPORTS</td>\n",
       "    </tr>\n",
       "    <tr>\n",
       "      <th>7858</th>\n",
       "      <td>The Subsidy Gap James Madison University’s foo...</td>\n",
       "      <td>SPORTS</td>\n",
       "    </tr>\n",
       "    <tr>\n",
       "      <th>...</th>\n",
       "      <td>...</td>\n",
       "      <td>...</td>\n",
       "    </tr>\n",
       "    <tr>\n",
       "      <th>12524</th>\n",
       "      <td>17 Names You Don't Know Now But Will By The En...</td>\n",
       "      <td>SPORTS</td>\n",
       "    </tr>\n",
       "    <tr>\n",
       "      <th>6736</th>\n",
       "      <td>Saints Fan Steals Ball, Breaks Bengals Fan's H...</td>\n",
       "      <td>SPORTS</td>\n",
       "    </tr>\n",
       "    <tr>\n",
       "      <th>11083</th>\n",
       "      <td>Speedo, Ralph Lauren Cut Ties With Ryan Lochte...</td>\n",
       "      <td>SPORTS</td>\n",
       "    </tr>\n",
       "    <tr>\n",
       "      <th>4446</th>\n",
       "      <td>Donald Trump's 2012 Yankees Tweet Proves There...</td>\n",
       "      <td>SPORTS</td>\n",
       "    </tr>\n",
       "    <tr>\n",
       "      <th>12455</th>\n",
       "      <td>Eighth Grader Makes Insane Buzzer Beater Shot ...</td>\n",
       "      <td>SPORTS</td>\n",
       "    </tr>\n",
       "  </tbody>\n",
       "</table>\n",
       "<p>1381 rows × 2 columns</p>\n",
       "</div>"
      ],
      "text/plain": [
       "                                                    text category\n",
       "2754   Happy Maurice Cheeks Day! As I prepared to wri...   SPORTS\n",
       "10962  Tony Hawk Does A '900' At Age 48 Because He's ...   SPORTS\n",
       "5590   Sony, Back In The Crosshairs, Defends 'Concuss...   SPORTS\n",
       "8853   District Attorney Admits Exactly Why He's Drop...   SPORTS\n",
       "7858   The Subsidy Gap James Madison University’s foo...   SPORTS\n",
       "...                                                  ...      ...\n",
       "12524  17 Names You Don't Know Now But Will By The En...   SPORTS\n",
       "6736   Saints Fan Steals Ball, Breaks Bengals Fan's H...   SPORTS\n",
       "11083  Speedo, Ralph Lauren Cut Ties With Ryan Lochte...   SPORTS\n",
       "4446   Donald Trump's 2012 Yankees Tweet Proves There...   SPORTS\n",
       "12455  Eighth Grader Makes Insane Buzzer Beater Shot ...   SPORTS\n",
       "\n",
       "[1381 rows x 2 columns]"
      ]
     },
     "execution_count": 53,
     "metadata": {},
     "output_type": "execute_result"
    }
   ],
   "source": [
    "df_sports_sampled"
   ]
  },
  {
   "cell_type": "code",
   "execution_count": 54,
   "id": "54e0e149",
   "metadata": {},
   "outputs": [],
   "source": [
    "df_science_sampled = df[df['category']=='SCIENCE'].sample(1381)"
   ]
  },
  {
   "cell_type": "code",
   "execution_count": 55,
   "id": "29b1261c",
   "metadata": {},
   "outputs": [
    {
     "data": {
      "text/html": [
       "<div>\n",
       "<style scoped>\n",
       "    .dataframe tbody tr th:only-of-type {\n",
       "        vertical-align: middle;\n",
       "    }\n",
       "\n",
       "    .dataframe tbody tr th {\n",
       "        vertical-align: top;\n",
       "    }\n",
       "\n",
       "    .dataframe thead th {\n",
       "        text-align: right;\n",
       "    }\n",
       "</style>\n",
       "<table border=\"1\" class=\"dataframe\">\n",
       "  <thead>\n",
       "    <tr style=\"text-align: right;\">\n",
       "      <th></th>\n",
       "      <th>text</th>\n",
       "      <th>category</th>\n",
       "    </tr>\n",
       "  </thead>\n",
       "  <tbody>\n",
       "    <tr>\n",
       "      <th>10163</th>\n",
       "      <td>A Journey to an Amazing Earth-like Planet! Let...</td>\n",
       "      <td>SCIENCE</td>\n",
       "    </tr>\n",
       "    <tr>\n",
       "      <th>8270</th>\n",
       "      <td>These Toothless Giants Once Ruled The Skies</td>\n",
       "      <td>SCIENCE</td>\n",
       "    </tr>\n",
       "    <tr>\n",
       "      <th>8865</th>\n",
       "      <td>Astronomers Discover Tiny, Shy Moon Hiding In ...</td>\n",
       "      <td>SCIENCE</td>\n",
       "    </tr>\n",
       "    <tr>\n",
       "      <th>10120</th>\n",
       "      <td>Apes May Be Much Closer To Human Speech Than W...</td>\n",
       "      <td>SCIENCE</td>\n",
       "    </tr>\n",
       "    <tr>\n",
       "      <th>5636</th>\n",
       "      <td>Maybe Coin Tosses Aren't Entirely Random After...</td>\n",
       "      <td>SCIENCE</td>\n",
       "    </tr>\n",
       "    <tr>\n",
       "      <th>...</th>\n",
       "      <td>...</td>\n",
       "      <td>...</td>\n",
       "    </tr>\n",
       "    <tr>\n",
       "      <th>11549</th>\n",
       "      <td>SeaWorld Doesn't Seem To Understand Its Busine...</td>\n",
       "      <td>SCIENCE</td>\n",
       "    </tr>\n",
       "    <tr>\n",
       "      <th>6959</th>\n",
       "      <td>Who Knew Sauropods Could Be So Small?</td>\n",
       "      <td>SCIENCE</td>\n",
       "    </tr>\n",
       "    <tr>\n",
       "      <th>10978</th>\n",
       "      <td>This Week In Science: Space Ripples Turn to Du...</td>\n",
       "      <td>SCIENCE</td>\n",
       "    </tr>\n",
       "    <tr>\n",
       "      <th>9849</th>\n",
       "      <td>Homo Naledi may be Two Million Years Old (Give...</td>\n",
       "      <td>SCIENCE</td>\n",
       "    </tr>\n",
       "    <tr>\n",
       "      <th>4955</th>\n",
       "      <td>Mysterious 'Fireball' Was Actually Russian Spy...</td>\n",
       "      <td>SCIENCE</td>\n",
       "    </tr>\n",
       "  </tbody>\n",
       "</table>\n",
       "<p>1381 rows × 2 columns</p>\n",
       "</div>"
      ],
      "text/plain": [
       "                                                    text category\n",
       "10163  A Journey to an Amazing Earth-like Planet! Let...  SCIENCE\n",
       "8270        These Toothless Giants Once Ruled The Skies   SCIENCE\n",
       "8865   Astronomers Discover Tiny, Shy Moon Hiding In ...  SCIENCE\n",
       "10120  Apes May Be Much Closer To Human Speech Than W...  SCIENCE\n",
       "5636   Maybe Coin Tosses Aren't Entirely Random After...  SCIENCE\n",
       "...                                                  ...      ...\n",
       "11549  SeaWorld Doesn't Seem To Understand Its Busine...  SCIENCE\n",
       "6959              Who Knew Sauropods Could Be So Small?   SCIENCE\n",
       "10978  This Week In Science: Space Ripples Turn to Du...  SCIENCE\n",
       "9849   Homo Naledi may be Two Million Years Old (Give...  SCIENCE\n",
       "4955   Mysterious 'Fireball' Was Actually Russian Spy...  SCIENCE\n",
       "\n",
       "[1381 rows x 2 columns]"
      ]
     },
     "execution_count": 55,
     "metadata": {},
     "output_type": "execute_result"
    }
   ],
   "source": [
    "df_science_sampled"
   ]
  },
  {
   "cell_type": "code",
   "execution_count": 58,
   "id": "4bcd6263",
   "metadata": {},
   "outputs": [
    {
     "data": {
      "text/html": [
       "<div>\n",
       "<style scoped>\n",
       "    .dataframe tbody tr th:only-of-type {\n",
       "        vertical-align: middle;\n",
       "    }\n",
       "\n",
       "    .dataframe tbody tr th {\n",
       "        vertical-align: top;\n",
       "    }\n",
       "\n",
       "    .dataframe thead th {\n",
       "        text-align: right;\n",
       "    }\n",
       "</style>\n",
       "<table border=\"1\" class=\"dataframe\">\n",
       "  <thead>\n",
       "    <tr style=\"text-align: right;\">\n",
       "      <th></th>\n",
       "      <th>text</th>\n",
       "      <th>category</th>\n",
       "    </tr>\n",
       "  </thead>\n",
       "  <tbody>\n",
       "    <tr>\n",
       "      <th>426</th>\n",
       "      <td>9 Tips to Kick Your Business' Summer Marketing...</td>\n",
       "      <td>BUSINESS</td>\n",
       "    </tr>\n",
       "    <tr>\n",
       "      <th>6062</th>\n",
       "      <td>Why You Should Be Using LinkedIn More Like Fac...</td>\n",
       "      <td>BUSINESS</td>\n",
       "    </tr>\n",
       "    <tr>\n",
       "      <th>10646</th>\n",
       "      <td>Putting the Emphasis Where It Belongs A leader...</td>\n",
       "      <td>BUSINESS</td>\n",
       "    </tr>\n",
       "    <tr>\n",
       "      <th>1540</th>\n",
       "      <td>3 Reasons To Be Angry About Equifax’s Data Bre...</td>\n",
       "      <td>BUSINESS</td>\n",
       "    </tr>\n",
       "    <tr>\n",
       "      <th>3225</th>\n",
       "      <td>Trailblazing Women: Kelly Hoey, LP at Laconia ...</td>\n",
       "      <td>BUSINESS</td>\n",
       "    </tr>\n",
       "    <tr>\n",
       "      <th>...</th>\n",
       "      <td>...</td>\n",
       "      <td>...</td>\n",
       "    </tr>\n",
       "    <tr>\n",
       "      <th>11549</th>\n",
       "      <td>SeaWorld Doesn't Seem To Understand Its Busine...</td>\n",
       "      <td>SCIENCE</td>\n",
       "    </tr>\n",
       "    <tr>\n",
       "      <th>6959</th>\n",
       "      <td>Who Knew Sauropods Could Be So Small?</td>\n",
       "      <td>SCIENCE</td>\n",
       "    </tr>\n",
       "    <tr>\n",
       "      <th>10978</th>\n",
       "      <td>This Week In Science: Space Ripples Turn to Du...</td>\n",
       "      <td>SCIENCE</td>\n",
       "    </tr>\n",
       "    <tr>\n",
       "      <th>9849</th>\n",
       "      <td>Homo Naledi may be Two Million Years Old (Give...</td>\n",
       "      <td>SCIENCE</td>\n",
       "    </tr>\n",
       "    <tr>\n",
       "      <th>4955</th>\n",
       "      <td>Mysterious 'Fireball' Was Actually Russian Spy...</td>\n",
       "      <td>SCIENCE</td>\n",
       "    </tr>\n",
       "  </tbody>\n",
       "</table>\n",
       "<p>5524 rows × 2 columns</p>\n",
       "</div>"
      ],
      "text/plain": [
       "                                                    text  category\n",
       "426    9 Tips to Kick Your Business' Summer Marketing...  BUSINESS\n",
       "6062   Why You Should Be Using LinkedIn More Like Fac...  BUSINESS\n",
       "10646  Putting the Emphasis Where It Belongs A leader...  BUSINESS\n",
       "1540   3 Reasons To Be Angry About Equifax’s Data Bre...  BUSINESS\n",
       "3225   Trailblazing Women: Kelly Hoey, LP at Laconia ...  BUSINESS\n",
       "...                                                  ...       ...\n",
       "11549  SeaWorld Doesn't Seem To Understand Its Busine...   SCIENCE\n",
       "6959              Who Knew Sauropods Could Be So Small?    SCIENCE\n",
       "10978  This Week In Science: Space Ripples Turn to Du...   SCIENCE\n",
       "9849   Homo Naledi may be Two Million Years Old (Give...   SCIENCE\n",
       "4955   Mysterious 'Fireball' Was Actually Russian Spy...   SCIENCE\n",
       "\n",
       "[5524 rows x 2 columns]"
      ]
     },
     "execution_count": 58,
     "metadata": {},
     "output_type": "execute_result"
    }
   ],
   "source": [
    "df_balanced = pd.concat([df_business_sampled,df_crime_sampled,df_sports_sampled,df_science_sampled],axis =0)\n",
    "df_balanced"
   ]
  },
  {
   "cell_type": "code",
   "execution_count": 59,
   "id": "2ff501fd",
   "metadata": {
    "scrolled": true
   },
   "outputs": [
    {
     "data": {
      "text/plain": [
       "BUSINESS    1381\n",
       "CRIME       1381\n",
       "SPORTS      1381\n",
       "SCIENCE     1381\n",
       "Name: category, dtype: int64"
      ]
     },
     "execution_count": 59,
     "metadata": {},
     "output_type": "execute_result"
    }
   ],
   "source": [
    "df_balanced.category.value_counts()"
   ]
  },
  {
   "cell_type": "markdown",
   "id": "159dd633",
   "metadata": {},
   "source": [
    "#### Convert text category to a number"
   ]
  },
  {
   "cell_type": "code",
   "execution_count": 60,
   "id": "3d8c7b1e",
   "metadata": {},
   "outputs": [],
   "source": [
    "category_no={'BUSINESS':0,\n",
    "             'CRIME':1,\n",
    "            'SPORTS':2,\n",
    "            'SCIENCE':3}"
   ]
  },
  {
   "cell_type": "code",
   "execution_count": 63,
   "id": "42120298",
   "metadata": {},
   "outputs": [],
   "source": [
    "df_balanced['category_num'] = df_balanced.category.map(category_no)"
   ]
  },
  {
   "cell_type": "code",
   "execution_count": 64,
   "id": "9fd557f5",
   "metadata": {},
   "outputs": [
    {
     "data": {
      "text/html": [
       "<div>\n",
       "<style scoped>\n",
       "    .dataframe tbody tr th:only-of-type {\n",
       "        vertical-align: middle;\n",
       "    }\n",
       "\n",
       "    .dataframe tbody tr th {\n",
       "        vertical-align: top;\n",
       "    }\n",
       "\n",
       "    .dataframe thead th {\n",
       "        text-align: right;\n",
       "    }\n",
       "</style>\n",
       "<table border=\"1\" class=\"dataframe\">\n",
       "  <thead>\n",
       "    <tr style=\"text-align: right;\">\n",
       "      <th></th>\n",
       "      <th>text</th>\n",
       "      <th>category</th>\n",
       "      <th>category_num</th>\n",
       "    </tr>\n",
       "  </thead>\n",
       "  <tbody>\n",
       "    <tr>\n",
       "      <th>426</th>\n",
       "      <td>9 Tips to Kick Your Business' Summer Marketing...</td>\n",
       "      <td>BUSINESS</td>\n",
       "      <td>0</td>\n",
       "    </tr>\n",
       "    <tr>\n",
       "      <th>6062</th>\n",
       "      <td>Why You Should Be Using LinkedIn More Like Fac...</td>\n",
       "      <td>BUSINESS</td>\n",
       "      <td>0</td>\n",
       "    </tr>\n",
       "    <tr>\n",
       "      <th>10646</th>\n",
       "      <td>Putting the Emphasis Where It Belongs A leader...</td>\n",
       "      <td>BUSINESS</td>\n",
       "      <td>0</td>\n",
       "    </tr>\n",
       "    <tr>\n",
       "      <th>1540</th>\n",
       "      <td>3 Reasons To Be Angry About Equifax’s Data Bre...</td>\n",
       "      <td>BUSINESS</td>\n",
       "      <td>0</td>\n",
       "    </tr>\n",
       "    <tr>\n",
       "      <th>3225</th>\n",
       "      <td>Trailblazing Women: Kelly Hoey, LP at Laconia ...</td>\n",
       "      <td>BUSINESS</td>\n",
       "      <td>0</td>\n",
       "    </tr>\n",
       "    <tr>\n",
       "      <th>...</th>\n",
       "      <td>...</td>\n",
       "      <td>...</td>\n",
       "      <td>...</td>\n",
       "    </tr>\n",
       "    <tr>\n",
       "      <th>11549</th>\n",
       "      <td>SeaWorld Doesn't Seem To Understand Its Busine...</td>\n",
       "      <td>SCIENCE</td>\n",
       "      <td>3</td>\n",
       "    </tr>\n",
       "    <tr>\n",
       "      <th>6959</th>\n",
       "      <td>Who Knew Sauropods Could Be So Small?</td>\n",
       "      <td>SCIENCE</td>\n",
       "      <td>3</td>\n",
       "    </tr>\n",
       "    <tr>\n",
       "      <th>10978</th>\n",
       "      <td>This Week In Science: Space Ripples Turn to Du...</td>\n",
       "      <td>SCIENCE</td>\n",
       "      <td>3</td>\n",
       "    </tr>\n",
       "    <tr>\n",
       "      <th>9849</th>\n",
       "      <td>Homo Naledi may be Two Million Years Old (Give...</td>\n",
       "      <td>SCIENCE</td>\n",
       "      <td>3</td>\n",
       "    </tr>\n",
       "    <tr>\n",
       "      <th>4955</th>\n",
       "      <td>Mysterious 'Fireball' Was Actually Russian Spy...</td>\n",
       "      <td>SCIENCE</td>\n",
       "      <td>3</td>\n",
       "    </tr>\n",
       "  </tbody>\n",
       "</table>\n",
       "<p>5524 rows × 3 columns</p>\n",
       "</div>"
      ],
      "text/plain": [
       "                                                    text  category  \\\n",
       "426    9 Tips to Kick Your Business' Summer Marketing...  BUSINESS   \n",
       "6062   Why You Should Be Using LinkedIn More Like Fac...  BUSINESS   \n",
       "10646  Putting the Emphasis Where It Belongs A leader...  BUSINESS   \n",
       "1540   3 Reasons To Be Angry About Equifax’s Data Bre...  BUSINESS   \n",
       "3225   Trailblazing Women: Kelly Hoey, LP at Laconia ...  BUSINESS   \n",
       "...                                                  ...       ...   \n",
       "11549  SeaWorld Doesn't Seem To Understand Its Busine...   SCIENCE   \n",
       "6959              Who Knew Sauropods Could Be So Small?    SCIENCE   \n",
       "10978  This Week In Science: Space Ripples Turn to Du...   SCIENCE   \n",
       "9849   Homo Naledi may be Two Million Years Old (Give...   SCIENCE   \n",
       "4955   Mysterious 'Fireball' Was Actually Russian Spy...   SCIENCE   \n",
       "\n",
       "       category_num  \n",
       "426               0  \n",
       "6062              0  \n",
       "10646             0  \n",
       "1540              0  \n",
       "3225              0  \n",
       "...             ...  \n",
       "11549             3  \n",
       "6959              3  \n",
       "10978             3  \n",
       "9849              3  \n",
       "4955              3  \n",
       "\n",
       "[5524 rows x 3 columns]"
      ]
     },
     "execution_count": 64,
     "metadata": {},
     "output_type": "execute_result"
    }
   ],
   "source": [
    "df_balanced"
   ]
  },
  {
   "cell_type": "markdown",
   "id": "04a7cbc5",
   "metadata": {},
   "source": [
    "##### Build a model with original text (no pre processing)"
   ]
  },
  {
   "cell_type": "code",
   "execution_count": 89,
   "id": "9fa8f873",
   "metadata": {},
   "outputs": [],
   "source": [
    "from sklearn.model_selection import train_test_split\n",
    "X_train, X_test, y_train, y_test = train_test_split(df_balanced.text,df_balanced.category_num,test_size=0.2,random_state=1,stratify=df_balanced.category_num)"
   ]
  },
  {
   "cell_type": "code",
   "execution_count": 90,
   "id": "2594f9af",
   "metadata": {},
   "outputs": [
    {
     "data": {
      "text/plain": [
       "0    1105\n",
       "2    1105\n",
       "3    1105\n",
       "1    1104\n",
       "Name: category_num, dtype: int64"
      ]
     },
     "execution_count": 90,
     "metadata": {},
     "output_type": "execute_result"
    }
   ],
   "source": [
    "y_train.value_counts()"
   ]
  },
  {
   "cell_type": "code",
   "execution_count": 91,
   "id": "7f66d5e7",
   "metadata": {},
   "outputs": [
    {
     "data": {
      "text/plain": [
       "(4419,)"
      ]
     },
     "execution_count": 91,
     "metadata": {},
     "output_type": "execute_result"
    }
   ],
   "source": [
    "X_train.shape"
   ]
  },
  {
   "cell_type": "code",
   "execution_count": 92,
   "id": "6ca5e53a",
   "metadata": {},
   "outputs": [
    {
     "data": {
      "text/plain": [
       "(1105,)"
      ]
     },
     "execution_count": 92,
     "metadata": {},
     "output_type": "execute_result"
    }
   ],
   "source": [
    "X_test.shape"
   ]
  },
  {
   "cell_type": "code",
   "execution_count": 93,
   "id": "efc4c845",
   "metadata": {},
   "outputs": [
    {
     "data": {
      "text/plain": [
       "8401    Ex-Sailor Executed For 1992 Murder, Dismemberm...\n",
       "8701    Secret Obamatrade Deal: America, the Next Detr...\n",
       "7821    Parents Charged With Homicide In Starvation De...\n",
       "6918    Steph Curry Bows Out Of Summer Olympics, Citin...\n",
       "832     Playing a science-based video game? It might b...\n",
       "Name: text, dtype: object"
      ]
     },
     "execution_count": 93,
     "metadata": {},
     "output_type": "execute_result"
    }
   ],
   "source": [
    "X_train[:5]"
   ]
  },
  {
   "cell_type": "code",
   "execution_count": 94,
   "id": "617befbc",
   "metadata": {
    "scrolled": false
   },
   "outputs": [
    {
     "data": {
      "text/plain": [
       "8401    1\n",
       "8701    0\n",
       "7821    1\n",
       "6918    2\n",
       "832     3\n",
       "Name: category_num, dtype: int64"
      ]
     },
     "execution_count": 94,
     "metadata": {},
     "output_type": "execute_result"
    }
   ],
   "source": [
    "y_train[:5]"
   ]
  },
  {
   "cell_type": "markdown",
   "id": "bc5b8b23",
   "metadata": {},
   "source": [
    "#### Attempt 1 : Use 1-gram which is nothing but a Bag Of Words (BOW) model"
   ]
  },
  {
   "cell_type": "code",
   "execution_count": 103,
   "id": "852c2b6e",
   "metadata": {},
   "outputs": [
    {
     "data": {
      "text/html": [
       "<style>#sk-container-id-7 {color: black;background-color: white;}#sk-container-id-7 pre{padding: 0;}#sk-container-id-7 div.sk-toggleable {background-color: white;}#sk-container-id-7 label.sk-toggleable__label {cursor: pointer;display: block;width: 100%;margin-bottom: 0;padding: 0.3em;box-sizing: border-box;text-align: center;}#sk-container-id-7 label.sk-toggleable__label-arrow:before {content: \"▸\";float: left;margin-right: 0.25em;color: #696969;}#sk-container-id-7 label.sk-toggleable__label-arrow:hover:before {color: black;}#sk-container-id-7 div.sk-estimator:hover label.sk-toggleable__label-arrow:before {color: black;}#sk-container-id-7 div.sk-toggleable__content {max-height: 0;max-width: 0;overflow: hidden;text-align: left;background-color: #f0f8ff;}#sk-container-id-7 div.sk-toggleable__content pre {margin: 0.2em;color: black;border-radius: 0.25em;background-color: #f0f8ff;}#sk-container-id-7 input.sk-toggleable__control:checked~div.sk-toggleable__content {max-height: 200px;max-width: 100%;overflow: auto;}#sk-container-id-7 input.sk-toggleable__control:checked~label.sk-toggleable__label-arrow:before {content: \"▾\";}#sk-container-id-7 div.sk-estimator input.sk-toggleable__control:checked~label.sk-toggleable__label {background-color: #d4ebff;}#sk-container-id-7 div.sk-label input.sk-toggleable__control:checked~label.sk-toggleable__label {background-color: #d4ebff;}#sk-container-id-7 input.sk-hidden--visually {border: 0;clip: rect(1px 1px 1px 1px);clip: rect(1px, 1px, 1px, 1px);height: 1px;margin: -1px;overflow: hidden;padding: 0;position: absolute;width: 1px;}#sk-container-id-7 div.sk-estimator {font-family: monospace;background-color: #f0f8ff;border: 1px dotted black;border-radius: 0.25em;box-sizing: border-box;margin-bottom: 0.5em;}#sk-container-id-7 div.sk-estimator:hover {background-color: #d4ebff;}#sk-container-id-7 div.sk-parallel-item::after {content: \"\";width: 100%;border-bottom: 1px solid gray;flex-grow: 1;}#sk-container-id-7 div.sk-label:hover label.sk-toggleable__label {background-color: #d4ebff;}#sk-container-id-7 div.sk-serial::before {content: \"\";position: absolute;border-left: 1px solid gray;box-sizing: border-box;top: 0;bottom: 0;left: 50%;z-index: 0;}#sk-container-id-7 div.sk-serial {display: flex;flex-direction: column;align-items: center;background-color: white;padding-right: 0.2em;padding-left: 0.2em;position: relative;}#sk-container-id-7 div.sk-item {position: relative;z-index: 1;}#sk-container-id-7 div.sk-parallel {display: flex;align-items: stretch;justify-content: center;background-color: white;position: relative;}#sk-container-id-7 div.sk-item::before, #sk-container-id-7 div.sk-parallel-item::before {content: \"\";position: absolute;border-left: 1px solid gray;box-sizing: border-box;top: 0;bottom: 0;left: 50%;z-index: -1;}#sk-container-id-7 div.sk-parallel-item {display: flex;flex-direction: column;z-index: 1;position: relative;background-color: white;}#sk-container-id-7 div.sk-parallel-item:first-child::after {align-self: flex-end;width: 50%;}#sk-container-id-7 div.sk-parallel-item:last-child::after {align-self: flex-start;width: 50%;}#sk-container-id-7 div.sk-parallel-item:only-child::after {width: 0;}#sk-container-id-7 div.sk-dashed-wrapped {border: 1px dashed gray;margin: 0 0.4em 0.5em 0.4em;box-sizing: border-box;padding-bottom: 0.4em;background-color: white;}#sk-container-id-7 div.sk-label label {font-family: monospace;font-weight: bold;display: inline-block;line-height: 1.2em;}#sk-container-id-7 div.sk-label-container {text-align: center;}#sk-container-id-7 div.sk-container {/* jupyter's `normalize.less` sets `[hidden] { display: none; }` but bootstrap.min.css set `[hidden] { display: none !important; }` so we also need the `!important` here to be able to override the default hidden behavior on the sphinx rendered scikit-learn.org. See: https://github.com/scikit-learn/scikit-learn/issues/21755 */display: inline-block !important;position: relative;}#sk-container-id-7 div.sk-text-repr-fallback {display: none;}</style><div id=\"sk-container-id-7\" class=\"sk-top-container\"><div class=\"sk-text-repr-fallback\"><pre>Pipeline(steps=[(&#x27;vectorizer&#x27;, CountVectorizer()),\n",
       "                (&#x27;naive bayes&#x27;, MultinomialNB())])</pre><b>In a Jupyter environment, please rerun this cell to show the HTML representation or trust the notebook. <br />On GitHub, the HTML representation is unable to render, please try loading this page with nbviewer.org.</b></div><div class=\"sk-container\" hidden><div class=\"sk-item sk-dashed-wrapped\"><div class=\"sk-label-container\"><div class=\"sk-label sk-toggleable\"><input class=\"sk-toggleable__control sk-hidden--visually\" id=\"sk-estimator-id-13\" type=\"checkbox\" ><label for=\"sk-estimator-id-13\" class=\"sk-toggleable__label sk-toggleable__label-arrow\">Pipeline</label><div class=\"sk-toggleable__content\"><pre>Pipeline(steps=[(&#x27;vectorizer&#x27;, CountVectorizer()),\n",
       "                (&#x27;naive bayes&#x27;, MultinomialNB())])</pre></div></div></div><div class=\"sk-serial\"><div class=\"sk-item\"><div class=\"sk-estimator sk-toggleable\"><input class=\"sk-toggleable__control sk-hidden--visually\" id=\"sk-estimator-id-14\" type=\"checkbox\" ><label for=\"sk-estimator-id-14\" class=\"sk-toggleable__label sk-toggleable__label-arrow\">CountVectorizer</label><div class=\"sk-toggleable__content\"><pre>CountVectorizer()</pre></div></div></div><div class=\"sk-item\"><div class=\"sk-estimator sk-toggleable\"><input class=\"sk-toggleable__control sk-hidden--visually\" id=\"sk-estimator-id-15\" type=\"checkbox\" ><label for=\"sk-estimator-id-15\" class=\"sk-toggleable__label sk-toggleable__label-arrow\">MultinomialNB</label><div class=\"sk-toggleable__content\"><pre>MultinomialNB()</pre></div></div></div></div></div></div></div>"
      ],
      "text/plain": [
       "Pipeline(steps=[('vectorizer', CountVectorizer()),\n",
       "                ('naive bayes', MultinomialNB())])"
      ]
     },
     "execution_count": 103,
     "metadata": {},
     "output_type": "execute_result"
    }
   ],
   "source": [
    "from sklearn.pipeline import Pipeline\n",
    "from sklearn.feature_extraction.text import CountVectorizer\n",
    "from sklearn.naive_bayes import MultinomialNB\n",
    "\n",
    "#1. create a pipeline object\n",
    "clf = Pipeline([('vectorizer',CountVectorizer(ngram_range = (1, 1))),\n",
    "          ('naive bayes',MultinomialNB())\n",
    "         ])\n",
    "\n",
    "#2. fit with X_train and y_train\n",
    "clf.fit(X_train,y_train)\n"
   ]
  },
  {
   "cell_type": "code",
   "execution_count": 104,
   "id": "df46379a",
   "metadata": {},
   "outputs": [
    {
     "data": {
      "text/plain": [
       "array([3, 0, 0, 1, 0], dtype=int64)"
      ]
     },
     "execution_count": 104,
     "metadata": {},
     "output_type": "execute_result"
    }
   ],
   "source": [
    "#3. get the predictions for X_test and store it in y_pred\n",
    "\n",
    "y_pred = clf.predict(X_test)\n",
    "y_pred[:5]"
   ]
  },
  {
   "cell_type": "code",
   "execution_count": 105,
   "id": "ed1da141",
   "metadata": {},
   "outputs": [
    {
     "data": {
      "text/plain": [
       "6491    3\n",
       "7848    0\n",
       "8415    0\n",
       "7384    1\n",
       "8308    0\n",
       "Name: category_num, dtype: int64"
      ]
     },
     "execution_count": 105,
     "metadata": {},
     "output_type": "execute_result"
    }
   ],
   "source": [
    "y_test[:5]"
   ]
  },
  {
   "cell_type": "code",
   "execution_count": 106,
   "id": "18278ce2",
   "metadata": {},
   "outputs": [
    {
     "name": "stdout",
     "output_type": "stream",
     "text": [
      "              precision    recall  f1-score   support\n",
      "\n",
      "           0       0.79      0.88      0.83       276\n",
      "           1       0.87      0.91      0.89       277\n",
      "           2       0.88      0.83      0.85       276\n",
      "           3       0.90      0.82      0.86       276\n",
      "\n",
      "    accuracy                           0.86      1105\n",
      "   macro avg       0.86      0.86      0.86      1105\n",
      "weighted avg       0.86      0.86      0.86      1105\n",
      "\n"
     ]
    }
   ],
   "source": [
    "#4. print the classfication report\n",
    "from sklearn.metrics import classification_report\n",
    "print(classification_report(y_test,y_pred))"
   ]
  },
  {
   "cell_type": "code",
   "execution_count": 108,
   "id": "f59c1e23",
   "metadata": {},
   "outputs": [
    {
     "data": {
      "text/plain": [
       "array([[242,  10,  13,  11],\n",
       "       [  9, 252,  11,   5],\n",
       "       [ 18,  22, 228,   8],\n",
       "       [ 39,   5,   7, 225]], dtype=int64)"
      ]
     },
     "execution_count": 108,
     "metadata": {},
     "output_type": "execute_result"
    }
   ],
   "source": [
    "from sklearn.metrics import confusion_matrix\n",
    "cm = confusion_matrix(y_test, y_pred)\n",
    "cm"
   ]
  },
  {
   "cell_type": "code",
   "execution_count": 109,
   "id": "5d8d059e",
   "metadata": {},
   "outputs": [
    {
     "data": {
      "text/plain": [
       "Text(69.0, 0.5, 'Truth')"
      ]
     },
     "execution_count": 109,
     "metadata": {},
     "output_type": "execute_result"
    },
    {
     "data": {
      "image/png": "[encoded data removed]",
      "text/plain": [
       "<Figure size 720x504 with 2 Axes>"
      ]
     },
     "metadata": {
      "needs_background": "light"
     },
     "output_type": "display_data"
    }
   ],
   "source": [
    "from matplotlib import pyplot as plt\n",
    "import seaborn as sn\n",
    "plt.figure(figsize = (10,7))\n",
    "sn.heatmap(cm, annot=True, fmt='d')\n",
    "plt.xlabel('Prediction')\n",
    "plt.ylabel('Truth')"
   ]
  },
  {
   "cell_type": "markdown",
   "id": "2154b357",
   "metadata": {},
   "source": [
    "#### Attempt 2 : Use 1-gram to bigrams"
   ]
  },
  {
   "cell_type": "code",
   "execution_count": 112,
   "id": "e2ba7e74",
   "metadata": {},
   "outputs": [
    {
     "data": {
      "text/plain": [
       "array([3, 0, 0, 2, 0], dtype=int64)"
      ]
     },
     "execution_count": 112,
     "metadata": {},
     "output_type": "execute_result"
    }
   ],
   "source": [
    "clf_bigram = Pipeline([('vectorizer', CountVectorizer(ngram_range = (1, 2))),\n",
    "                       ('naive bayes', MultinomialNB())\n",
    "                      ])\n",
    "clf_bigram.fit(X_train, y_train)\n",
    "y_pred_bi = clf_bigram.predict(X_test)\n",
    "y_pred_bi[:5]"
   ]
  },
  {
   "cell_type": "code",
   "execution_count": 113,
   "id": "80e63ed4",
   "metadata": {},
   "outputs": [
    {
     "data": {
      "text/plain": [
       "6491    3\n",
       "7848    0\n",
       "8415    0\n",
       "7384    1\n",
       "8308    0\n",
       "Name: category_num, dtype: int64"
      ]
     },
     "execution_count": 113,
     "metadata": {},
     "output_type": "execute_result"
    }
   ],
   "source": [
    "y_test[:5]"
   ]
  },
  {
   "cell_type": "code",
   "execution_count": 114,
   "id": "fd5b8a55",
   "metadata": {},
   "outputs": [
    {
     "name": "stdout",
     "output_type": "stream",
     "text": [
      "              precision    recall  f1-score   support\n",
      "\n",
      "           0       0.71      0.91      0.80       276\n",
      "           1       0.89      0.91      0.90       277\n",
      "           2       0.90      0.78      0.83       276\n",
      "           3       0.91      0.77      0.84       276\n",
      "\n",
      "    accuracy                           0.84      1105\n",
      "   macro avg       0.85      0.84      0.84      1105\n",
      "weighted avg       0.85      0.84      0.84      1105\n",
      "\n"
     ]
    }
   ],
   "source": [
    "print(classification_report(y_test,y_pred_bi))"
   ]
  },
  {
   "cell_type": "code",
   "execution_count": 115,
   "id": "387d2f4d",
   "metadata": {},
   "outputs": [
    {
     "data": {
      "text/plain": [
       "array([[250,   8,  11,   7],\n",
       "       [ 15, 251,   6,   5],\n",
       "       [ 34,  18, 215,   9],\n",
       "       [ 51,   5,   7, 213]], dtype=int64)"
      ]
     },
     "execution_count": 115,
     "metadata": {},
     "output_type": "execute_result"
    }
   ],
   "source": [
    "cm_bi = confusion_matrix(y_test, y_pred_bi)\n",
    "cm_bi"
   ]
  },
  {
   "cell_type": "code",
   "execution_count": 116,
   "id": "b0d3ad72",
   "metadata": {
    "scrolled": true
   },
   "outputs": [
    {
     "data": {
      "text/plain": [
       "Text(69.0, 0.5, 'Truth')"
      ]
     },
     "execution_count": 116,
     "metadata": {},
     "output_type": "execute_result"
    },
    {
     "data": {
      "image/png": "[encoded data removed]",
      "text/plain": [
       "<Figure size 720x504 with 2 Axes>"
      ]
     },
     "metadata": {
      "needs_background": "light"
     },
     "output_type": "display_data"
    }
   ],
   "source": [
    "plt.figure(figsize = (10,7))\n",
    "sn.heatmap(cm_bi, annot=True, fmt='d')\n",
    "plt.xlabel('Prediction')\n",
    "plt.ylabel('Truth')"
   ]
  },
  {
   "cell_type": "markdown",
   "id": "13e1ea8b",
   "metadata": {},
   "source": [
    "### Attempt 3 : Use 1-gram to trigrams"
   ]
  },
  {
   "cell_type": "code",
   "execution_count": 117,
   "id": "61714f8e",
   "metadata": {},
   "outputs": [
    {
     "data": {
      "text/plain": [
       "array([3, 0, 0, 2, 0], dtype=int64)"
      ]
     },
     "execution_count": 117,
     "metadata": {},
     "output_type": "execute_result"
    }
   ],
   "source": [
    "clf_trigram = Pipeline([('vectorizer', CountVectorizer(ngram_range = (1, 3))),\n",
    "                       ('naive bayes', MultinomialNB())\n",
    "                      ])\n",
    "clf_trigram.fit(X_train, y_train)\n",
    "y_pred_tri = clf_trigram.predict(X_test)\n",
    "y_pred_tri[:5]"
   ]
  },
  {
   "cell_type": "code",
   "execution_count": 118,
   "id": "2683c572",
   "metadata": {},
   "outputs": [
    {
     "data": {
      "text/plain": [
       "6491    3\n",
       "7848    0\n",
       "8415    0\n",
       "7384    1\n",
       "8308    0\n",
       "Name: category_num, dtype: int64"
      ]
     },
     "execution_count": 118,
     "metadata": {},
     "output_type": "execute_result"
    }
   ],
   "source": [
    "y_test[:5]"
   ]
  },
  {
   "cell_type": "code",
   "execution_count": 119,
   "id": "aa538757",
   "metadata": {},
   "outputs": [
    {
     "name": "stdout",
     "output_type": "stream",
     "text": [
      "              precision    recall  f1-score   support\n",
      "\n",
      "           0       0.69      0.91      0.79       276\n",
      "           1       0.89      0.90      0.89       277\n",
      "           2       0.91      0.77      0.83       276\n",
      "           3       0.90      0.75      0.82       276\n",
      "\n",
      "    accuracy                           0.83      1105\n",
      "   macro avg       0.85      0.83      0.83      1105\n",
      "weighted avg       0.85      0.83      0.83      1105\n",
      "\n"
     ]
    }
   ],
   "source": [
    "print(classification_report(y_test,y_pred_tri))"
   ]
  },
  {
   "cell_type": "code",
   "execution_count": 120,
   "id": "3ea4476b",
   "metadata": {},
   "outputs": [
    {
     "data": {
      "text/plain": [
       "array([[251,   8,   9,   8],\n",
       "       [ 17, 249,   6,   5],\n",
       "       [ 36,  19, 212,   9],\n",
       "       [ 58,   5,   5, 208]], dtype=int64)"
      ]
     },
     "execution_count": 120,
     "metadata": {},
     "output_type": "execute_result"
    }
   ],
   "source": [
    "cm_tri = confusion_matrix(y_test, y_pred_tri)\n",
    "cm_tri"
   ]
  },
  {
   "cell_type": "code",
   "execution_count": 121,
   "id": "acb3c043",
   "metadata": {},
   "outputs": [
    {
     "data": {
      "text/plain": [
       "Text(69.0, 0.5, 'Truth')"
      ]
     },
     "execution_count": 121,
     "metadata": {},
     "output_type": "execute_result"
    },
    {
     "data": {
      "image/png": "[encoded data removed]",
      "text/plain": [
       "<Figure size 720x504 with 2 Axes>"
      ]
     },
     "metadata": {
      "needs_background": "light"
     },
     "output_type": "display_data"
    }
   ],
   "source": [
    "plt.figure(figsize = (10,7))\n",
    "sn.heatmap(cm_tri, annot=True, fmt='d')\n",
    "plt.xlabel('Prediction')\n",
    "plt.ylabel('Truth')"
   ]
  },
  {
   "cell_type": "markdown",
   "id": "13cef206",
   "metadata": {},
   "source": [
    "Use text pre-processing to remove stop words, punctuations and apply lemmatization\n",
    "\n",
    "We have not done any text-processing yet to remove stop words, punctuations, apply lemmatization etc. Well we wanted to train the model without any preprocessing first and check the performance. Now we will re-do same thing but with preprocessing of text"
   ]
  },
  {
   "cell_type": "code",
   "execution_count": 123,
   "id": "2cf2b5b9",
   "metadata": {},
   "outputs": [
    {
     "data": {
      "text/html": [
       "<div>\n",
       "<style scoped>\n",
       "    .dataframe tbody tr th:only-of-type {\n",
       "        vertical-align: middle;\n",
       "    }\n",
       "\n",
       "    .dataframe tbody tr th {\n",
       "        vertical-align: top;\n",
       "    }\n",
       "\n",
       "    .dataframe thead th {\n",
       "        text-align: right;\n",
       "    }\n",
       "</style>\n",
       "<table border=\"1\" class=\"dataframe\">\n",
       "  <thead>\n",
       "    <tr style=\"text-align: right;\">\n",
       "      <th></th>\n",
       "      <th>text</th>\n",
       "      <th>category</th>\n",
       "      <th>category_num</th>\n",
       "    </tr>\n",
       "  </thead>\n",
       "  <tbody>\n",
       "    <tr>\n",
       "      <th>426</th>\n",
       "      <td>9 Tips to Kick Your Business' Summer Marketing...</td>\n",
       "      <td>BUSINESS</td>\n",
       "      <td>0</td>\n",
       "    </tr>\n",
       "    <tr>\n",
       "      <th>6062</th>\n",
       "      <td>Why You Should Be Using LinkedIn More Like Fac...</td>\n",
       "      <td>BUSINESS</td>\n",
       "      <td>0</td>\n",
       "    </tr>\n",
       "    <tr>\n",
       "      <th>10646</th>\n",
       "      <td>Putting the Emphasis Where It Belongs A leader...</td>\n",
       "      <td>BUSINESS</td>\n",
       "      <td>0</td>\n",
       "    </tr>\n",
       "    <tr>\n",
       "      <th>1540</th>\n",
       "      <td>3 Reasons To Be Angry About Equifax’s Data Bre...</td>\n",
       "      <td>BUSINESS</td>\n",
       "      <td>0</td>\n",
       "    </tr>\n",
       "    <tr>\n",
       "      <th>3225</th>\n",
       "      <td>Trailblazing Women: Kelly Hoey, LP at Laconia ...</td>\n",
       "      <td>BUSINESS</td>\n",
       "      <td>0</td>\n",
       "    </tr>\n",
       "    <tr>\n",
       "      <th>...</th>\n",
       "      <td>...</td>\n",
       "      <td>...</td>\n",
       "      <td>...</td>\n",
       "    </tr>\n",
       "    <tr>\n",
       "      <th>11549</th>\n",
       "      <td>SeaWorld Doesn't Seem To Understand Its Busine...</td>\n",
       "      <td>SCIENCE</td>\n",
       "      <td>3</td>\n",
       "    </tr>\n",
       "    <tr>\n",
       "      <th>6959</th>\n",
       "      <td>Who Knew Sauropods Could Be So Small?</td>\n",
       "      <td>SCIENCE</td>\n",
       "      <td>3</td>\n",
       "    </tr>\n",
       "    <tr>\n",
       "      <th>10978</th>\n",
       "      <td>This Week In Science: Space Ripples Turn to Du...</td>\n",
       "      <td>SCIENCE</td>\n",
       "      <td>3</td>\n",
       "    </tr>\n",
       "    <tr>\n",
       "      <th>9849</th>\n",
       "      <td>Homo Naledi may be Two Million Years Old (Give...</td>\n",
       "      <td>SCIENCE</td>\n",
       "      <td>3</td>\n",
       "    </tr>\n",
       "    <tr>\n",
       "      <th>4955</th>\n",
       "      <td>Mysterious 'Fireball' Was Actually Russian Spy...</td>\n",
       "      <td>SCIENCE</td>\n",
       "      <td>3</td>\n",
       "    </tr>\n",
       "  </tbody>\n",
       "</table>\n",
       "<p>5524 rows × 3 columns</p>\n",
       "</div>"
      ],
      "text/plain": [
       "                                                    text  category  \\\n",
       "426    9 Tips to Kick Your Business' Summer Marketing...  BUSINESS   \n",
       "6062   Why You Should Be Using LinkedIn More Like Fac...  BUSINESS   \n",
       "10646  Putting the Emphasis Where It Belongs A leader...  BUSINESS   \n",
       "1540   3 Reasons To Be Angry About Equifax’s Data Bre...  BUSINESS   \n",
       "3225   Trailblazing Women: Kelly Hoey, LP at Laconia ...  BUSINESS   \n",
       "...                                                  ...       ...   \n",
       "11549  SeaWorld Doesn't Seem To Understand Its Busine...   SCIENCE   \n",
       "6959              Who Knew Sauropods Could Be So Small?    SCIENCE   \n",
       "10978  This Week In Science: Space Ripples Turn to Du...   SCIENCE   \n",
       "9849   Homo Naledi may be Two Million Years Old (Give...   SCIENCE   \n",
       "4955   Mysterious 'Fireball' Was Actually Russian Spy...   SCIENCE   \n",
       "\n",
       "       category_num  \n",
       "426               0  \n",
       "6062              0  \n",
       "10646             0  \n",
       "1540              0  \n",
       "3225              0  \n",
       "...             ...  \n",
       "11549             3  \n",
       "6959              3  \n",
       "10978             3  \n",
       "9849              3  \n",
       "4955              3  \n",
       "\n",
       "[5524 rows x 3 columns]"
      ]
     },
     "execution_count": 123,
     "metadata": {},
     "output_type": "execute_result"
    }
   ],
   "source": [
    "df_balanced"
   ]
  },
  {
   "cell_type": "code",
   "execution_count": 124,
   "id": "b9e9a41a",
   "metadata": {},
   "outputs": [],
   "source": [
    "def preprocess(text):\n",
    "    doc = nlp(text)\n",
    "    \n",
    "    filtered_tokens=[]\n",
    "    \n",
    "    for token in doc:\n",
    "        if token.is_stop or token.is_punct:\n",
    "            continue\n",
    "        filtered_tokens.append(token.lemma_)\n",
    "    return \" \".join(filtered_tokens)\n",
    "        "
   ]
  },
  {
   "cell_type": "code",
   "execution_count": 127,
   "id": "e8c6bb96",
   "metadata": {},
   "outputs": [
    {
     "data": {
      "text/html": [
       "<div>\n",
       "<style scoped>\n",
       "    .dataframe tbody tr th:only-of-type {\n",
       "        vertical-align: middle;\n",
       "    }\n",
       "\n",
       "    .dataframe tbody tr th {\n",
       "        vertical-align: top;\n",
       "    }\n",
       "\n",
       "    .dataframe thead th {\n",
       "        text-align: right;\n",
       "    }\n",
       "</style>\n",
       "<table border=\"1\" class=\"dataframe\">\n",
       "  <thead>\n",
       "    <tr style=\"text-align: right;\">\n",
       "      <th></th>\n",
       "      <th>text</th>\n",
       "      <th>category</th>\n",
       "      <th>category_num</th>\n",
       "      <th>processed_text</th>\n",
       "    </tr>\n",
       "  </thead>\n",
       "  <tbody>\n",
       "    <tr>\n",
       "      <th>0</th>\n",
       "      <td>Watching Schrödinger's Cat Die University of C...</td>\n",
       "      <td>SCIENCE</td>\n",
       "      <td>3</td>\n",
       "      <td>watch Schrödinger Cat Die University Californi...</td>\n",
       "    </tr>\n",
       "    <tr>\n",
       "      <th>1</th>\n",
       "      <td>WATCH: Freaky Vortex Opens Up In Flooded Lake</td>\n",
       "      <td>SCIENCE</td>\n",
       "      <td>3</td>\n",
       "      <td>WATCH Freaky vortex open Flooded Lake</td>\n",
       "    </tr>\n",
       "    <tr>\n",
       "      <th>2</th>\n",
       "      <td>Entrepreneurs Today Don't Need a Big Budget to...</td>\n",
       "      <td>BUSINESS</td>\n",
       "      <td>0</td>\n",
       "      <td>entrepreneur today need Big Budget start year ...</td>\n",
       "    </tr>\n",
       "    <tr>\n",
       "      <th>3</th>\n",
       "      <td>These Roads Could Recharge Your Electric Car A...</td>\n",
       "      <td>BUSINESS</td>\n",
       "      <td>0</td>\n",
       "      <td>road recharge electric Car drive high tech hig...</td>\n",
       "    </tr>\n",
       "    <tr>\n",
       "      <th>4</th>\n",
       "      <td>Civilian 'Guard' Fires Gun While 'Protecting' ...</td>\n",
       "      <td>CRIME</td>\n",
       "      <td>1</td>\n",
       "      <td>NaN</td>\n",
       "    </tr>\n",
       "  </tbody>\n",
       "</table>\n",
       "</div>"
      ],
      "text/plain": [
       "                                                text  category  category_num  \\\n",
       "0  Watching Schrödinger's Cat Die University of C...   SCIENCE             3   \n",
       "1     WATCH: Freaky Vortex Opens Up In Flooded Lake    SCIENCE             3   \n",
       "2  Entrepreneurs Today Don't Need a Big Budget to...  BUSINESS             0   \n",
       "3  These Roads Could Recharge Your Electric Car A...  BUSINESS             0   \n",
       "4  Civilian 'Guard' Fires Gun While 'Protecting' ...     CRIME             1   \n",
       "\n",
       "                                      processed_text  \n",
       "0  watch Schrödinger Cat Die University Californi...  \n",
       "1              WATCH Freaky vortex open Flooded Lake  \n",
       "2  entrepreneur today need Big Budget start year ...  \n",
       "3  road recharge electric Car drive high tech hig...  \n",
       "4                                                NaN  "
      ]
     },
     "execution_count": 127,
     "metadata": {},
     "output_type": "execute_result"
    }
   ],
   "source": [
    "df_balanced['processed_text'] = df_balanced.text.apply(preprocess)\n",
    "df_balanced.head()"
   ]
  },
  {
   "cell_type": "code",
   "execution_count": 129,
   "id": "8ff253a0",
   "metadata": {},
   "outputs": [],
   "source": [
    "X_train, X_test, y_train, y_test=train_test_split(df_balanced.processed_text,df_balanced.category_num,test_size=0.2,random_state=1,stratify=df_balanced.category_num)"
   ]
  },
  {
   "cell_type": "code",
   "execution_count": 131,
   "id": "33a36125",
   "metadata": {},
   "outputs": [
    {
     "data": {
      "text/plain": [
       "(8401    Ex Sailor execute 1992 Murder Dismemberment Cr...\n",
       " 8701    Secret Obamatrade Deal America Detroit journal...\n",
       " 7821    parent charge Homicide starvation Death Autist...\n",
       " 6918    Steph Curry bow Summer Olympics Citing Injurie...\n",
       " 832                    play science base video game wrong\n",
       "                               ...                        \n",
       " 5942    Deputy Investigation shooting allegedly Shoots...\n",
       " 4989    Streaker Interrupts NFL Game Radio Announcer K...\n",
       " 4129    Minnesota Mom accuse Beating Enslaving chinese...\n",
       " 557     Lax Supervision Plagued Officer Sex Cases AP I...\n",
       " 2067    Lemon Lululemon Lululemon comment likely cause...\n",
       " Name: processed_text, Length: 4419, dtype: object,\n",
       " 8401    1\n",
       " 8701    0\n",
       " 7821    1\n",
       " 6918    2\n",
       " 832     3\n",
       "        ..\n",
       " 5942    1\n",
       " 4989    2\n",
       " 4129    1\n",
       " 557     1\n",
       " 2067    0\n",
       " Name: category_num, Length: 4419, dtype: int64)"
      ]
     },
     "execution_count": 131,
     "metadata": {},
     "output_type": "execute_result"
    }
   ],
   "source": [
    "X_train,y_train"
   ]
  },
  {
   "cell_type": "code",
   "execution_count": 132,
   "id": "d0e4eb20",
   "metadata": {},
   "outputs": [],
   "source": [
    "clf_processed = Pipeline([('vectorizer',CountVectorizer(ngram_range=(1,1))),\n",
    "          ('naive bayes',MultinomialNB())])"
   ]
  },
  {
   "cell_type": "code",
   "execution_count": 133,
   "id": "c2221c01",
   "metadata": {},
   "outputs": [
    {
     "data": {
      "text/html": [
       "<style>#sk-container-id-8 {color: black;background-color: white;}#sk-container-id-8 pre{padding: 0;}#sk-container-id-8 div.sk-toggleable {background-color: white;}#sk-container-id-8 label.sk-toggleable__label {cursor: pointer;display: block;width: 100%;margin-bottom: 0;padding: 0.3em;box-sizing: border-box;text-align: center;}#sk-container-id-8 label.sk-toggleable__label-arrow:before {content: \"▸\";float: left;margin-right: 0.25em;color: #696969;}#sk-container-id-8 label.sk-toggleable__label-arrow:hover:before {color: black;}#sk-container-id-8 div.sk-estimator:hover label.sk-toggleable__label-arrow:before {color: black;}#sk-container-id-8 div.sk-toggleable__content {max-height: 0;max-width: 0;overflow: hidden;text-align: left;background-color: #f0f8ff;}#sk-container-id-8 div.sk-toggleable__content pre {margin: 0.2em;color: black;border-radius: 0.25em;background-color: #f0f8ff;}#sk-container-id-8 input.sk-toggleable__control:checked~div.sk-toggleable__content {max-height: 200px;max-width: 100%;overflow: auto;}#sk-container-id-8 input.sk-toggleable__control:checked~label.sk-toggleable__label-arrow:before {content: \"▾\";}#sk-container-id-8 div.sk-estimator input.sk-toggleable__control:checked~label.sk-toggleable__label {background-color: #d4ebff;}#sk-container-id-8 div.sk-label input.sk-toggleable__control:checked~label.sk-toggleable__label {background-color: #d4ebff;}#sk-container-id-8 input.sk-hidden--visually {border: 0;clip: rect(1px 1px 1px 1px);clip: rect(1px, 1px, 1px, 1px);height: 1px;margin: -1px;overflow: hidden;padding: 0;position: absolute;width: 1px;}#sk-container-id-8 div.sk-estimator {font-family: monospace;background-color: #f0f8ff;border: 1px dotted black;border-radius: 0.25em;box-sizing: border-box;margin-bottom: 0.5em;}#sk-container-id-8 div.sk-estimator:hover {background-color: #d4ebff;}#sk-container-id-8 div.sk-parallel-item::after {content: \"\";width: 100%;border-bottom: 1px solid gray;flex-grow: 1;}#sk-container-id-8 div.sk-label:hover label.sk-toggleable__label {background-color: #d4ebff;}#sk-container-id-8 div.sk-serial::before {content: \"\";position: absolute;border-left: 1px solid gray;box-sizing: border-box;top: 0;bottom: 0;left: 50%;z-index: 0;}#sk-container-id-8 div.sk-serial {display: flex;flex-direction: column;align-items: center;background-color: white;padding-right: 0.2em;padding-left: 0.2em;position: relative;}#sk-container-id-8 div.sk-item {position: relative;z-index: 1;}#sk-container-id-8 div.sk-parallel {display: flex;align-items: stretch;justify-content: center;background-color: white;position: relative;}#sk-container-id-8 div.sk-item::before, #sk-container-id-8 div.sk-parallel-item::before {content: \"\";position: absolute;border-left: 1px solid gray;box-sizing: border-box;top: 0;bottom: 0;left: 50%;z-index: -1;}#sk-container-id-8 div.sk-parallel-item {display: flex;flex-direction: column;z-index: 1;position: relative;background-color: white;}#sk-container-id-8 div.sk-parallel-item:first-child::after {align-self: flex-end;width: 50%;}#sk-container-id-8 div.sk-parallel-item:last-child::after {align-self: flex-start;width: 50%;}#sk-container-id-8 div.sk-parallel-item:only-child::after {width: 0;}#sk-container-id-8 div.sk-dashed-wrapped {border: 1px dashed gray;margin: 0 0.4em 0.5em 0.4em;box-sizing: border-box;padding-bottom: 0.4em;background-color: white;}#sk-container-id-8 div.sk-label label {font-family: monospace;font-weight: bold;display: inline-block;line-height: 1.2em;}#sk-container-id-8 div.sk-label-container {text-align: center;}#sk-container-id-8 div.sk-container {/* jupyter's `normalize.less` sets `[hidden] { display: none; }` but bootstrap.min.css set `[hidden] { display: none !important; }` so we also need the `!important` here to be able to override the default hidden behavior on the sphinx rendered scikit-learn.org. See: https://github.com/scikit-learn/scikit-learn/issues/21755 */display: inline-block !important;position: relative;}#sk-container-id-8 div.sk-text-repr-fallback {display: none;}</style><div id=\"sk-container-id-8\" class=\"sk-top-container\"><div class=\"sk-text-repr-fallback\"><pre>Pipeline(steps=[(&#x27;vectorizer&#x27;, CountVectorizer()),\n",
       "                (&#x27;naive bayes&#x27;, MultinomialNB())])</pre><b>In a Jupyter environment, please rerun this cell to show the HTML representation or trust the notebook. <br />On GitHub, the HTML representation is unable to render, please try loading this page with nbviewer.org.</b></div><div class=\"sk-container\" hidden><div class=\"sk-item sk-dashed-wrapped\"><div class=\"sk-label-container\"><div class=\"sk-label sk-toggleable\"><input class=\"sk-toggleable__control sk-hidden--visually\" id=\"sk-estimator-id-16\" type=\"checkbox\" ><label for=\"sk-estimator-id-16\" class=\"sk-toggleable__label sk-toggleable__label-arrow\">Pipeline</label><div class=\"sk-toggleable__content\"><pre>Pipeline(steps=[(&#x27;vectorizer&#x27;, CountVectorizer()),\n",
       "                (&#x27;naive bayes&#x27;, MultinomialNB())])</pre></div></div></div><div class=\"sk-serial\"><div class=\"sk-item\"><div class=\"sk-estimator sk-toggleable\"><input class=\"sk-toggleable__control sk-hidden--visually\" id=\"sk-estimator-id-17\" type=\"checkbox\" ><label for=\"sk-estimator-id-17\" class=\"sk-toggleable__label sk-toggleable__label-arrow\">CountVectorizer</label><div class=\"sk-toggleable__content\"><pre>CountVectorizer()</pre></div></div></div><div class=\"sk-item\"><div class=\"sk-estimator sk-toggleable\"><input class=\"sk-toggleable__control sk-hidden--visually\" id=\"sk-estimator-id-18\" type=\"checkbox\" ><label for=\"sk-estimator-id-18\" class=\"sk-toggleable__label sk-toggleable__label-arrow\">MultinomialNB</label><div class=\"sk-toggleable__content\"><pre>MultinomialNB()</pre></div></div></div></div></div></div></div>"
      ],
      "text/plain": [
       "Pipeline(steps=[('vectorizer', CountVectorizer()),\n",
       "                ('naive bayes', MultinomialNB())])"
      ]
     },
     "execution_count": 133,
     "metadata": {},
     "output_type": "execute_result"
    }
   ],
   "source": [
    "clf_processed.fit(X_train,y_train)"
   ]
  },
  {
   "cell_type": "code",
   "execution_count": 134,
   "id": "984ce4b7",
   "metadata": {},
   "outputs": [],
   "source": [
    "y_pred= clf_processed.predict(X_test)"
   ]
  },
  {
   "cell_type": "code",
   "execution_count": 137,
   "id": "888679a7",
   "metadata": {},
   "outputs": [
    {
     "data": {
      "text/plain": [
       "array([3, 0, 0, 1, 0], dtype=int64)"
      ]
     },
     "execution_count": 137,
     "metadata": {},
     "output_type": "execute_result"
    }
   ],
   "source": [
    "y_pred[:5]"
   ]
  },
  {
   "cell_type": "code",
   "execution_count": 138,
   "id": "de14f4e4",
   "metadata": {},
   "outputs": [
    {
     "data": {
      "text/plain": [
       "6491    3\n",
       "7848    0\n",
       "8415    0\n",
       "7384    1\n",
       "8308    0\n",
       "Name: category_num, dtype: int64"
      ]
     },
     "execution_count": 138,
     "metadata": {},
     "output_type": "execute_result"
    }
   ],
   "source": [
    "y_test[:5]"
   ]
  },
  {
   "cell_type": "code",
   "execution_count": 140,
   "id": "8f542bb5",
   "metadata": {},
   "outputs": [
    {
     "name": "stdout",
     "output_type": "stream",
     "text": [
      "              precision    recall  f1-score   support\n",
      "\n",
      "           0       0.85      0.85      0.85       276\n",
      "           1       0.85      0.95      0.89       277\n",
      "           2       0.88      0.87      0.88       276\n",
      "           3       0.92      0.82      0.87       276\n",
      "\n",
      "    accuracy                           0.87      1105\n",
      "   macro avg       0.87      0.87      0.87      1105\n",
      "weighted avg       0.87      0.87      0.87      1105\n",
      "\n"
     ]
    }
   ],
   "source": [
    "print(classification_report(y_test,y_pred))"
   ]
  },
  {
   "cell_type": "markdown",
   "id": "b5e4082e",
   "metadata": {},
   "source": [
    "If we compare above classification report for (1,1) gram with the one from unprocessed text, we will find some improvement in the model that uses preprocessed cleaned up text. Hence we can conclude that for this particular problem using preprocessing (removing stop words, lemmatization) is improving the performance of the model"
   ]
  },
  {
   "cell_type": "code",
   "execution_count": 141,
   "id": "00083705",
   "metadata": {},
   "outputs": [
    {
     "data": {
      "text/plain": [
       "array([[235,  13,  17,  11],\n",
       "       [  4, 262,   8,   3],\n",
       "       [  6,  24, 240,   6],\n",
       "       [ 33,  10,   7, 226]], dtype=int64)"
      ]
     },
     "execution_count": 141,
     "metadata": {},
     "output_type": "execute_result"
    }
   ],
   "source": [
    "from sklearn.metrics import confusion_matrix\n",
    "cm = confusion_matrix(y_test, y_pred)\n",
    "cm"
   ]
  },
  {
   "cell_type": "code",
   "execution_count": 142,
   "id": "d638d881",
   "metadata": {},
   "outputs": [
    {
     "data": {
      "text/plain": [
       "Text(69.0, 0.5, 'Truth')"
      ]
     },
     "execution_count": 142,
     "metadata": {},
     "output_type": "execute_result"
    },
    {
     "data": {
      "image/png": "[encoded data removed]",
      "text/plain": [
       "<Figure size 720x504 with 2 Axes>"
      ]
     },
     "metadata": {
      "needs_background": "light"
     },
     "output_type": "display_data"
    }
   ],
   "source": [
    "plt.figure(figsize = (10,7))\n",
    "sn.heatmap(cm, annot=True, fmt='d')\n",
    "plt.xlabel('Prediction')\n",
    "plt.ylabel('Truth')"
   ]
  },
  {
   "cell_type": "code",
   "execution_count": null,
   "id": "395f1419",
   "metadata": {},
   "outputs": [],
   "source": []
  }
 ],
 "metadata": {
  "kernelspec": {
   "display_name": "Python 3 (ipykernel)",
   "language": "python",
   "name": "python3"
  },
  "language_info": {
   "codemirror_mode": {
    "name": "ipython",
    "version": 3
   },
   "file_extension": ".py",
   "mimetype": "text/x-python",
   "name": "python",
   "nbconvert_exporter": "python",
   "pygments_lexer": "ipython3",
   "version": "3.9.7"
  }
 },
 "nbformat": 4,
 "nbformat_minor": 5
}
