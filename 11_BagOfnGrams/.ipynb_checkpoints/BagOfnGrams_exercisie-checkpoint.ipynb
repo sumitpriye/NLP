{
 "cells": [
  {
   "cell_type": "markdown",
   "id": "260c6626",
   "metadata": {},
   "source": [
    "#### Bag of n_grams: Exercise\n",
    "Fake news refers to misinformation or disinformation in the country which is spread through word of mouth and more recently through digital communication such as What's app messages, social media posts, etc.\n",
    "\n",
    "Fake news spreads faster than Real news and creates problems and fear among groups and in society.\n",
    "\n",
    "We are going to address these problems using classical NLP techniques and going to classify whether a given message/ text is Real or Fake Message.\n",
    "\n",
    "You will use a Bag of n-grams to pre-process the text and apply different classification algorithms.\n",
    "\n",
    "Sklearn CountVectorizer has the inbuilt implementations for Bag of Words."
   ]
  },
  {
   "cell_type": "code",
   "execution_count": 4,
   "id": "643b0068",
   "metadata": {},
   "outputs": [
    {
     "name": "stdout",
     "output_type": "stream",
     "text": [
      "(9900, 2)\n"
     ]
    },
    {
     "data": {
      "text/html": [
       "<div>\n",
       "<style scoped>\n",
       "    .dataframe tbody tr th:only-of-type {\n",
       "        vertical-align: middle;\n",
       "    }\n",
       "\n",
       "    .dataframe tbody tr th {\n",
       "        vertical-align: top;\n",
       "    }\n",
       "\n",
       "    .dataframe thead th {\n",
       "        text-align: right;\n",
       "    }\n",
       "</style>\n",
       "<table border=\"1\" class=\"dataframe\">\n",
       "  <thead>\n",
       "    <tr style=\"text-align: right;\">\n",
       "      <th></th>\n",
       "      <th>Text</th>\n",
       "      <th>label</th>\n",
       "    </tr>\n",
       "  </thead>\n",
       "  <tbody>\n",
       "    <tr>\n",
       "      <th>0</th>\n",
       "      <td>Top Trump Surrogate BRUTALLY Stabs Him In The...</td>\n",
       "      <td>Fake</td>\n",
       "    </tr>\n",
       "    <tr>\n",
       "      <th>1</th>\n",
       "      <td>U.S. conservative leader optimistic of common ...</td>\n",
       "      <td>Real</td>\n",
       "    </tr>\n",
       "    <tr>\n",
       "      <th>2</th>\n",
       "      <td>Trump proposes U.S. tax overhaul, stirs concer...</td>\n",
       "      <td>Real</td>\n",
       "    </tr>\n",
       "    <tr>\n",
       "      <th>3</th>\n",
       "      <td>Court Forces Ohio To Allow Millions Of Illega...</td>\n",
       "      <td>Fake</td>\n",
       "    </tr>\n",
       "    <tr>\n",
       "      <th>4</th>\n",
       "      <td>Democrats say Trump agrees to work on immigrat...</td>\n",
       "      <td>Real</td>\n",
       "    </tr>\n",
       "  </tbody>\n",
       "</table>\n",
       "</div>"
      ],
      "text/plain": [
       "                                                Text label\n",
       "0   Top Trump Surrogate BRUTALLY Stabs Him In The...  Fake\n",
       "1  U.S. conservative leader optimistic of common ...  Real\n",
       "2  Trump proposes U.S. tax overhaul, stirs concer...  Real\n",
       "3   Court Forces Ohio To Allow Millions Of Illega...  Fake\n",
       "4  Democrats say Trump agrees to work on immigrat...  Real"
      ]
     },
     "execution_count": 4,
     "metadata": {},
     "output_type": "execute_result"
    }
   ],
   "source": [
    "#import pandas library\n",
    "import pandas as pd\n",
    "\n",
    "#read the dataset with name \"Fake_Real_Data.csv\" and store it in a variable df\n",
    "\n",
    "df = pd.read_csv('Fake_Real_Data.csv')\n",
    "\n",
    "#print the shape of dataframe\n",
    "\n",
    "print(df.shape)\n",
    "#print top 5 rows\n",
    "df.head(5)"
   ]
  },
  {
   "cell_type": "code",
   "execution_count": 5,
   "id": "863570da",
   "metadata": {},
   "outputs": [
    {
     "data": {
      "text/plain": [
       "array(['Fake', 'Real'], dtype=object)"
      ]
     },
     "execution_count": 5,
     "metadata": {},
     "output_type": "execute_result"
    }
   ],
   "source": [
    "#check the distribution of labels \n",
    "\n",
    "df.label.unique()"
   ]
  },
  {
   "cell_type": "code",
   "execution_count": 6,
   "id": "fe9fa0db",
   "metadata": {},
   "outputs": [
    {
     "data": {
      "text/plain": [
       "Fake    5000\n",
       "Real    4900\n",
       "Name: label, dtype: int64"
      ]
     },
     "execution_count": 6,
     "metadata": {},
     "output_type": "execute_result"
    }
   ],
   "source": [
    "df.label.value_counts()"
   ]
  },
  {
   "cell_type": "code",
   "execution_count": 7,
   "id": "bbd14269",
   "metadata": {},
   "outputs": [],
   "source": [
    "# So its almost a balanced dataset"
   ]
  },
  {
   "cell_type": "code",
   "execution_count": 16,
   "id": "36d981a5",
   "metadata": {},
   "outputs": [],
   "source": [
    "label_num = {'Real': 0,\n",
    "            'Fake': 1}"
   ]
  },
  {
   "cell_type": "code",
   "execution_count": 17,
   "id": "7b0aed50",
   "metadata": {},
   "outputs": [
    {
     "data": {
      "text/plain": [
       "0       Fake\n",
       "1       Real\n",
       "2       Real\n",
       "3       Fake\n",
       "4       Real\n",
       "        ... \n",
       "9895    Fake\n",
       "9896    Real\n",
       "9897    Real\n",
       "9898    Fake\n",
       "9899    Fake\n",
       "Name: label, Length: 9900, dtype: object"
      ]
     },
     "execution_count": 17,
     "metadata": {},
     "output_type": "execute_result"
    }
   ],
   "source": [
    "df.label"
   ]
  },
  {
   "cell_type": "code",
   "execution_count": 18,
   "id": "71e92dc4",
   "metadata": {},
   "outputs": [],
   "source": [
    "#Add the new column \"label_num\" which gives a unique number to each of these labels \n",
    "\n",
    "df['label_num'] = df.label.map(label_num)\n",
    "#check the results with top 5 rows"
   ]
  },
  {
   "cell_type": "code",
   "execution_count": 19,
   "id": "cef60ef1",
   "metadata": {},
   "outputs": [
    {
     "data": {
      "text/html": [
       "<div>\n",
       "<style scoped>\n",
       "    .dataframe tbody tr th:only-of-type {\n",
       "        vertical-align: middle;\n",
       "    }\n",
       "\n",
       "    .dataframe tbody tr th {\n",
       "        vertical-align: top;\n",
       "    }\n",
       "\n",
       "    .dataframe thead th {\n",
       "        text-align: right;\n",
       "    }\n",
       "</style>\n",
       "<table border=\"1\" class=\"dataframe\">\n",
       "  <thead>\n",
       "    <tr style=\"text-align: right;\">\n",
       "      <th></th>\n",
       "      <th>Text</th>\n",
       "      <th>label</th>\n",
       "      <th>label_num</th>\n",
       "    </tr>\n",
       "  </thead>\n",
       "  <tbody>\n",
       "    <tr>\n",
       "      <th>0</th>\n",
       "      <td>Top Trump Surrogate BRUTALLY Stabs Him In The...</td>\n",
       "      <td>Fake</td>\n",
       "      <td>1</td>\n",
       "    </tr>\n",
       "    <tr>\n",
       "      <th>1</th>\n",
       "      <td>U.S. conservative leader optimistic of common ...</td>\n",
       "      <td>Real</td>\n",
       "      <td>0</td>\n",
       "    </tr>\n",
       "    <tr>\n",
       "      <th>2</th>\n",
       "      <td>Trump proposes U.S. tax overhaul, stirs concer...</td>\n",
       "      <td>Real</td>\n",
       "      <td>0</td>\n",
       "    </tr>\n",
       "    <tr>\n",
       "      <th>3</th>\n",
       "      <td>Court Forces Ohio To Allow Millions Of Illega...</td>\n",
       "      <td>Fake</td>\n",
       "      <td>1</td>\n",
       "    </tr>\n",
       "    <tr>\n",
       "      <th>4</th>\n",
       "      <td>Democrats say Trump agrees to work on immigrat...</td>\n",
       "      <td>Real</td>\n",
       "      <td>0</td>\n",
       "    </tr>\n",
       "  </tbody>\n",
       "</table>\n",
       "</div>"
      ],
      "text/plain": [
       "                                                Text label  label_num\n",
       "0   Top Trump Surrogate BRUTALLY Stabs Him In The...  Fake          1\n",
       "1  U.S. conservative leader optimistic of common ...  Real          0\n",
       "2  Trump proposes U.S. tax overhaul, stirs concer...  Real          0\n",
       "3   Court Forces Ohio To Allow Millions Of Illega...  Fake          1\n",
       "4  Democrats say Trump agrees to work on immigrat...  Real          0"
      ]
     },
     "execution_count": 19,
     "metadata": {},
     "output_type": "execute_result"
    }
   ],
   "source": [
    "df.head()"
   ]
  },
  {
   "cell_type": "markdown",
   "id": "a821a6c2",
   "metadata": {},
   "source": [
    "### Modelling without Pre-processing Text data"
   ]
  },
  {
   "cell_type": "code",
   "execution_count": 23,
   "id": "121e3bf3",
   "metadata": {},
   "outputs": [],
   "source": [
    "#import train-test-split from sklearn \n",
    "from sklearn.model_selection import train_test_split\n",
    "\n",
    "#Do the 'train-test' splitting with test size of 20% with random state of 2022 and stratify sampling too\n",
    "\n",
    "X_train,X_test,y_train,y_test = train_test_split(df.Text,df.label_num,test_size=0.2,random_state=2022,stratify=df.label_num)"
   ]
  },
  {
   "cell_type": "code",
   "execution_count": 24,
   "id": "7c15426c",
   "metadata": {},
   "outputs": [
    {
     "data": {
      "text/plain": [
       "(7920,)"
      ]
     },
     "execution_count": 24,
     "metadata": {},
     "output_type": "execute_result"
    }
   ],
   "source": [
    "X_train.shape"
   ]
  },
  {
   "cell_type": "code",
   "execution_count": 27,
   "id": "90efdddc",
   "metadata": {},
   "outputs": [
    {
     "data": {
      "text/plain": [
       "(1980,)"
      ]
     },
     "execution_count": 27,
     "metadata": {},
     "output_type": "execute_result"
    }
   ],
   "source": [
    "X_test.shape"
   ]
  },
  {
   "cell_type": "code",
   "execution_count": 30,
   "id": "0c259266",
   "metadata": {},
   "outputs": [
    {
     "data": {
      "text/plain": [
       "1    4000\n",
       "0    3920\n",
       "Name: label_num, dtype: int64"
      ]
     },
     "execution_count": 30,
     "metadata": {},
     "output_type": "execute_result"
    }
   ],
   "source": [
    "y_train.value_counts()"
   ]
  },
  {
   "cell_type": "markdown",
   "id": "ec6d3e32",
   "metadata": {},
   "source": [
    "### Attempt 1 :\n",
    "\n",
    "using sklearn pipeline module create a classification pipeline to classify the Data.\n",
    "#### Note:\n",
    "\n",
    "using CountVectorizer with unigram, bigram, and trigrams.\n",
    "use KNN as the classifier with n_neighbors of 10 and metric as 'euclidean' distance.\n",
    "print the classification report."
   ]
  },
  {
   "cell_type": "code",
   "execution_count": 33,
   "id": "f49643e9",
   "metadata": {},
   "outputs": [
    {
     "name": "stdout",
     "output_type": "stream",
     "text": [
      "              precision    recall  f1-score   support\n",
      "\n",
      "           0       0.89      0.98      0.93       980\n",
      "           1       0.98      0.89      0.93      1000\n",
      "\n",
      "    accuracy                           0.93      1980\n",
      "   macro avg       0.93      0.93      0.93      1980\n",
      "weighted avg       0.94      0.93      0.93      1980\n",
      "\n"
     ]
    }
   ],
   "source": [
    "from sklearn.pipeline import Pipeline\n",
    "from sklearn.feature_extraction.text import CountVectorizer\n",
    "from sklearn.neighbors import KNeighborsClassifier\n",
    "from sklearn.metrics import classification_report\n",
    "\n",
    "#1. create a pipeline object\n",
    "clf_1 = Pipeline([('vectorizer',CountVectorizer(ngram_range=(1,1))),\n",
    "         ('knn',KNeighborsClassifier(n_neighbors=10,metric='euclidean'))\n",
    "         ])\n",
    "\n",
    "\n",
    "#2. fit with X_train and y_train\n",
    "clf_1.fit(X_train,y_train)\n",
    "\n",
    "\n",
    "#3. get the predictions for X_test and store it in y_pred\n",
    "y_pred = clf_1.predict(X_test)\n",
    "\n",
    "\n",
    "#4. print the classfication report\n",
    "print(classification_report(y_test, y_pred))"
   ]
  },
  {
   "cell_type": "code",
   "execution_count": 34,
   "id": "c5c62990",
   "metadata": {},
   "outputs": [
    {
     "name": "stdout",
     "output_type": "stream",
     "text": [
      "              precision    recall  f1-score   support\n",
      "\n",
      "           0       0.74      0.98      0.85       980\n",
      "           1       0.97      0.67      0.79      1000\n",
      "\n",
      "    accuracy                           0.82      1980\n",
      "   macro avg       0.86      0.82      0.82      1980\n",
      "weighted avg       0.86      0.82      0.82      1980\n",
      "\n"
     ]
    }
   ],
   "source": [
    "from sklearn.pipeline import Pipeline\n",
    "from sklearn.feature_extraction.text import CountVectorizer\n",
    "from sklearn.neighbors import KNeighborsClassifier\n",
    "from sklearn.metrics import classification_report\n",
    "\n",
    "#1. create a pipeline object\n",
    "clf_2 = Pipeline([('vectorizer',CountVectorizer(ngram_range=(1,2))),\n",
    "         ('knn',KNeighborsClassifier(n_neighbors=10,metric='euclidean'))\n",
    "         ])\n",
    "\n",
    "\n",
    "#2. fit with X_train and y_train\n",
    "clf_2.fit(X_train,y_train)\n",
    "\n",
    "\n",
    "#3. get the predictions for X_test and store it in y_pred\n",
    "y_pred = clf_2.predict(X_test)\n",
    "\n",
    "\n",
    "#4. print the classfication report\n",
    "print(classification_report(y_test, y_pred))"
   ]
  },
  {
   "cell_type": "code",
   "execution_count": 35,
   "id": "2e34424b",
   "metadata": {},
   "outputs": [
    {
     "name": "stdout",
     "output_type": "stream",
     "text": [
      "              precision    recall  f1-score   support\n",
      "\n",
      "           0       0.63      0.99      0.77       980\n",
      "           1       0.98      0.42      0.59      1000\n",
      "\n",
      "    accuracy                           0.70      1980\n",
      "   macro avg       0.80      0.71      0.68      1980\n",
      "weighted avg       0.80      0.70      0.68      1980\n",
      "\n"
     ]
    }
   ],
   "source": [
    "from sklearn.pipeline import Pipeline\n",
    "from sklearn.feature_extraction.text import CountVectorizer\n",
    "from sklearn.neighbors import KNeighborsClassifier\n",
    "from sklearn.metrics import classification_report\n",
    "\n",
    "#1. create a pipeline object\n",
    "clf_3 = Pipeline([('vectorizer',CountVectorizer(ngram_range=(1,3))),\n",
    "         ('knn',KNeighborsClassifier(n_neighbors=10,metric='euclidean'))\n",
    "         ])\n",
    "\n",
    "\n",
    "#2. fit with X_train and y_train\n",
    "clf_3.fit(X_train,y_train)\n",
    "\n",
    "\n",
    "#3. get the predictions for X_test and store it in y_pred\n",
    "y_pred = clf_3.predict(X_test)\n",
    "\n",
    "\n",
    "#4. print the classfication report\n",
    "print(classification_report(y_test, y_pred))"
   ]
  },
  {
   "cell_type": "markdown",
   "id": "809986dd",
   "metadata": {},
   "source": [
    "### Attempt 2 :\n",
    "\n",
    "using the sklearn pipeline module create a classification pipeline to classify the Data.\n",
    "\n",
    "#### Note:\n",
    "\n",
    "using CountVectorizer with unigram, bigram, and trigrams.\n",
    "use KNN as the classifier with n_neighbors of 10 and metric as 'cosine' distance.\n",
    "print the classification report."
   ]
  },
  {
   "cell_type": "code",
   "execution_count": 36,
   "id": "80b64b30",
   "metadata": {},
   "outputs": [
    {
     "name": "stdout",
     "output_type": "stream",
     "text": [
      "              precision    recall  f1-score   support\n",
      "\n",
      "           0       0.82      1.00      0.90       980\n",
      "           1       1.00      0.78      0.88      1000\n",
      "\n",
      "    accuracy                           0.89      1980\n",
      "   macro avg       0.91      0.89      0.89      1980\n",
      "weighted avg       0.91      0.89      0.89      1980\n",
      "\n"
     ]
    }
   ],
   "source": [
    "from sklearn.pipeline import Pipeline\n",
    "from sklearn.feature_extraction.text import CountVectorizer\n",
    "from sklearn.neighbors import KNeighborsClassifier\n",
    "from sklearn.metrics import classification_report\n",
    "\n",
    "#1. create a pipeline object\n",
    "clf_4 = Pipeline([('vectorizer',CountVectorizer(ngram_range=(1,1))),\n",
    "         ('knn',KNeighborsClassifier(n_neighbors=10,metric='cosine'))\n",
    "         ])\n",
    "\n",
    "\n",
    "#2. fit with X_train and y_train\n",
    "clf_4.fit(X_train,y_train)\n",
    "\n",
    "\n",
    "#3. get the predictions for X_test and store it in y_pred\n",
    "y_pred = clf_4.predict(X_test)\n",
    "\n",
    "\n",
    "#4. print the classfication report\n",
    "print(classification_report(y_test, y_pred))"
   ]
  },
  {
   "cell_type": "code",
   "execution_count": 37,
   "id": "c288c010",
   "metadata": {},
   "outputs": [
    {
     "name": "stdout",
     "output_type": "stream",
     "text": [
      "              precision    recall  f1-score   support\n",
      "\n",
      "           0       0.72      1.00      0.84       980\n",
      "           1       1.00      0.62      0.77      1000\n",
      "\n",
      "    accuracy                           0.81      1980\n",
      "   macro avg       0.86      0.81      0.80      1980\n",
      "weighted avg       0.86      0.81      0.80      1980\n",
      "\n"
     ]
    }
   ],
   "source": [
    "from sklearn.pipeline import Pipeline\n",
    "from sklearn.feature_extraction.text import CountVectorizer\n",
    "from sklearn.neighbors import KNeighborsClassifier\n",
    "from sklearn.metrics import classification_report\n",
    "\n",
    "#1. create a pipeline object\n",
    "clf_5 = Pipeline([('vectorizer',CountVectorizer(ngram_range=(1,2))),\n",
    "         ('knn',KNeighborsClassifier(n_neighbors=10,metric='cosine'))\n",
    "         ])\n",
    "\n",
    "\n",
    "#2. fit with X_train and y_train\n",
    "clf_5.fit(X_train,y_train)\n",
    "\n",
    "\n",
    "#3. get the predictions for X_test and store it in y_pred\n",
    "y_pred = clf_5.predict(X_test)\n",
    "\n",
    "\n",
    "#4. print the classfication report\n",
    "print(classification_report(y_test, y_pred))"
   ]
  },
  {
   "cell_type": "code",
   "execution_count": 38,
   "id": "5ca56d26",
   "metadata": {},
   "outputs": [
    {
     "name": "stdout",
     "output_type": "stream",
     "text": [
      "              precision    recall  f1-score   support\n",
      "\n",
      "           0       0.65      1.00      0.79       980\n",
      "           1       1.00      0.47      0.64      1000\n",
      "\n",
      "    accuracy                           0.73      1980\n",
      "   macro avg       0.83      0.74      0.72      1980\n",
      "weighted avg       0.83      0.73      0.71      1980\n",
      "\n"
     ]
    }
   ],
   "source": [
    "from sklearn.pipeline import Pipeline\n",
    "from sklearn.feature_extraction.text import CountVectorizer\n",
    "from sklearn.neighbors import KNeighborsClassifier\n",
    "from sklearn.metrics import classification_report\n",
    "\n",
    "#1. create a pipeline object\n",
    "clf_6 = Pipeline([('vectorizer',CountVectorizer(ngram_range=(1,3))),\n",
    "         ('knn',KNeighborsClassifier(n_neighbors=10,metric='cosine'))\n",
    "         ])\n",
    "\n",
    "\n",
    "#2. fit with X_train and y_train\n",
    "clf_6.fit(X_train,y_train)\n",
    "\n",
    "\n",
    "#3. get the predictions for X_test and store it in y_pred\n",
    "y_pred = clf_6.predict(X_test)\n",
    "\n",
    "\n",
    "#4. print the classfication report\n",
    "print(classification_report(y_test, y_pred))"
   ]
  },
  {
   "cell_type": "markdown",
   "id": "0f5fcbbf",
   "metadata": {},
   "source": [
    "### Attempt 3 :\n",
    "\n",
    "using the sklearn pipeline module create a classification pipeline to classify the Data.\n",
    "#### Note:\n",
    "\n",
    "using CountVectorizer with only trigrams.\n",
    "use RandomForest as the classifier.\n",
    "print the classification report."
   ]
  },
  {
   "cell_type": "code",
   "execution_count": 43,
   "id": "e3272fff",
   "metadata": {},
   "outputs": [
    {
     "name": "stdout",
     "output_type": "stream",
     "text": [
      "              precision    recall  f1-score   support\n",
      "\n",
      "           0       0.96      0.98      0.97       980\n",
      "           1       0.98      0.96      0.97      1000\n",
      "\n",
      "    accuracy                           0.97      1980\n",
      "   macro avg       0.97      0.97      0.97      1980\n",
      "weighted avg       0.97      0.97      0.97      1980\n",
      "\n"
     ]
    }
   ],
   "source": [
    "from sklearn.pipeline import Pipeline\n",
    "from sklearn.feature_extraction.text import CountVectorizer\n",
    "from sklearn.ensemble import RandomForestClassifier\n",
    "from sklearn.metrics import classification_report\n",
    "\n",
    "#1. create a pipeline object\n",
    "clf_7 = Pipeline([('vectorizer',CountVectorizer(ngram_range=(1,3))),\n",
    "         ('Random Forest',RandomForestClassifier(n_estimators=10))\n",
    "         ])\n",
    "\n",
    "\n",
    "#2. fit with X_train and y_train\n",
    "clf_7.fit(X_train,y_train)\n",
    "\n",
    "\n",
    "#3. get the predictions for X_test and store it in y_pred\n",
    "y_pred = clf_7.predict(X_test)\n",
    "\n",
    "\n",
    "#4. print the classfication report\n",
    "print(classification_report(y_test, y_pred))"
   ]
  },
  {
   "cell_type": "markdown",
   "id": "b3f3f9a2",
   "metadata": {},
   "source": [
    "### Attempt 4 :\n",
    "\n",
    "using the sklearn pipeline module create a classification pipeline to classify the Data.\n",
    "### Note:\n",
    "\n",
    "using CountVectorizer with both unigram and bigrams.\n",
    "use Multinomial Naive Bayes as the classifier with an alpha value of 0.75.\n",
    "print the classification report."
   ]
  },
  {
   "cell_type": "code",
   "execution_count": 47,
   "id": "a35780ee",
   "metadata": {},
   "outputs": [
    {
     "name": "stdout",
     "output_type": "stream",
     "text": [
      "              precision    recall  f1-score   support\n",
      "\n",
      "           0       0.97      0.97      0.97       980\n",
      "           1       0.97      0.97      0.97      1000\n",
      "\n",
      "    accuracy                           0.97      1980\n",
      "   macro avg       0.97      0.97      0.97      1980\n",
      "weighted avg       0.97      0.97      0.97      1980\n",
      "\n"
     ]
    }
   ],
   "source": [
    "from sklearn.pipeline import Pipeline\n",
    "from sklearn.feature_extraction.text import CountVectorizer\n",
    "from sklearn.naive_bayes import MultinomialNB\n",
    "from sklearn.metrics import classification_report\n",
    "\n",
    "#1. create a pipeline object\n",
    "clf_8 = Pipeline([('vectorizer',CountVectorizer(ngram_range=(1,1))),\n",
    "         ('MultinomialNB',MultinomialNB(alpha=0.75))\n",
    "         ])\n",
    "\n",
    "\n",
    "#2. fit with X_train and y_train\n",
    "clf_8.fit(X_train,y_train)\n",
    "\n",
    "\n",
    "#3. get the predictions for X_test and store it in y_pred\n",
    "y_pred = clf_8.predict(X_test)\n",
    "\n",
    "\n",
    "#4. print the classfication report\n",
    "print(classification_report(y_test, y_pred))"
   ]
  },
  {
   "cell_type": "code",
   "execution_count": 48,
   "id": "2709f8a6",
   "metadata": {},
   "outputs": [
    {
     "name": "stdout",
     "output_type": "stream",
     "text": [
      "              precision    recall  f1-score   support\n",
      "\n",
      "           0       0.98      0.99      0.98       980\n",
      "           1       0.99      0.98      0.98      1000\n",
      "\n",
      "    accuracy                           0.98      1980\n",
      "   macro avg       0.98      0.98      0.98      1980\n",
      "weighted avg       0.98      0.98      0.98      1980\n",
      "\n"
     ]
    }
   ],
   "source": [
    "from sklearn.pipeline import Pipeline\n",
    "from sklearn.feature_extraction.text import CountVectorizer\n",
    "from sklearn.naive_bayes import MultinomialNB\n",
    "from sklearn.metrics import classification_report\n",
    "\n",
    "#1. create a pipeline object\n",
    "clf_9 = Pipeline([('vectorizer',CountVectorizer(ngram_range=(1,2))),\n",
    "         ('MultinomialNB',MultinomialNB(alpha=0.75))\n",
    "         ])\n",
    "\n",
    "\n",
    "#2. fit with X_train and y_train\n",
    "clf_9.fit(X_train,y_train)\n",
    "\n",
    "\n",
    "#3. get the predictions for X_test and store it in y_pred\n",
    "y_pred = clf_9.predict(X_test)\n",
    "\n",
    "\n",
    "#4. print the classfication report\n",
    "print(classification_report(y_test, y_pred))"
   ]
  },
  {
   "cell_type": "markdown",
   "id": "e93bede4",
   "metadata": {},
   "source": [
    "### Use text pre-processing to remove stop words, punctuations and apply lemmatization"
   ]
  },
  {
   "cell_type": "code",
   "execution_count": 55,
   "id": "1bde1cfb",
   "metadata": {},
   "outputs": [],
   "source": [
    "import spacy\n",
    "\n",
    "# load english language model and create nlp object from it\n",
    "nlp = spacy.load('en_core_web_sm')\n",
    "\n",
    "# remove stop words and lemmatize the text\n",
    "\n",
    "def preprocess(text):\n",
    "    doc = nlp(text)\n",
    "    \n",
    "    filtered_tokens = []\n",
    "    \n",
    "    for token in doc:\n",
    "        if token.is_stop or token.is_punct:\n",
    "            continue\n",
    "        filtered_tokens.append(token)\n",
    "    return filtered_tokens    "
   ]
  },
  {
   "cell_type": "code",
   "execution_count": null,
   "id": "f681cf49",
   "metadata": {},
   "outputs": [],
   "source": [
    "df['pre_processedText'] = df.Text.apply(preprocess)"
   ]
  },
  {
   "cell_type": "code",
   "execution_count": null,
   "id": "b1a0a157",
   "metadata": {},
   "outputs": [],
   "source": [
    "df.head()"
   ]
  },
  {
   "cell_type": "markdown",
   "id": "8f054b41",
   "metadata": {},
   "source": [
    "#### Build a model with pre processed text"
   ]
  },
  {
   "cell_type": "code",
   "execution_count": null,
   "id": "38ad33ab",
   "metadata": {},
   "outputs": [],
   "source": [
    "X_train, X_test, y_train, y_test = train_test_split(df.pre_processedText, df.label_num, test_size=0.2, random_state=2022, stratify=df.label_num)"
   ]
  },
  {
   "cell_type": "markdown",
   "id": "2f1a36b4",
   "metadata": {},
   "source": [
    "Let's check the scores with our best model till now\n",
    "\n",
    "Random Forest\n",
    "#### Attempt1 :\n",
    "\n",
    "using the sklearn pipeline module create a classification pipeline to classify the Data.\n",
    "#### Note:\n",
    "\n",
    "using CountVectorizer with only trigrams.\n",
    "use RandomForest as the classifier.\n",
    "print the classification report."
   ]
  },
  {
   "cell_type": "code",
   "execution_count": null,
   "id": "7987abcc",
   "metadata": {},
   "outputs": [],
   "source": [
    "from sklearn.pipeline import Pipeline\n",
    "from sklearn.feature_extraction.text import CountVectorizer\n",
    "from sklearn.ensemble import RandomForestClassifier\n",
    "from sklearn.metrics import classification_report\n",
    "\n",
    "#1. create a pipeline object\n",
    "clf_10 = Pipeline([('vectorizer',CountVectorizer(ngram_range=(3,3))),\n",
    "         ('Random Forest',RandomForestClassifier(n_estimators=10))\n",
    "         ])\n",
    "\n",
    "\n",
    "#2. fit with X_train and y_train\n",
    "clf_10.fit(X_train,y_train)\n",
    "\n",
    "\n",
    "#3. get the predictions for X_test and store it in y_pred\n",
    "y_pred = clf_10.predict(X_test)\n",
    "\n",
    "\n",
    "#4. print the classfication report\n",
    "print(classification_report(y_test, y_pred))"
   ]
  },
  {
   "cell_type": "markdown",
   "id": "f45eb59a",
   "metadata": {},
   "source": [
    "#### Attempt2 :\n",
    "\n",
    "using the sklearn pipeline module create a classification pipeline to classify the Data.\n",
    "### Note:\n",
    "\n",
    "using CountVectorizer with unigram, Bigram, and trigrams.\n",
    "use RandomForest as the classifier.\n",
    "print the classification report."
   ]
  },
  {
   "cell_type": "code",
   "execution_count": null,
   "id": "6d225502",
   "metadata": {},
   "outputs": [],
   "source": [
    "from sklearn.pipeline import Pipeline\n",
    "from sklearn.feature_extraction.text import CountVectorizer\n",
    "from sklearn.ensemble import RandomForestClassifier\n",
    "from sklearn.metrics import classification_report\n",
    "\n",
    "#1. create a pipeline object\n",
    "clf_11 = Pipeline([('vectorizer',CountVectorizer(ngram_range=(1,3))),\n",
    "         ('Random Forest',RandomForestClassifier(n_estimators=10))\n",
    "         ])\n",
    "\n",
    "\n",
    "#2. fit with X_train and y_train\n",
    "clf_11.fit(X_train,y_train)\n",
    "\n",
    "\n",
    "#3. get the predictions for X_test and store it in y_pred\n",
    "y_pred = clf_11.predict(X_test)\n",
    "\n",
    "\n",
    "#4. print the classfication report\n",
    "print(classification_report(y_test, y_pred))"
   ]
  },
  {
   "cell_type": "markdown",
   "id": "481a89c1",
   "metadata": {},
   "source": [
    "#### Final Observations\n",
    "As machine learning algorithms do not work on text data directly, we need to convert them into numeric vectors and feed that into models while training.\n",
    "\n",
    "In this process, we convert text into a very high dimensional numeric vector using the technique of Bag of words and we use sklearn CountVectorizer for this.\n",
    "\n",
    "Without Pre-Processing Data\n",
    "\n",
    "From the above in most of the cases, we can see that when we have the count vectorizer above trigrams or at trigrams, the performance keeps degrading. The major possible reason for this as the ngram_range keeps increasing, the number of dimensions/features (possible combination of words) also increases enormously and models have the risk of overfitting and resulting in terrible performance.\n",
    "\n",
    "For this reason, models like KNN failed terribly when performed with trigrams and using the euclidean distance. K-Nearest Neighbours(KNN) doesn't work well with high-dimensional data because, with a large number of dimensions, it becomes difficult for the algorithm to calculate the distance in each dimension. In higher dimensional space, the cost to calculate distance becomes expensive and hence impacts the performance of the model. It performed well for class 1 and had terrible results for Class 0.\n",
    "\n",
    "Both recall and F1 scores increase better when trained with the same KNN model but with cosine distance as cosine distance does not get influenced by the number of dimensions as it uses the angle better the two text vectors to calculate the similarity.\n",
    "\n",
    "With respect to Naive and RandomForest models, both performed really well, and random forest with trigrams has a better edge on the recall metric.\n",
    "\n",
    "As Random Forest uses Bootstrapping(row and column Sampling) with many decision trees and overcomes the high variance and overfitting of high dimensional data and also uses feature importance of words for better classifying the categories.\n",
    "\n",
    "The easy calculation of probabilities for the words in the corpus(Bag of words) and storing them in a contingency table is the major reason for the Multinomial NaiveBayes to be a text classification friendly algorithm.\n",
    "\n",
    "With Pre-Processing Data\n",
    "\n",
    "Have trained the best model RandomForest on the pre-processed data, but RandomForest with trigrams fails to produce the same results here.\n",
    "\n",
    "But the same randomForest with Unigram to Trigram features helps to produce very amazing results and is tops in the entire list with very good F1 scores and Recall scores.\n",
    "\n",
    "Machine Learning is like a trial and error scientific method, where we keep trying all the possible algorithms we have and select the one which gives good results and satisfies the requirements like latency, interpretability, etc."
   ]
  },
  {
   "cell_type": "code",
   "execution_count": null,
   "id": "e49b7c43",
   "metadata": {},
   "outputs": [],
   "source": []
  }
 ],
 "metadata": {
  "kernelspec": {
   "display_name": "Python 3 (ipykernel)",
   "language": "python",
   "name": "python3"
  },
  "language_info": {
   "codemirror_mode": {
    "name": "ipython",
    "version": 3
   },
   "file_extension": ".py",
   "mimetype": "text/x-python",
   "name": "python",
   "nbconvert_exporter": "python",
   "pygments_lexer": "ipython3",
   "version": "3.9.7"
  }
 },
 "nbformat": 4,
 "nbformat_minor": 5
}
