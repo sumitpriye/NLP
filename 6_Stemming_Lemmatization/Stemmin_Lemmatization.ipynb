{
 "cells": [
  {
   "cell_type": "markdown",
   "id": "9abfa71f",
   "metadata": {},
   "source": [
    "### Stemming"
   ]
  },
  {
   "cell_type": "code",
   "execution_count": null,
   "id": "dda904d1",
   "metadata": {},
   "outputs": [],
   "source": [
    "import spacy\n",
    "import nltk"
   ]
  },
  {
   "cell_type": "code",
   "execution_count": 2,
   "id": "744c00d5",
   "metadata": {},
   "outputs": [],
   "source": [
    "from nltk.stem import PorterStemmer\n",
    "stemmer = PorterStemmer()"
   ]
  },
  {
   "cell_type": "code",
   "execution_count": 6,
   "id": "2b35efac",
   "metadata": {},
   "outputs": [
    {
     "name": "stdout",
     "output_type": "stream",
     "text": [
      "eating  |  eat\n",
      "eats  |  eat\n",
      "eat  |  eat\n",
      "ate  |  ate\n",
      "adjustable  |  adjust\n",
      "rafting  |  raft\n",
      "ability  |  abil\n",
      "meeting  |  meet\n"
     ]
    }
   ],
   "source": [
    "words = ['eating','eats','eat','ate','adjustable','rafting','ability','meeting']\n",
    "\n",
    "for word in words:\n",
    "    print(word,' | ',stemmer.stem(word))"
   ]
  },
  {
   "cell_type": "markdown",
   "id": "3f978f7c",
   "metadata": {},
   "source": [
    "Here we see that the stemmer object does not gives the correct base word for 'ate'. Also it gave base word for ability as 'abil'. This is because stemmer object does not have nay knowledge of language.It just applies a fixed rule and tries to get the base word."
   ]
  },
  {
   "cell_type": "markdown",
   "id": "41636062",
   "metadata": {},
   "source": [
    "### Lemmatization"
   ]
  },
  {
   "cell_type": "code",
   "execution_count": 8,
   "id": "62cc7ba2",
   "metadata": {},
   "outputs": [],
   "source": [
    "nlp = spacy.load('en_core_web_sm')"
   ]
  },
  {
   "cell_type": "code",
   "execution_count": 11,
   "id": "280ab162",
   "metadata": {},
   "outputs": [
    {
     "name": "stdout",
     "output_type": "stream",
     "text": [
      "eating  |  eat  |  9837207709914848172\n",
      "eats  |  eat  |  9837207709914848172\n",
      "eat  |  eat  |  9837207709914848172\n",
      "ate  |  eat  |  9837207709914848172\n",
      "adjustable  |  adjustable  |  6033511944150694480\n",
      "rafting  |  raft  |  7154368781129989833\n",
      "ability  |  ability  |  11565809527369121409\n",
      "meeting  |  meeting  |  14798207169164081740\n",
      "better  |  well  |  4525988469032889948\n"
     ]
    }
   ],
   "source": [
    "doc = nlp('eating eats eat ate adjustable rafting ability meeting better')\n",
    "\n",
    "for token in doc:\n",
    "    print(token,' | ',token.lemma_, ' | ',token.lemma)"
   ]
  },
  {
   "cell_type": "markdown",
   "id": "0bc7a296",
   "metadata": {},
   "source": [
    "token.lemma - this gives the hash code for each word present in the language model"
   ]
  },
  {
   "cell_type": "code",
   "execution_count": 12,
   "id": "4d5d18ca",
   "metadata": {},
   "outputs": [],
   "source": [
    "# Creating a custom lemma attributes"
   ]
  },
  {
   "cell_type": "code",
   "execution_count": 15,
   "id": "af0080d4",
   "metadata": {
    "scrolled": true
   },
   "outputs": [
    {
     "name": "stdout",
     "output_type": "stream",
     "text": [
      "Bro  |  bro\n",
      ",  |  ,\n",
      "you  |  you\n",
      "wanna  |  wanna\n",
      "go  |  go\n",
      "?  |  ?\n",
      "Brah  |  Brah\n",
      ",  |  ,\n",
      "do  |  do\n",
      "n't  |  not\n",
      "say  |  say\n",
      "no  |  no\n",
      ",  |  ,\n",
      "i  |  I\n",
      "am  |  be\n",
      "already  |  already\n",
      "exhausted  |  exhaust\n"
     ]
    }
   ],
   "source": [
    "doc = nlp(\"Bro, you wanna go ? Brah, don't say no , i am already exhausted\")\n",
    "\n",
    "for token in doc:\n",
    "    print(token, \" | \",token.lemma_)"
   ]
  },
  {
   "cell_type": "markdown",
   "id": "dd951f6f",
   "metadata": {},
   "source": [
    "Now suppose we want the base word for bro, brah to be shown as 'Brother'. We will have to add this customization into the pipeline"
   ]
  },
  {
   "cell_type": "code",
   "execution_count": 19,
   "id": "22263e39",
   "metadata": {},
   "outputs": [
    {
     "data": {
      "text/plain": [
       "['tok2vec', 'tagger', 'parser', 'attribute_ruler', 'lemmatizer', 'ner']"
      ]
     },
     "execution_count": 19,
     "metadata": {},
     "output_type": "execute_result"
    }
   ],
   "source": [
    "nlp.pipe_names"
   ]
  },
  {
   "cell_type": "code",
   "execution_count": 21,
   "id": "9cbdb2cc",
   "metadata": {},
   "outputs": [
    {
     "name": "stdout",
     "output_type": "stream",
     "text": [
      "Bro  |  Brother\n",
      ",  |  ,\n",
      "you  |  you\n",
      "wanna  |  wanna\n",
      "go  |  go\n",
      "?  |  ?\n",
      "Brah  |  Brother\n",
      ",  |  ,\n",
      "do  |  do\n",
      "n't  |  not\n",
      "say  |  say\n",
      "no  |  no\n",
      ",  |  ,\n",
      "i  |  I\n",
      "am  |  be\n",
      "already  |  already\n",
      "exhausted  |  exhaust\n"
     ]
    }
   ],
   "source": [
    "ar = nlp.get_pipe('attribute_ruler')\n",
    "ar.add([[{'TEXT':'Bro'}],[{'TEXT':'Brah'}]],{'LEMMA':'Brother'})\n",
    "\n",
    "doc = nlp(\"Bro, you wanna go ? Brah, don't say no , i am already exhausted\")\n",
    "\n",
    "for token in doc:\n",
    "    print(token, ' | ',token.lemma_)"
   ]
  },
  {
   "cell_type": "markdown",
   "id": "ac795fa4",
   "metadata": {},
   "source": [
    "Stemming and lemmatization are two popular techniques to reduce a given word to its base word. Stemming uses a fixed set of rules to remove suffixes, and prefixes whereas lemmatization use language knowledge to come up with a correct base word. Stemming will be demonstrated in ntlk (spacy doesn't support stemming) whereas code for lemmatization is written in spacy"
   ]
  },
  {
   "cell_type": "code",
   "execution_count": null,
   "id": "ced1f829",
   "metadata": {},
   "outputs": [],
   "source": []
  }
 ],
 "metadata": {
  "kernelspec": {
   "display_name": "Python 3 (ipykernel)",
   "language": "python",
   "name": "python3"
  },
  "language_info": {
   "codemirror_mode": {
    "name": "ipython",
    "version": 3
   },
   "file_extension": ".py",
   "mimetype": "text/x-python",
   "name": "python",
   "nbconvert_exporter": "python",
   "pygments_lexer": "ipython3",
   "version": "3.9.7"
  }
 },
 "nbformat": 4,
 "nbformat_minor": 5
}
