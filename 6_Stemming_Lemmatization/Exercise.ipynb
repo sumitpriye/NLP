{
 "cells": [
  {
   "cell_type": "markdown",
   "id": "a27ff630",
   "metadata": {},
   "source": [
    "## Exercise 1"
   ]
  },
  {
   "cell_type": "markdown",
   "id": "98fdd618",
   "metadata": {},
   "source": [
    "Convert these list of words into base form using Stemming and Lemmatization and observe the transformations\n",
    "Write a short note on the words that have different base words using stemming and Lemmatization"
   ]
  },
  {
   "cell_type": "code",
   "execution_count": 1,
   "id": "0d3e9a48",
   "metadata": {},
   "outputs": [],
   "source": [
    "import spacy\n",
    "import nltk"
   ]
  },
  {
   "cell_type": "code",
   "execution_count": 3,
   "id": "897c2563",
   "metadata": {},
   "outputs": [],
   "source": [
    "from nltk.stem import PorterStemmer\n",
    "stemmer = PorterStemmer()"
   ]
  },
  {
   "cell_type": "code",
   "execution_count": 4,
   "id": "25177660",
   "metadata": {
    "scrolled": false
   },
   "outputs": [
    {
     "name": "stdout",
     "output_type": "stream",
     "text": [
      "running  |  run\n",
      "painting  |  paint\n",
      "walking  |  walk\n",
      "dressing  |  dress\n",
      "likely  |  like\n",
      "children  |  children\n",
      "whom  |  whom\n",
      "good  |  good\n",
      "ate  |  ate\n",
      "fishing  |  fish\n"
     ]
    }
   ],
   "source": [
    "#using stemming in nltk\n",
    "lst_words = ['running', 'painting', 'walking', 'dressing', 'likely', 'children', 'whom', 'good', 'ate', 'fishing']\n",
    "\n",
    "for words in lst_words:\n",
    "    print(words,' | ',stemmer.stem(words))"
   ]
  },
  {
   "cell_type": "code",
   "execution_count": 5,
   "id": "efb97982",
   "metadata": {},
   "outputs": [],
   "source": [
    "nlp = spacy.load('en_core_web_sm')"
   ]
  },
  {
   "cell_type": "code",
   "execution_count": 6,
   "id": "b3b8abfc",
   "metadata": {},
   "outputs": [
    {
     "name": "stdout",
     "output_type": "stream",
     "text": [
      "running  |  run\n",
      "painting  |  paint\n",
      "walking  |  walk\n",
      "dressing  |  dress\n",
      "likely  |  likely\n",
      "children  |  child\n",
      "who  |  who\n",
      "good  |  good\n",
      "ate  |  eat\n",
      "fishing  |  fishing\n"
     ]
    }
   ],
   "source": [
    "#using lemmatization in spacy\n",
    "\n",
    "doc = nlp(\"running painting walking dressing likely children who good ate fishing\")\n",
    "\n",
    "for word in doc:\n",
    "    print(word,' | ',word.lemma_)"
   ]
  },
  {
   "cell_type": "markdown",
   "id": "686e7121",
   "metadata": {},
   "source": [
    "Words that are different in stemming and lemmatization are:\n",
    "\n",
    "painting\n",
    "likely\n",
    "children\n",
    "ate\n",
    "fishing\n",
    "As Stemming achieves the base word by removing the suffixes [ing, ly etc], so it successfully transform the words like 'painting', 'likely', 'fishing' and lemmatization fails for some words ending with suffixes here.\n",
    "\n",
    "As Lemmatization uses the dictionary meanings while converting to the base form, so words like 'children' and 'ate' are successfully transformed and stemming fails here."
   ]
  },
  {
   "cell_type": "markdown",
   "id": "fd8e4cc2",
   "metadata": {},
   "source": [
    "## Exercise 2\n",
    "\n",
    "Convert the given text into it's base form using both stemming and lemmatization"
   ]
  },
  {
   "cell_type": "code",
   "execution_count": 8,
   "id": "3fd24bc8",
   "metadata": {},
   "outputs": [],
   "source": [
    "text = \"\"\"Latha is very multi talented girl.She is good at many skills like dancing, running, singing, playing.She also likes eating Pav Bhagi. she has a \n",
    "habit of fishing and swimming too.Besides all this, she is a wonderful at cooking too.\n",
    "\"\"\""
   ]
  },
  {
   "cell_type": "markdown",
   "id": "da2b11f4",
   "metadata": {},
   "source": [
    "### Using lemmatization"
   ]
  },
  {
   "cell_type": "code",
   "execution_count": 43,
   "id": "8c3f4e4b",
   "metadata": {
    "scrolled": true
   },
   "outputs": [
    {
     "name": "stdout",
     "output_type": "stream",
     "text": [
      "Latha  |  latha\n",
      "be  |  be\n",
      "very  |  very\n",
      "multi  |  multi\n",
      "talented  |  talented\n",
      "girl  |  girl\n",
      ".  |  .\n",
      "she  |  she\n",
      "be  |  be\n",
      "good  |  good\n",
      "at  |  at\n",
      "many  |  many\n",
      "skill  |  skill\n",
      "like  |  like\n",
      "dancing  |  dancing\n",
      ",  |  ,\n",
      "running  |  run\n",
      ",  |  ,\n",
      "singing  |  singing\n",
      ",  |  ,\n",
      "play  |  play\n",
      ".  |  .\n",
      "she  |  she\n",
      "also  |  also\n",
      "like  |  like\n",
      "eat  |  eat\n",
      "Pav  |  Pav\n",
      "Bhagi  |  Bhagi\n",
      ".  |  .\n",
      "she  |  she\n",
      "have  |  have\n",
      "a  |  a\n",
      "\n",
      "   |  \n",
      " \n",
      "habit  |  habit\n",
      "of  |  of\n",
      "fishing  |  fishing\n",
      "and  |  and\n",
      "swim  |  swim\n",
      "too  |  too\n",
      ".  |  .\n",
      "besides  |  besides\n",
      "all  |  all\n",
      "this  |  this\n",
      ",  |  ,\n",
      "she  |  she\n",
      "be  |  be\n",
      "a  |  a\n",
      "wonderful  |  wonderful\n",
      "at  |  at\n",
      "cook  |  cook\n",
      "too  |  too\n",
      ".  |  .\n",
      "\n",
      "  |  \n",
      "\n",
      "['latha', 'be', 'very', 'multi', 'talented', 'girl', '.', 'she', 'be', 'good', 'at', 'many', 'skill', 'like', 'dancing', ',', 'run', ',', 'singing', ',', 'play', '.', 'she', 'also', 'like', 'eat', 'Pav', 'Bhagi', '.', 'she', 'have', 'a', '\\n ', 'habit', 'of', 'fishing', 'and', 'swim', 'too', '.', 'besides', 'all', 'this', ',', 'she', 'be', 'a', 'wonderful', 'at', 'cook', 'too', '.', '\\n']\n"
     ]
    },
    {
     "data": {
      "text/plain": [
       "'latha be very multi talented girl . she be good at many skill like dancing , run , singing , play . she also like eat Pav Bhagi . she have a \\n  habit of fishing and swim too . besides all this , she be a wonderful at cook too . \\n'"
      ]
     },
     "execution_count": 43,
     "metadata": {},
     "output_type": "execute_result"
    }
   ],
   "source": [
    "import spacy\n",
    "\n",
    "nlp=spacy.load('en_core_web_sm')\n",
    "\n",
    "doc = nlp(text)\n",
    "\n",
    "token_words=[]\n",
    "for token in doc:\n",
    "    print(token, ' | ',token.lemma_)\n",
    "    token_words.append(token.lemma_)\n",
    "print(token_words)\n",
    "\n",
    "sentence_lemma = ' '.join(token_words)\n",
    "sentence_lemma"
   ]
  },
  {
   "cell_type": "markdown",
   "id": "cb4727f5",
   "metadata": {},
   "source": [
    "### Using  Stemming"
   ]
  },
  {
   "cell_type": "code",
   "execution_count": 45,
   "id": "a712bccc",
   "metadata": {},
   "outputs": [],
   "source": [
    "import nltk\n",
    "from nltk.stem import PorterStemmer\n",
    "stemmer = PorterStemmer()"
   ]
  },
  {
   "cell_type": "code",
   "execution_count": 46,
   "id": "57e581e2",
   "metadata": {},
   "outputs": [],
   "source": [
    "text = \"\"\"Latha is very multi talented girl.She is good at many skills like dancing, running, singing, playing.She also likes eating Pav Bhagi. she has a \n",
    "habit of fishing and swimming too.Besides all this, she is a wonderful at cooking too.\n",
    "\"\"\""
   ]
  },
  {
   "cell_type": "code",
   "execution_count": 52,
   "id": "d56676ad",
   "metadata": {},
   "outputs": [
    {
     "name": "stdout",
     "output_type": "stream",
     "text": [
      "Latha  |  latha\n",
      "is  |  is\n",
      "very  |  veri\n",
      "multi  |  multi\n",
      "talented  |  talent\n",
      "girl.She  |  girl.sh\n",
      "is  |  is\n",
      "good  |  good\n",
      "at  |  at\n",
      "many  |  mani\n",
      "skills  |  skill\n",
      "like  |  like\n",
      "dancing,  |  dancing,\n",
      "running,  |  running,\n",
      "singing,  |  singing,\n",
      "playing.She  |  playing.sh\n",
      "also  |  also\n",
      "likes  |  like\n",
      "eating  |  eat\n",
      "Pav  |  pav\n",
      "Bhagi.  |  bhagi.\n",
      "she  |  she\n",
      "has  |  ha\n",
      "a  |  a\n",
      "\n",
      "habit  |  \n",
      "habit\n",
      "of  |  of\n",
      "fishing  |  fish\n",
      "and  |  and\n",
      "swimming  |  swim\n",
      "too.Besides  |  too.besid\n",
      "all  |  all\n",
      "this,  |  this,\n",
      "she  |  she\n",
      "is  |  is\n",
      "a  |  a\n",
      "wonderful  |  wonder\n",
      "at  |  at\n",
      "cooking  |  cook\n",
      "too.\n",
      "  |  too.\n",
      "\n"
     ]
    },
    {
     "data": {
      "text/plain": [
       "'latha is veri multi talent girl.sh is good at mani skill like dancing, running, singing, playing.sh also like eat pav bhagi. she ha a \\nhabit of fish and swim too.besid all this, she is a wonder at cook too.\\n'"
      ]
     },
     "execution_count": 52,
     "metadata": {},
     "output_type": "execute_result"
    }
   ],
   "source": [
    "words_nltk=text.split(' ')\n",
    "words_nltk\n",
    "words_nltk_lst=[]\n",
    "\n",
    "for word in words_nltk:\n",
    "    print(word, ' | ', stemmer.stem(word))\n",
    "    words_nltk_lst.append(stemmer.stem(word))\n",
    "words_nltk_lst\n",
    "\n",
    "sentence_nltk = ' '.join(words_nltk_lst)\n",
    "sentence_nltk"
   ]
  },
  {
   "cell_type": "code",
   "execution_count": 50,
   "id": "6ccfa489",
   "metadata": {},
   "outputs": [
    {
     "data": {
      "text/plain": [
       "str"
      ]
     },
     "execution_count": 50,
     "metadata": {},
     "output_type": "execute_result"
    }
   ],
   "source": [
    "type(stemmer.stem('Running'))"
   ]
  }
 ],
 "metadata": {
  "kernelspec": {
   "display_name": "Python 3 (ipykernel)",
   "language": "python",
   "name": "python3"
  },
  "language_info": {
   "codemirror_mode": {
    "name": "ipython",
    "version": 3
   },
   "file_extension": ".py",
   "mimetype": "text/x-python",
   "name": "python",
   "nbconvert_exporter": "python",
   "pygments_lexer": "ipython3",
   "version": "3.9.7"
  }
 },
 "nbformat": 4,
 "nbformat_minor": 5
}
