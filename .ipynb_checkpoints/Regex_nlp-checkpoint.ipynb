{
 "cells": [
  {
   "cell_type": "code",
   "execution_count": 1,
   "id": "dff6031d",
   "metadata": {},
   "outputs": [],
   "source": [
    "import re"
   ]
  },
  {
   "cell_type": "code",
   "execution_count": 55,
   "id": "a6e2a569",
   "metadata": {},
   "outputs": [],
   "source": [
    "chat1='you ask lot of questions 1234567890 sumit@xyz.com'\n",
    "chat2='Sure, here it is -sumit125_Priye@xyz.com & (123)-456-7890'\n",
    "chat3='Yeah sure, 1234567890,sumitPriye123@xyz.com'"
   ]
  },
  {
   "cell_type": "code",
   "execution_count": 45,
   "id": "e7b73dfe",
   "metadata": {},
   "outputs": [],
   "source": [
    "ph_pattern ='\\d{10}|\\(\\d{3}\\)-\\d{3}-\\d{4}'"
   ]
  },
  {
   "cell_type": "code",
   "execution_count": 51,
   "id": "9f636131",
   "metadata": {},
   "outputs": [
    {
     "data": {
      "text/plain": [
       "['1234567890']"
      ]
     },
     "execution_count": 51,
     "metadata": {},
     "output_type": "execute_result"
    }
   ],
   "source": [
    "matches = re.findall(ph_pattern,chat3)\n",
    "matches"
   ]
  },
  {
   "cell_type": "code",
   "execution_count": 53,
   "id": "f567f6c0",
   "metadata": {},
   "outputs": [],
   "source": [
    "email_pattern = '[a-zA-Z0-9_]*@[a-zA-Z]*\\.[a-zA-Z]*'"
   ]
  },
  {
   "cell_type": "code",
   "execution_count": 59,
   "id": "9e23cbf4",
   "metadata": {},
   "outputs": [
    {
     "data": {
      "text/plain": [
       "'sumitPriye123@xyz.com'"
      ]
     },
     "execution_count": 59,
     "metadata": {},
     "output_type": "execute_result"
    }
   ],
   "source": [
    "matches1 = re.findall(email_pattern,chat3)\n",
    "matches1[0]"
   ]
  },
  {
   "cell_type": "code",
   "execution_count": 64,
   "id": "f400f174",
   "metadata": {},
   "outputs": [],
   "source": [
    "query1='Hello !, I am having issue with my order # 123456789'\n",
    "query2='issue with order id 123456789'\n",
    "query3='order number 123456789 having issues'\n",
    "query4='123456789 order is having issues'"
   ]
  },
  {
   "cell_type": "code",
   "execution_count": 71,
   "id": "79d29c34",
   "metadata": {},
   "outputs": [],
   "source": [
    "order_pattern='order\\s*[^0-9]*(\\d{9})|(\\d{9})\\sorder'"
   ]
  },
  {
   "cell_type": "code",
   "execution_count": 75,
   "id": "b384c385",
   "metadata": {},
   "outputs": [
    {
     "data": {
      "text/plain": [
       "[('123456789', '')]"
      ]
     },
     "execution_count": 75,
     "metadata": {},
     "output_type": "execute_result"
    }
   ],
   "source": [
    "matches2=re.findall(order_pattern,query2)\n",
    "matches2"
   ]
  },
  {
   "cell_type": "code",
   "execution_count": 77,
   "id": "b3c39ebd",
   "metadata": {},
   "outputs": [],
   "source": [
    "text ='''Born\tElon Reeve Musk\n",
    "June 28, 1971 (age 51)\n",
    "Pretoria, Transvaal, South Africa\n",
    "Education\tUniversity of Pennsylvania (BA, BS)\n",
    "Title\t\n",
    "Founder, CEO and chief engineer of SpaceX\n",
    "CEO and product architect of Tesla, Inc.\n",
    "CEO of Twitter, Inc.\n",
    "President of the Musk Foundation\n",
    "Founder of The Boring Company and X.com (now part of PayPal)\n",
    "Co-founder of Neuralink, OpenAI and Zip2\n",
    "Spouses\t\n",
    "Justine Wilson\n",
    "​\n",
    "​(m. 2000; div. 2008)​\n",
    "Talulah Riley\n",
    "​\n",
    "​(m. 2010; div. 2012)​\n",
    "​\n",
    "​(m. 2013; div. 2016)​\n",
    "Partner\tGrimes (2018–2021)[1]\n",
    "Children\t10[a][3]\n",
    "Parents\t\n",
    "Errol Musk\n",
    "Maye Musk\n",
    "Family\tMusk family\n",
    "Awards\tList of honors and awards'''"
   ]
  },
  {
   "cell_type": "code",
   "execution_count": 79,
   "id": "8a34487e",
   "metadata": {},
   "outputs": [],
   "source": [
    "name_pattern = 'Born\\s*([a-zA-Z\\s]*)\\n'"
   ]
  },
  {
   "cell_type": "code",
   "execution_count": 81,
   "id": "5cf65ad8",
   "metadata": {},
   "outputs": [
    {
     "data": {
      "text/plain": [
       "'Elon Reeve Musk'"
      ]
     },
     "execution_count": 81,
     "metadata": {},
     "output_type": "execute_result"
    }
   ],
   "source": [
    "name = re.findall(name_pattern,text)\n",
    "name[0]"
   ]
  },
  {
   "cell_type": "code",
   "execution_count": 85,
   "id": "ee33b94d",
   "metadata": {},
   "outputs": [
    {
     "data": {
      "text/plain": [
       "'51'"
      ]
     },
     "execution_count": 85,
     "metadata": {},
     "output_type": "execute_result"
    }
   ],
   "source": [
    "age_pattern = 'age\\s(\\d*)'\n",
    "age=re.findall(age_pattern,text)\n",
    "age[0]"
   ]
  },
  {
   "cell_type": "code",
   "execution_count": 98,
   "id": "504800d1",
   "metadata": {},
   "outputs": [],
   "source": [
    "dob_pattern = 'Born.*\\n(.*)\\('"
   ]
  },
  {
   "cell_type": "code",
   "execution_count": 99,
   "id": "4204a9ab",
   "metadata": {},
   "outputs": [
    {
     "data": {
      "text/plain": [
       "['June 28, 1971 ']"
      ]
     },
     "execution_count": 99,
     "metadata": {},
     "output_type": "execute_result"
    }
   ],
   "source": [
    "dob=re.findall(dob_pattern,text)\n",
    "dob"
   ]
  },
  {
   "cell_type": "code",
   "execution_count": 92,
   "id": "e62cb602",
   "metadata": {},
   "outputs": [],
   "source": [
    "birthplace_pattern='Born.*\\n.*\\n(.*)'"
   ]
  },
  {
   "cell_type": "code",
   "execution_count": 93,
   "id": "f1073399",
   "metadata": {},
   "outputs": [],
   "source": [
    "place=re.findall(birthplace_pattern,text)"
   ]
  },
  {
   "cell_type": "code",
   "execution_count": 95,
   "id": "1f093e3e",
   "metadata": {},
   "outputs": [
    {
     "data": {
      "text/plain": [
       "'Pretoria, Transvaal, South Africa'"
      ]
     },
     "execution_count": 95,
     "metadata": {},
     "output_type": "execute_result"
    }
   ],
   "source": [
    "place[0]"
   ]
  },
  {
   "cell_type": "code",
   "execution_count": 96,
   "id": "156a4e5d",
   "metadata": {},
   "outputs": [],
   "source": [
    "def get_pattern_matches(pattern,text):\n",
    "    matches=re.findall(pattern,text)\n",
    "    return matches[0]"
   ]
  },
  {
   "cell_type": "code",
   "execution_count": 97,
   "id": "174a0227",
   "metadata": {},
   "outputs": [
    {
     "data": {
      "text/plain": [
       "'Pretoria, Transvaal, South Africa'"
      ]
     },
     "execution_count": 97,
     "metadata": {},
     "output_type": "execute_result"
    }
   ],
   "source": [
    "get_pattern_matches(birthplace_pattern,text)"
   ]
  },
  {
   "cell_type": "code",
   "execution_count": 100,
   "id": "9f8751d8",
   "metadata": {},
   "outputs": [
    {
     "data": {
      "text/plain": [
       "'June 28, 1971 '"
      ]
     },
     "execution_count": 100,
     "metadata": {},
     "output_type": "execute_result"
    }
   ],
   "source": [
    "get_pattern_matches(dob_pattern,text)"
   ]
  },
  {
   "cell_type": "code",
   "execution_count": 101,
   "id": "eaefb4ed",
   "metadata": {},
   "outputs": [],
   "source": [
    "def get_personal_info(text):\n",
    "    age=get_pattern_matches(age_pattern,text)\n",
    "    dob=get_pattern_matches(dob_pattern,text)\n",
    "    name=get_pattern_matches(name_pattern,text)\n",
    "    birthplace= get_pattern_matches(birthplace_pattern,text)\n",
    "    return age,dob,name,birthplace\n",
    "    "
   ]
  },
  {
   "cell_type": "code",
   "execution_count": 105,
   "id": "68ac3b6f",
   "metadata": {},
   "outputs": [
    {
     "name": "stdout",
     "output_type": "stream",
     "text": [
      "age: 51\n",
      "dob: June 28, 1971 \n",
      "name: Elon Reeve Musk\n",
      "birthplace: Pretoria, Transvaal, South Africa\n"
     ]
    }
   ],
   "source": [
    "info=get_personal_info(text)\n",
    "print('age: '+ info[0])\n",
    "print('dob: '+ info[1])\n",
    "print('name: '+ info[2])\n",
    "print('birthplace: '+ info[3])"
   ]
  },
  {
   "cell_type": "code",
   "execution_count": 107,
   "id": "1ad4609c",
   "metadata": {},
   "outputs": [],
   "source": [
    "def get_personal_info(text):\n",
    "    age=get_pattern_matches(age_pattern,text)\n",
    "    dob=get_pattern_matches(dob_pattern,text)\n",
    "    name=get_pattern_matches(name_pattern,text)\n",
    "    birthplace= get_pattern_matches(birthplace_pattern,text)\n",
    "    return {\n",
    "        'age':int(age),\n",
    "        'dob':dob.strip(),\n",
    "        'name':name.strip(),\n",
    "        'birthplace':birthplace.strip()\n",
    "    }\n",
    "    "
   ]
  },
  {
   "cell_type": "code",
   "execution_count": 108,
   "id": "de1ea5aa",
   "metadata": {},
   "outputs": [
    {
     "data": {
      "text/plain": [
       "{'age': 51,\n",
       " 'dob': 'June 28, 1971',\n",
       " 'name': 'Elon Reeve Musk',\n",
       " 'birthplace': 'Pretoria, Transvaal, South Africa'}"
      ]
     },
     "execution_count": 108,
     "metadata": {},
     "output_type": "execute_result"
    }
   ],
   "source": [
    "get_personal_info(text)"
   ]
  },
  {
   "cell_type": "code",
   "execution_count": 109,
   "id": "dcc5f760",
   "metadata": {},
   "outputs": [],
   "source": [
    "text2='''Born\tMukesh Dhirubhai Ambani\n",
    "19 April 1957 (age 65)\n",
    "Aden, Colony of Aden\n",
    "(present-day Yemen)[1][2]\n",
    "Nationality\tIndian\n",
    "Alma mater\t\n",
    "St. Xavier's College, Mumbai\n",
    "Institute of Chemical Technology (B.E.)\n",
    "Stanford University (drop-out)\n",
    "Occupation(s)\tChairman and MD, Reliance Industries\n",
    "Spouse\tNita Ambani ​(m. 1985)​[3]\n",
    "Children\t3\n",
    "Parent\t\n",
    "Dhirubhai Ambani (father)\n",
    "Relatives\tAnil Ambani (brother)\n",
    "Tina Ambani (sister-in-law)'''"
   ]
  },
  {
   "cell_type": "code",
   "execution_count": 110,
   "id": "ac97e332",
   "metadata": {},
   "outputs": [
    {
     "data": {
      "text/plain": [
       "{'age': 65,\n",
       " 'dob': '19 April 1957',\n",
       " 'name': 'Mukesh Dhirubhai Ambani',\n",
       " 'birthplace': 'Aden, Colony of Aden'}"
      ]
     },
     "execution_count": 110,
     "metadata": {},
     "output_type": "execute_result"
    }
   ],
   "source": [
    "get_personal_info(text2)"
   ]
  },
  {
   "cell_type": "markdown",
   "id": "49142db1",
   "metadata": {},
   "source": [
    "## Exercise"
   ]
  },
  {
   "cell_type": "code",
   "execution_count": 111,
   "id": "d9aacaf8",
   "metadata": {},
   "outputs": [],
   "source": [
    "text = '''\n",
    "Follow our leader Elon musk on twitter here: https://twitter.com/elonmusk, more information \n",
    "on Tesla's products can be found at https://www.tesla.com/. Also here are leading influencers \n",
    "for tesla related news,\n",
    "https://twitter.com/teslarati\n",
    "https://twitter.com/dummy_tesla\n",
    "https://twitter.com/dummy_2_tesla\n",
    "'''\n"
   ]
  },
  {
   "cell_type": "code",
   "execution_count": 112,
   "id": "1776020e",
   "metadata": {},
   "outputs": [
    {
     "data": {
      "text/plain": [
       "['elonmusk', 'teslarati', 'dummy_tesla', 'dummy_2_tesla']"
      ]
     },
     "execution_count": 112,
     "metadata": {},
     "output_type": "execute_result"
    }
   ],
   "source": [
    "pattern = 'com\\/([a-zA-Z_0-9]+)' # todo: type your regex here\n",
    "\n",
    "re.findall(pattern, text)"
   ]
  },
  {
   "cell_type": "code",
   "execution_count": 113,
   "id": "d2251ed2",
   "metadata": {},
   "outputs": [
    {
     "data": {
      "text/plain": [
       "[' Credit Risk', ' Supply Risk']"
      ]
     },
     "execution_count": 113,
     "metadata": {},
     "output_type": "execute_result"
    }
   ],
   "source": [
    "text = '''\n",
    "Concentration of Risk: Credit Risk\n",
    "Financial instruments that potentially subject us to a concentration of credit risk consist of cash, cash equivalents, marketable securities,\n",
    "restricted cash, accounts receivable, convertible note hedges, and interest rate swaps. Our cash balances are primarily invested in money market funds\n",
    "or on deposit at high credit quality financial institutions in the U.S. These deposits are typically in excess of insured limits. As of September 30, 2021\n",
    "and December 31, 2020, no entity represented 10% or more of our total accounts receivable balance. The risk of concentration for our convertible note\n",
    "hedges and interest rate swaps is mitigated by transacting with several highly-rated multinational banks.\n",
    "Concentration of Risk: Supply Risk\n",
    "We are dependent on our suppliers, including single source suppliers, and the inability of these suppliers to deliver necessary components of our\n",
    "products in a timely manner at prices, quality levels and volumes acceptable to us, or our inability to efficiently manage these components from these\n",
    "suppliers, could have a material adverse effect on our business, prospects, financial condition and operating results.\n",
    "'''\n",
    "pattern = ':(.+)' # todo: type your regex here\n",
    "\n",
    "re.findall(pattern, text)"
   ]
  },
  {
   "cell_type": "code",
   "execution_count": 115,
   "id": "e8b75692",
   "metadata": {},
   "outputs": [
    {
     "data": {
      "text/plain": [
       "['2021 Q1', '2021 S1']"
      ]
     },
     "execution_count": 115,
     "metadata": {},
     "output_type": "execute_result"
    }
   ],
   "source": [
    "text = '''\n",
    "Tesla's gross cost of operating lease vehicles in FY2021 Q1 was $4.85 billion.\n",
    "BMW's gross cost of operating vehicles in FY2021 S1 was $8 billion.\n",
    "'''\n",
    "\n",
    "pattern = 'FY(\\d{4} (?:Q[1-4]|S[1-2]))' # todo: type your regex here\n",
    "matches = re.findall(pattern, text)\n",
    "matches"
   ]
  },
  {
   "cell_type": "code",
   "execution_count": null,
   "id": "7c0dfb60",
   "metadata": {},
   "outputs": [],
   "source": []
  }
 ],
 "metadata": {
  "kernelspec": {
   "display_name": "Python 3 (ipykernel)",
   "language": "python",
   "name": "python3"
  },
  "language_info": {
   "codemirror_mode": {
    "name": "ipython",
    "version": 3
   },
   "file_extension": ".py",
   "mimetype": "text/x-python",
   "name": "python",
   "nbconvert_exporter": "python",
   "pygments_lexer": "ipython3",
   "version": "3.9.7"
  }
 },
 "nbformat": 4,
 "nbformat_minor": 5
}
