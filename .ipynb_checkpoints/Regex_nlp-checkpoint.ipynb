{
 "cells": [
  {
   "cell_type": "code",
   "execution_count": 1,
   "id": "4c807164",
   "metadata": {},
   "outputs": [],
   "source": [
    "import re"
   ]
  },
  {
   "cell_type": "code",
   "execution_count": 55,
   "id": "23406075",
   "metadata": {},
   "outputs": [],
   "source": [
    "chat1='you ask lot of questions 1234567890 sumit@xyz.com'\n",
    "chat2='Sure, here it is -sumit125_Priye@xyz.com & (123)-456-7890'\n",
    "chat3='Yeah sure, 1234567890,sumitPriye123@xyz.com'"
   ]
  },
  {
   "cell_type": "code",
   "execution_count": 45,
   "id": "40a84dfe",
   "metadata": {},
   "outputs": [],
   "source": [
    "ph_pattern ='\\d{10}|\\(\\d{3}\\)-\\d{3}-\\d{4}'"
   ]
  },
  {
   "cell_type": "code",
   "execution_count": 51,
   "id": "9770d165",
   "metadata": {},
   "outputs": [
    {
     "data": {
      "text/plain": [
       "['1234567890']"
      ]
     },
     "execution_count": 51,
     "metadata": {},
     "output_type": "execute_result"
    }
   ],
   "source": [
    "matches = re.findall(ph_pattern,chat3)\n",
    "matches"
   ]
  },
  {
   "cell_type": "code",
   "execution_count": 53,
   "id": "33b0c348",
   "metadata": {},
   "outputs": [],
   "source": [
    "email_pattern = '[a-zA-Z0-9_]*@[a-zA-Z]*\\.[a-zA-Z]*'"
   ]
  },
  {
   "cell_type": "code",
   "execution_count": 59,
   "id": "4fb8147e",
   "metadata": {},
   "outputs": [
    {
     "data": {
      "text/plain": [
       "'sumitPriye123@xyz.com'"
      ]
     },
     "execution_count": 59,
     "metadata": {},
     "output_type": "execute_result"
    }
   ],
   "source": [
    "matches1 = re.findall(email_pattern,chat3)\n",
    "matches1[0]"
   ]
  },
  {
   "cell_type": "code",
   "execution_count": 64,
   "id": "0343ff4a",
   "metadata": {},
   "outputs": [],
   "source": [
    "query1='Hello !, I am having issue with my order # 123456789'\n",
    "query2='issue with order id 123456789'\n",
    "query3='order number 123456789 having issues'\n",
    "query4='123456789 order is having issues'"
   ]
  },
  {
   "cell_type": "code",
   "execution_count": 71,
   "id": "a9857de4",
   "metadata": {},
   "outputs": [],
   "source": [
    "order_pattern='order\\s*[^0-9]*(\\d{9})|(\\d{9})\\sorder'"
   ]
  },
  {
   "cell_type": "code",
   "execution_count": 75,
   "id": "53ca0392",
   "metadata": {},
   "outputs": [
    {
     "data": {
      "text/plain": [
       "[('123456789', '')]"
      ]
     },
     "execution_count": 75,
     "metadata": {},
     "output_type": "execute_result"
    }
   ],
   "source": [
    "matches2=re.findall(order_pattern,query2)\n",
    "matches2"
   ]
  },
  {
   "cell_type": "code",
   "execution_count": 77,
   "id": "4c26dc2b",
   "metadata": {},
   "outputs": [],
   "source": [
    "text ='''Born\tElon Reeve Musk\n",
    "June 28, 1971 (age 51)\n",
    "Pretoria, Transvaal, South Africa\n",
    "Education\tUniversity of Pennsylvania (BA, BS)\n",
    "Title\t\n",
    "Founder, CEO and chief engineer of SpaceX\n",
    "CEO and product architect of Tesla, Inc.\n",
    "CEO of Twitter, Inc.\n",
    "President of the Musk Foundation\n",
    "Founder of The Boring Company and X.com (now part of PayPal)\n",
    "Co-founder of Neuralink, OpenAI and Zip2\n",
    "Spouses\t\n",
    "Justine Wilson\n",
    "​\n",
    "​(m. 2000; div. 2008)​\n",
    "Talulah Riley\n",
    "​\n",
    "​(m. 2010; div. 2012)​\n",
    "​\n",
    "​(m. 2013; div. 2016)​\n",
    "Partner\tGrimes (2018–2021)[1]\n",
    "Children\t10[a][3]\n",
    "Parents\t\n",
    "Errol Musk\n",
    "Maye Musk\n",
    "Family\tMusk family\n",
    "Awards\tList of honors and awards'''"
   ]
  },
  {
   "cell_type": "code",
   "execution_count": 79,
   "id": "29470a6b",
   "metadata": {},
   "outputs": [],
   "source": [
    "name_pattern = 'Born\\s*([a-zA-Z\\s]*)\\n'"
   ]
  },
  {
   "cell_type": "code",
   "execution_count": 81,
   "id": "08cab682",
   "metadata": {},
   "outputs": [
    {
     "data": {
      "text/plain": [
       "'Elon Reeve Musk'"
      ]
     },
     "execution_count": 81,
     "metadata": {},
     "output_type": "execute_result"
    }
   ],
   "source": [
    "name = re.findall(name_pattern,text)\n",
    "name[0]"
   ]
  },
  {
   "cell_type": "code",
   "execution_count": 85,
   "id": "9945ec8b",
   "metadata": {},
   "outputs": [
    {
     "data": {
      "text/plain": [
       "'51'"
      ]
     },
     "execution_count": 85,
     "metadata": {},
     "output_type": "execute_result"
    }
   ],
   "source": [
    "age_pattern = 'age\\s(\\d*)'\n",
    "age=re.findall(age_pattern,text)\n",
    "age[0]"
   ]
  },
  {
   "cell_type": "code",
   "execution_count": 98,
   "id": "a29847a9",
   "metadata": {},
   "outputs": [],
   "source": [
    "dob_pattern = 'Born.*\\n(.*)\\('"
   ]
  },
  {
   "cell_type": "code",
   "execution_count": 99,
   "id": "56334f71",
   "metadata": {},
   "outputs": [
    {
     "data": {
      "text/plain": [
       "['June 28, 1971 ']"
      ]
     },
     "execution_count": 99,
     "metadata": {},
     "output_type": "execute_result"
    }
   ],
   "source": [
    "dob=re.findall(dob_pattern,text)\n",
    "dob"
   ]
  },
  {
   "cell_type": "code",
   "execution_count": 92,
   "id": "00679ebf",
   "metadata": {},
   "outputs": [],
   "source": [
    "birthplace_pattern='Born.*\\n.*\\n(.*)'"
   ]
  },
  {
   "cell_type": "code",
   "execution_count": 93,
   "id": "c491de1a",
   "metadata": {},
   "outputs": [],
   "source": [
    "place=re.findall(birthplace_pattern,text)"
   ]
  },
  {
   "cell_type": "code",
   "execution_count": 95,
   "id": "07da1329",
   "metadata": {},
   "outputs": [
    {
     "data": {
      "text/plain": [
       "'Pretoria, Transvaal, South Africa'"
      ]
     },
     "execution_count": 95,
     "metadata": {},
     "output_type": "execute_result"
    }
   ],
   "source": [
    "place[0]"
   ]
  },
  {
   "cell_type": "code",
   "execution_count": 96,
   "id": "ae67d095",
   "metadata": {},
   "outputs": [],
   "source": [
    "def get_pattern_matches(pattern,text):\n",
    "    matches=re.findall(pattern,text)\n",
    "    return matches[0]"
   ]
  },
  {
   "cell_type": "code",
   "execution_count": 97,
   "id": "25043a33",
   "metadata": {},
   "outputs": [
    {
     "data": {
      "text/plain": [
       "'Pretoria, Transvaal, South Africa'"
      ]
     },
     "execution_count": 97,
     "metadata": {},
     "output_type": "execute_result"
    }
   ],
   "source": [
    "get_pattern_matches(birthplace_pattern,text)"
   ]
  },
  {
   "cell_type": "code",
   "execution_count": 100,
   "id": "5442aed7",
   "metadata": {},
   "outputs": [
    {
     "data": {
      "text/plain": [
       "'June 28, 1971 '"
      ]
     },
     "execution_count": 100,
     "metadata": {},
     "output_type": "execute_result"
    }
   ],
   "source": [
    "get_pattern_matches(dob_pattern,text)"
   ]
  },
  {
   "cell_type": "code",
   "execution_count": 101,
   "id": "050a2fbf",
   "metadata": {},
   "outputs": [],
   "source": [
    "def get_personal_info(text):\n",
    "    age=get_pattern_matches(age_pattern,text)\n",
    "    dob=get_pattern_matches(dob_pattern,text)\n",
    "    name=get_pattern_matches(name_pattern,text)\n",
    "    birthplace= get_pattern_matches(birthplace_pattern,text)\n",
    "    return age,dob,name,birthplace\n",
    "    "
   ]
  },
  {
   "cell_type": "code",
   "execution_count": 105,
   "id": "55d2c43f",
   "metadata": {},
   "outputs": [
    {
     "name": "stdout",
     "output_type": "stream",
     "text": [
      "age: 51\n",
      "dob: June 28, 1971 \n",
      "name: Elon Reeve Musk\n",
      "birthplace: Pretoria, Transvaal, South Africa\n"
     ]
    }
   ],
   "source": [
    "info=get_personal_info(text)\n",
    "print('age: '+ info[0])\n",
    "print('dob: '+ info[1])\n",
    "print('name: '+ info[2])\n",
    "print('birthplace: '+ info[3])"
   ]
  },
  {
   "cell_type": "code",
   "execution_count": 107,
   "id": "256aab98",
   "metadata": {},
   "outputs": [],
   "source": [
    "def get_personal_info(text):\n",
    "    age=get_pattern_matches(age_pattern,text)\n",
    "    dob=get_pattern_matches(dob_pattern,text)\n",
    "    name=get_pattern_matches(name_pattern,text)\n",
    "    birthplace= get_pattern_matches(birthplace_pattern,text)\n",
    "    return {\n",
    "        'age':int(age),\n",
    "        'dob':dob.strip(),\n",
    "        'name':name.strip(),\n",
    "        'birthplace':birthplace.strip()\n",
    "    }\n",
    "    "
   ]
  },
  {
   "cell_type": "code",
   "execution_count": 108,
   "id": "9e1efc36",
   "metadata": {},
   "outputs": [
    {
     "data": {
      "text/plain": [
       "{'age': 51,\n",
       " 'dob': 'June 28, 1971',\n",
       " 'name': 'Elon Reeve Musk',\n",
       " 'birthplace': 'Pretoria, Transvaal, South Africa'}"
      ]
     },
     "execution_count": 108,
     "metadata": {},
     "output_type": "execute_result"
    }
   ],
   "source": [
    "get_personal_info(text)"
   ]
  },
  {
   "cell_type": "code",
   "execution_count": 109,
   "id": "7fb04d08",
   "metadata": {},
   "outputs": [],
   "source": [
    "text2='''Born\tMukesh Dhirubhai Ambani\n",
    "19 April 1957 (age 65)\n",
    "Aden, Colony of Aden\n",
    "(present-day Yemen)[1][2]\n",
    "Nationality\tIndian\n",
    "Alma mater\t\n",
    "St. Xavier's College, Mumbai\n",
    "Institute of Chemical Technology (B.E.)\n",
    "Stanford University (drop-out)\n",
    "Occupation(s)\tChairman and MD, Reliance Industries\n",
    "Spouse\tNita Ambani ​(m. 1985)​[3]\n",
    "Children\t3\n",
    "Parent\t\n",
    "Dhirubhai Ambani (father)\n",
    "Relatives\tAnil Ambani (brother)\n",
    "Tina Ambani (sister-in-law)'''"
   ]
  },
  {
   "cell_type": "code",
   "execution_count": 110,
   "id": "454747b6",
   "metadata": {},
   "outputs": [
    {
     "data": {
      "text/plain": [
       "{'age': 65,\n",
       " 'dob': '19 April 1957',\n",
       " 'name': 'Mukesh Dhirubhai Ambani',\n",
       " 'birthplace': 'Aden, Colony of Aden'}"
      ]
     },
     "execution_count": 110,
     "metadata": {},
     "output_type": "execute_result"
    }
   ],
   "source": [
    "get_personal_info(text2)"
   ]
  },
  {
   "cell_type": "code",
   "execution_count": null,
   "id": "887412d9",
   "metadata": {},
   "outputs": [],
   "source": []
  }
 ],
 "metadata": {
  "kernelspec": {
   "display_name": "Python 3 (ipykernel)",
   "language": "python",
   "name": "python3"
  },
  "language_info": {
   "codemirror_mode": {
    "name": "ipython",
    "version": 3
   },
   "file_extension": ".py",
   "mimetype": "text/x-python",
   "name": "python",
   "nbconvert_exporter": "python",
   "pygments_lexer": "ipython3",
   "version": "3.9.7"
  }
 },
 "nbformat": 4,
 "nbformat_minor": 5
}
