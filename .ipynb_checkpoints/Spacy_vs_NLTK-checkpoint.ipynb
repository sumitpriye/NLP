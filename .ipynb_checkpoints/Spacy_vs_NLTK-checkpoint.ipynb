{
 "cells": [
  {
   "cell_type": "code",
   "execution_count": 1,
   "id": "975409ef",
   "metadata": {},
   "outputs": [],
   "source": [
    "import spacy"
   ]
  },
  {
   "cell_type": "code",
   "execution_count": 2,
   "id": "3c1cac4e",
   "metadata": {},
   "outputs": [
    {
     "name": "stdout",
     "output_type": "stream",
     "text": [
      "Dr. Strange loves Icecream .\n",
      "Hulk loves Pasta.\n"
     ]
    }
   ],
   "source": [
    "nlp = spacy.load('en_core_web_sm')\n",
    "\n",
    "doc = nlp('Dr. Strange loves Icecream . Hulk loves Pasta.')\n",
    "\n",
    "for sentences in doc.sents:\n",
    "    print(sentences)   # Sentences tokenization"
   ]
  },
  {
   "cell_type": "code",
   "execution_count": 3,
   "id": "b7cc86b3",
   "metadata": {
    "scrolled": true
   },
   "outputs": [
    {
     "name": "stdout",
     "output_type": "stream",
     "text": [
      "Dr.\n",
      "Strange\n",
      "loves\n",
      "Icecream\n",
      ".\n",
      "Hulk\n",
      "loves\n",
      "Pasta\n",
      ".\n"
     ]
    }
   ],
   "source": [
    "for sentences in doc.sents:\n",
    "    for words in sentences:\n",
    "        print(words)      # words tokenization"
   ]
  },
  {
   "cell_type": "code",
   "execution_count": 5,
   "id": "04938e61",
   "metadata": {},
   "outputs": [
    {
     "name": "stderr",
     "output_type": "stream",
     "text": [
      "[nltk_data] Error loading punkt: <urlopen error [WinError 10054] An\n",
      "[nltk_data]     existing connection was forcibly closed by the remote\n",
      "[nltk_data]     host>\n"
     ]
    },
    {
     "data": {
      "text/plain": [
       "False"
      ]
     },
     "execution_count": 5,
     "metadata": {},
     "output_type": "execute_result"
    }
   ],
   "source": [
    "import nltk\n",
    "#nltk.download('punkt')  https://github.com/nltk/nltk/issues/2143  -resolved "
   ]
  },
  {
   "cell_type": "code",
   "execution_count": 6,
   "id": "8d27b110",
   "metadata": {},
   "outputs": [
    {
     "data": {
      "text/plain": [
       "['Dr.', 'Strange loves Icecream .', 'Hulk loves Pasta.']"
      ]
     },
     "execution_count": 6,
     "metadata": {},
     "output_type": "execute_result"
    }
   ],
   "source": [
    "from nltk.tokenize import sent_tokenize\n",
    "sent_tokenize('Dr. Strange loves Icecream . Hulk loves Pasta.')"
   ]
  },
  {
   "cell_type": "code",
   "execution_count": 7,
   "id": "5de84681",
   "metadata": {},
   "outputs": [
    {
     "data": {
      "text/plain": [
       "['Dr', '.', 'Strange', 'loves', 'Icecream', '.', 'Hulk', 'loves', 'Pasta', '.']"
      ]
     },
     "execution_count": 7,
     "metadata": {},
     "output_type": "execute_result"
    }
   ],
   "source": [
    "from nltk.tokenize import word_tokenize\n",
    "word_tokenize('Dr. Strange loves Icecream . Hulk loves Pasta.')"
   ]
  },
  {
   "cell_type": "code",
   "execution_count": 9,
   "id": "d3666e17",
   "metadata": {},
   "outputs": [
    {
     "name": "stdout",
     "output_type": "stream",
     "text": [
      "showing info https://raw.githubusercontent.com/nltk/nltk_data/gh-pages/index.xml\n"
     ]
    },
    {
     "data": {
      "text/plain": [
       "True"
      ]
     },
     "execution_count": 9,
     "metadata": {},
     "output_type": "execute_result"
    }
   ],
   "source": [
    "nltk.download()"
   ]
  },
  {
   "cell_type": "code",
   "execution_count": null,
   "id": "40310f3a",
   "metadata": {},
   "outputs": [],
   "source": []
  }
 ],
 "metadata": {
  "kernelspec": {
   "display_name": "Python 3 (ipykernel)",
   "language": "python",
   "name": "python3"
  },
  "language_info": {
   "codemirror_mode": {
    "name": "ipython",
    "version": 3
   },
   "file_extension": ".py",
   "mimetype": "text/x-python",
   "name": "python",
   "nbconvert_exporter": "python",
   "pygments_lexer": "ipython3",
   "version": "3.9.7"
  }
 },
 "nbformat": 4,
 "nbformat_minor": 5
}
