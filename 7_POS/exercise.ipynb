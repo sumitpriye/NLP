{
 "cells": [
  {
   "cell_type": "markdown",
   "id": "7f7a85a7",
   "metadata": {},
   "source": [
    "##### Exercise for spacy POS -\n",
    "\n",
    "You need to -\n",
    "\n",
    "1.Extract all the nouns tokens from this story. You will have to read the file in python first to collect all the text and then extract nouns in a python list\n",
    "\n",
    "2.Extract all numbers(NUM POS type) in a python list .\n",
    "\n",
    "3.Print a count of all POS tags in the text.\n",
    "\n"
   ]
  },
  {
   "cell_type": "code",
   "execution_count": 1,
   "id": "6f475dbb",
   "metadata": {},
   "outputs": [],
   "source": [
    "import spacy"
   ]
  },
  {
   "cell_type": "code",
   "execution_count": 2,
   "id": "4bf80abe",
   "metadata": {},
   "outputs": [],
   "source": [
    "nlp = spacy.load('en_core_web_sm')"
   ]
  },
  {
   "cell_type": "code",
   "execution_count": 6,
   "id": "c34de715",
   "metadata": {
    "scrolled": true
   },
   "outputs": [
    {
     "name": "stdout",
     "output_type": "stream",
     "text": [
      "['Inflation rose again in April, continuing a climb that has pushed consumers to the brink and is threatening the economic expansion, the Bureau of Labor Statistics reported Wednesday.\\n', '\\n', 'The consumer price index, a broad-based measure of prices for goods and services, increased 8.3% from a year ago, higher than the Dow Jones estimate for an 8.1% gain. That represented a slight ease from Marchâ€™s peak but was still close to the highest level since the summer of 1982.\\n', '\\n', 'Removing volatile food and energy prices, so-called core CPI still rose 6.2%, against expectations for a 6% gain, clouding hopes that inflation had peaked in March.\\n', '\\n', 'The month-over-month gains also were higher than expectations â€” 0.3% on headline CPI versus the 0.2% estimate and a 0.6% increase for core, against the outlook for a 0.4% gain.\\n', '\\n', 'The price gains also meant that workers continued to lose ground. Real wages adjusted for inflation decreased 0.1% on the month despite a nominal increase of 0.3% in average hourly earnings. Over the past year, real earnings have dropped 2.6% even though average hourly earnings are up 5.5%.\\n', '\\n', 'Inflation has been the single biggest threat to a recovery that began early in the Covid pandemic and saw the economy in 2021 stage its biggest single-year growth level since 1984. Rising prices at the pump and in grocery stores have been one problem, but inflation has spread beyond those two areas into housing, auto sales and a host of other areas.\\n', '\\n', 'Federal Reserve officials have responded to the problem with two interest rate hikes so far this year and pledges of more until inflation comes down to the central bankâ€™s 2% goal. However, Wednesdayâ€™s data shows that the Fed has a big job ahead.\\n', '\\n', 'Credits: cnbc.com']\n"
     ]
    }
   ],
   "source": [
    "with open('news_story.txt','r') as f:\n",
    "    text=f.readlines()\n",
    "print(text)"
   ]
  },
  {
   "cell_type": "code",
   "execution_count": 33,
   "id": "878b3b48",
   "metadata": {
    "scrolled": true
   },
   "outputs": [
    {
     "data": {
      "text/plain": [
       "'Inflation rose again in April, continuing a climb that has pushed consumers to the brink and is threatening the economic expansion, the Bureau of Labor Statistics reported Wednesday.\\n\\nThe consumer price index, a broad-based measure of prices for goods and services, increased 8.3% from a year ago, higher than the Dow Jones estimate for an 8.1% gain. That represented a slight ease from Marchâ€™s peak but was still close to the highest level since the summer of 1982.\\n\\nRemoving volatile food and energy prices, so-called core CPI still rose 6.2%, against expectations for a 6% gain, clouding hopes that inflation had peaked in March.\\n\\nThe month-over-month gains also were higher than expectations â€” 0.3% on headline CPI versus the 0.2% estimate and a 0.6% increase for core, against the outlook for a 0.4% gain.\\n\\nThe price gains also meant that workers continued to lose ground. Real wages adjusted for inflation decreased 0.1% on the month despite a nominal increase of 0.3% in average hourly earnings. Over the past year, real earnings have dropped 2.6% even though average hourly earnings are up 5.5%.\\n\\nInflation has been the single biggest threat to a recovery that began early in the Covid pandemic and saw the economy in 2021 stage its biggest single-year growth level since 1984. Rising prices at the pump and in grocery stores have been one problem, but inflation has spread beyond those two areas into housing, auto sales and a host of other areas.\\n\\nFederal Reserve officials have responded to the problem with two interest rate hikes so far this year and pledges of more until inflation comes down to the central bankâ€™s 2% goal. However, Wednesdayâ€™s data shows that the Fed has a big job ahead.\\n\\nCredits: cnbc.com'"
      ]
     },
     "execution_count": 33,
     "metadata": {},
     "output_type": "execute_result"
    }
   ],
   "source": [
    "with open('news_story.txt','r') as f:\n",
    "    text1=f.read()\n",
    "text1"
   ]
  },
  {
   "cell_type": "code",
   "execution_count": 34,
   "id": "31dd2c26",
   "metadata": {},
   "outputs": [
    {
     "data": {
      "text/plain": [
       "str"
      ]
     },
     "execution_count": 34,
     "metadata": {},
     "output_type": "execute_result"
    }
   ],
   "source": [
    "type(text1)"
   ]
  },
  {
   "cell_type": "code",
   "execution_count": 7,
   "id": "8ae4b11a",
   "metadata": {
    "scrolled": true
   },
   "outputs": [
    {
     "data": {
      "text/plain": [
       "['Inflation rose again in April, continuing a climb that has pushed consumers to the brink and is threatening the economic expansion, the Bureau of Labor Statistics reported Wednesday.\\n',\n",
       " '\\n',\n",
       " 'The consumer price index, a broad-based measure of prices for goods and services, increased 8.3% from a year ago, higher than the Dow Jones estimate for an 8.1% gain. That represented a slight ease from Marchâ€™s peak but was still close to the highest level since the summer of 1982.\\n',\n",
       " '\\n',\n",
       " 'Removing volatile food and energy prices, so-called core CPI still rose 6.2%, against expectations for a 6% gain, clouding hopes that inflation had peaked in March.\\n',\n",
       " '\\n',\n",
       " 'The month-over-month gains also were higher than expectations â€” 0.3% on headline CPI versus the 0.2% estimate and a 0.6% increase for core, against the outlook for a 0.4% gain.\\n',\n",
       " '\\n',\n",
       " 'The price gains also meant that workers continued to lose ground. Real wages adjusted for inflation decreased 0.1% on the month despite a nominal increase of 0.3% in average hourly earnings. Over the past year, real earnings have dropped 2.6% even though average hourly earnings are up 5.5%.\\n',\n",
       " '\\n',\n",
       " 'Inflation has been the single biggest threat to a recovery that began early in the Covid pandemic and saw the economy in 2021 stage its biggest single-year growth level since 1984. Rising prices at the pump and in grocery stores have been one problem, but inflation has spread beyond those two areas into housing, auto sales and a host of other areas.\\n',\n",
       " '\\n',\n",
       " 'Federal Reserve officials have responded to the problem with two interest rate hikes so far this year and pledges of more until inflation comes down to the central bankâ€™s 2% goal. However, Wednesdayâ€™s data shows that the Fed has a big job ahead.\\n',\n",
       " '\\n',\n",
       " 'Credits: cnbc.com']"
      ]
     },
     "execution_count": 7,
     "metadata": {},
     "output_type": "execute_result"
    }
   ],
   "source": [
    "text"
   ]
  },
  {
   "cell_type": "code",
   "execution_count": 9,
   "id": "3fc238f7",
   "metadata": {},
   "outputs": [
    {
     "data": {
      "text/plain": [
       "list"
      ]
     },
     "execution_count": 9,
     "metadata": {},
     "output_type": "execute_result"
    }
   ],
   "source": [
    "type(text)"
   ]
  },
  {
   "cell_type": "code",
   "execution_count": 10,
   "id": "bd29ffbd",
   "metadata": {},
   "outputs": [],
   "source": [
    "text = ' '.join(text)"
   ]
  },
  {
   "cell_type": "code",
   "execution_count": 11,
   "id": "45ef8639",
   "metadata": {},
   "outputs": [
    {
     "data": {
      "text/plain": [
       "str"
      ]
     },
     "execution_count": 11,
     "metadata": {},
     "output_type": "execute_result"
    }
   ],
   "source": [
    "type(text)"
   ]
  },
  {
   "cell_type": "code",
   "execution_count": 13,
   "id": "4af56261",
   "metadata": {},
   "outputs": [
    {
     "data": {
      "text/plain": [
       "'Inflation rose again in April, continuing a climb that has pushed consumers to the brink and is threatening the economic expansion, the Bureau of Labor Statistics reported Wednesday.\\n \\n The consumer price index, a broad-based measure of prices for goods and services, increased 8.3% from a year ago, higher than the Dow Jones estimate for an 8.1% gain. That represented a slight ease from Marchâ€™s peak but was still close to the highest level since the summer of 1982.\\n \\n Removing volatile food and energy prices, so-called core CPI still rose 6.2%, against expectations for a 6% gain, clouding hopes that inflation had peaked in March.\\n \\n The month-over-month gains also were higher than expectations â€” 0.3% on headline CPI versus the 0.2% estimate and a 0.6% increase for core, against the outlook for a 0.4% gain.\\n \\n The price gains also meant that workers continued to lose ground. Real wages adjusted for inflation decreased 0.1% on the month despite a nominal increase of 0.3% in average hourly earnings. Over the past year, real earnings have dropped 2.6% even though average hourly earnings are up 5.5%.\\n \\n Inflation has been the single biggest threat to a recovery that began early in the Covid pandemic and saw the economy in 2021 stage its biggest single-year growth level since 1984. Rising prices at the pump and in grocery stores have been one problem, but inflation has spread beyond those two areas into housing, auto sales and a host of other areas.\\n \\n Federal Reserve officials have responded to the problem with two interest rate hikes so far this year and pledges of more until inflation comes down to the central bankâ€™s 2% goal. However, Wednesdayâ€™s data shows that the Fed has a big job ahead.\\n \\n Credits: cnbc.com'"
      ]
     },
     "execution_count": 13,
     "metadata": {},
     "output_type": "execute_result"
    }
   ],
   "source": [
    "text"
   ]
  },
  {
   "cell_type": "code",
   "execution_count": 12,
   "id": "607472c1",
   "metadata": {},
   "outputs": [],
   "source": [
    "doc = nlp(text)"
   ]
  },
  {
   "cell_type": "code",
   "execution_count": 21,
   "id": "d3078e10",
   "metadata": {},
   "outputs": [
    {
     "name": "stdout",
     "output_type": "stream",
     "text": [
      "Inflation  |  inflation  |  NOUN  |  noun  |  NN  |  noun, singular or mass\n",
      "rose  |  rise  |  VERB  |  verb  |  VBD  |  verb, past tense\n",
      "again  |  again  |  ADV  |  adverb  |  RB  |  adverb\n",
      "in  |  in  |  ADP  |  adposition  |  IN  |  conjunction, subordinating or preposition\n",
      "April  |  April  |  PROPN  |  proper noun  |  NNP  |  noun, proper singular\n",
      ",  |  ,  |  PUNCT  |  punctuation  |  ,  |  punctuation mark, comma\n",
      "continuing  |  continue  |  VERB  |  verb  |  VBG  |  verb, gerund or present participle\n",
      "a  |  a  |  DET  |  determiner  |  DT  |  determiner\n",
      "climb  |  climb  |  NOUN  |  noun  |  NN  |  noun, singular or mass\n",
      "that  |  that  |  PRON  |  pronoun  |  WDT  |  wh-determiner\n",
      "has  |  have  |  AUX  |  auxiliary  |  VBZ  |  verb, 3rd person singular present\n",
      "pushed  |  push  |  VERB  |  verb  |  VBN  |  verb, past participle\n",
      "consumers  |  consumer  |  NOUN  |  noun  |  NNS  |  noun, plural\n",
      "to  |  to  |  ADP  |  adposition  |  IN  |  conjunction, subordinating or preposition\n",
      "the  |  the  |  DET  |  determiner  |  DT  |  determiner\n",
      "brink  |  brink  |  NOUN  |  noun  |  NN  |  noun, singular or mass\n",
      "and  |  and  |  CCONJ  |  coordinating conjunction  |  CC  |  conjunction, coordinating\n",
      "is  |  be  |  AUX  |  auxiliary  |  VBZ  |  verb, 3rd person singular present\n",
      "threatening  |  threaten  |  VERB  |  verb  |  VBG  |  verb, gerund or present participle\n",
      "the  |  the  |  DET  |  determiner  |  DT  |  determiner\n",
      "economic  |  economic  |  ADJ  |  adjective  |  JJ  |  adjective (English), other noun-modifier (Chinese)\n",
      "expansion  |  expansion  |  NOUN  |  noun  |  NN  |  noun, singular or mass\n",
      ",  |  ,  |  PUNCT  |  punctuation  |  ,  |  punctuation mark, comma\n",
      "the  |  the  |  DET  |  determiner  |  DT  |  determiner\n",
      "Bureau  |  Bureau  |  PROPN  |  proper noun  |  NNP  |  noun, proper singular\n",
      "of  |  of  |  ADP  |  adposition  |  IN  |  conjunction, subordinating or preposition\n",
      "Labor  |  Labor  |  PROPN  |  proper noun  |  NNP  |  noun, proper singular\n",
      "Statistics  |  Statistics  |  PROPN  |  proper noun  |  NNPS  |  noun, proper plural\n",
      "reported  |  report  |  VERB  |  verb  |  VBD  |  verb, past tense\n",
      "Wednesday  |  Wednesday  |  PROPN  |  proper noun  |  NNP  |  noun, proper singular\n",
      ".  |  .  |  PUNCT  |  punctuation  |  .  |  punctuation mark, sentence closer\n",
      "\n",
      " \n",
      "   |  \n",
      " \n",
      "   |  SPACE  |  space  |  _SP  |  whitespace\n",
      "The  |  the  |  DET  |  determiner  |  DT  |  determiner\n",
      "consumer  |  consumer  |  NOUN  |  noun  |  NN  |  noun, singular or mass\n",
      "price  |  price  |  NOUN  |  noun  |  NN  |  noun, singular or mass\n",
      "index  |  index  |  NOUN  |  noun  |  NN  |  noun, singular or mass\n",
      ",  |  ,  |  PUNCT  |  punctuation  |  ,  |  punctuation mark, comma\n",
      "a  |  a  |  DET  |  determiner  |  DT  |  determiner\n",
      "broad  |  broad  |  ADV  |  adverb  |  RB  |  adverb\n",
      "-  |  -  |  PUNCT  |  punctuation  |  HYPH  |  punctuation mark, hyphen\n",
      "based  |  base  |  VERB  |  verb  |  VBN  |  verb, past participle\n",
      "measure  |  measure  |  NOUN  |  noun  |  NN  |  noun, singular or mass\n",
      "of  |  of  |  ADP  |  adposition  |  IN  |  conjunction, subordinating or preposition\n",
      "prices  |  price  |  NOUN  |  noun  |  NNS  |  noun, plural\n",
      "for  |  for  |  ADP  |  adposition  |  IN  |  conjunction, subordinating or preposition\n",
      "goods  |  good  |  NOUN  |  noun  |  NNS  |  noun, plural\n",
      "and  |  and  |  CCONJ  |  coordinating conjunction  |  CC  |  conjunction, coordinating\n",
      "services  |  service  |  NOUN  |  noun  |  NNS  |  noun, plural\n",
      ",  |  ,  |  PUNCT  |  punctuation  |  ,  |  punctuation mark, comma\n",
      "increased  |  increase  |  VERB  |  verb  |  VBD  |  verb, past tense\n",
      "8.3  |  8.3  |  NUM  |  numeral  |  CD  |  cardinal number\n",
      "%  |  %  |  NOUN  |  noun  |  NN  |  noun, singular or mass\n",
      "from  |  from  |  ADP  |  adposition  |  IN  |  conjunction, subordinating or preposition\n",
      "a  |  a  |  DET  |  determiner  |  DT  |  determiner\n",
      "year  |  year  |  NOUN  |  noun  |  NN  |  noun, singular or mass\n",
      "ago  |  ago  |  ADV  |  adverb  |  RB  |  adverb\n",
      ",  |  ,  |  PUNCT  |  punctuation  |  ,  |  punctuation mark, comma\n",
      "higher  |  high  |  ADJ  |  adjective  |  JJR  |  adjective, comparative\n",
      "than  |  than  |  ADP  |  adposition  |  IN  |  conjunction, subordinating or preposition\n",
      "the  |  the  |  DET  |  determiner  |  DT  |  determiner\n",
      "Dow  |  Dow  |  PROPN  |  proper noun  |  NNP  |  noun, proper singular\n",
      "Jones  |  Jones  |  PROPN  |  proper noun  |  NNP  |  noun, proper singular\n",
      "estimate  |  estimate  |  NOUN  |  noun  |  NN  |  noun, singular or mass\n",
      "for  |  for  |  ADP  |  adposition  |  IN  |  conjunction, subordinating or preposition\n",
      "an  |  an  |  DET  |  determiner  |  DT  |  determiner\n",
      "8.1  |  8.1  |  NUM  |  numeral  |  CD  |  cardinal number\n",
      "%  |  %  |  NOUN  |  noun  |  NN  |  noun, singular or mass\n",
      "gain  |  gain  |  NOUN  |  noun  |  NN  |  noun, singular or mass\n",
      ".  |  .  |  PUNCT  |  punctuation  |  .  |  punctuation mark, sentence closer\n",
      "That  |  that  |  PRON  |  pronoun  |  DT  |  determiner\n",
      "represented  |  represent  |  VERB  |  verb  |  VBD  |  verb, past tense\n",
      "a  |  a  |  DET  |  determiner  |  DT  |  determiner\n",
      "slight  |  slight  |  ADJ  |  adjective  |  JJ  |  adjective (English), other noun-modifier (Chinese)\n",
      "ease  |  ease  |  NOUN  |  noun  |  NN  |  noun, singular or mass\n",
      "from  |  from  |  ADP  |  adposition  |  IN  |  conjunction, subordinating or preposition\n",
      "Marchâ€  |  Marchâ€  |  NOUN  |  noun  |  NNS  |  noun, plural\n",
      "™  |  ™  |  NOUN  |  noun  |  NNS  |  noun, plural\n",
      "s  |  s  |  PART  |  particle  |  POS  |  possessive ending\n",
      "peak  |  peak  |  NOUN  |  noun  |  NN  |  noun, singular or mass\n",
      "but  |  but  |  CCONJ  |  coordinating conjunction  |  CC  |  conjunction, coordinating\n",
      "was  |  be  |  AUX  |  auxiliary  |  VBD  |  verb, past tense\n",
      "still  |  still  |  ADV  |  adverb  |  RB  |  adverb\n",
      "close  |  close  |  ADJ  |  adjective  |  JJ  |  adjective (English), other noun-modifier (Chinese)\n",
      "to  |  to  |  ADP  |  adposition  |  IN  |  conjunction, subordinating or preposition\n",
      "the  |  the  |  DET  |  determiner  |  DT  |  determiner\n",
      "highest  |  high  |  ADJ  |  adjective  |  JJS  |  adjective, superlative\n",
      "level  |  level  |  NOUN  |  noun  |  NN  |  noun, singular or mass\n",
      "since  |  since  |  SCONJ  |  subordinating conjunction  |  IN  |  conjunction, subordinating or preposition\n",
      "the  |  the  |  DET  |  determiner  |  DT  |  determiner\n",
      "summer  |  summer  |  NOUN  |  noun  |  NN  |  noun, singular or mass\n",
      "of  |  of  |  ADP  |  adposition  |  IN  |  conjunction, subordinating or preposition\n",
      "1982  |  1982  |  NUM  |  numeral  |  CD  |  cardinal number\n",
      ".  |  .  |  PUNCT  |  punctuation  |  .  |  punctuation mark, sentence closer\n",
      "\n",
      " \n",
      "   |  \n",
      " \n",
      "   |  SPACE  |  space  |  _SP  |  whitespace\n",
      "Removing  |  remove  |  VERB  |  verb  |  VBG  |  verb, gerund or present participle\n",
      "volatile  |  volatile  |  ADJ  |  adjective  |  JJ  |  adjective (English), other noun-modifier (Chinese)\n",
      "food  |  food  |  NOUN  |  noun  |  NN  |  noun, singular or mass\n",
      "and  |  and  |  CCONJ  |  coordinating conjunction  |  CC  |  conjunction, coordinating\n",
      "energy  |  energy  |  NOUN  |  noun  |  NN  |  noun, singular or mass\n",
      "prices  |  price  |  NOUN  |  noun  |  NNS  |  noun, plural\n",
      ",  |  ,  |  PUNCT  |  punctuation  |  ,  |  punctuation mark, comma\n",
      "so  |  so  |  ADV  |  adverb  |  RB  |  adverb\n",
      "-  |  -  |  PUNCT  |  punctuation  |  HYPH  |  punctuation mark, hyphen\n",
      "called  |  call  |  VERB  |  verb  |  VBN  |  verb, past participle\n",
      "core  |  core  |  NOUN  |  noun  |  NN  |  noun, singular or mass\n",
      "CPI  |  CPI  |  PROPN  |  proper noun  |  NNP  |  noun, proper singular\n",
      "still  |  still  |  ADV  |  adverb  |  RB  |  adverb\n",
      "rose  |  rise  |  VERB  |  verb  |  VBD  |  verb, past tense\n",
      "6.2  |  6.2  |  NUM  |  numeral  |  CD  |  cardinal number\n",
      "%  |  %  |  NOUN  |  noun  |  NN  |  noun, singular or mass\n",
      ",  |  ,  |  PUNCT  |  punctuation  |  ,  |  punctuation mark, comma\n",
      "against  |  against  |  ADP  |  adposition  |  IN  |  conjunction, subordinating or preposition\n",
      "expectations  |  expectation  |  NOUN  |  noun  |  NNS  |  noun, plural\n",
      "for  |  for  |  ADP  |  adposition  |  IN  |  conjunction, subordinating or preposition\n",
      "a  |  a  |  DET  |  determiner  |  DT  |  determiner\n",
      "6  |  6  |  NUM  |  numeral  |  CD  |  cardinal number\n",
      "%  |  %  |  NOUN  |  noun  |  NN  |  noun, singular or mass\n",
      "gain  |  gain  |  NOUN  |  noun  |  NN  |  noun, singular or mass\n",
      ",  |  ,  |  PUNCT  |  punctuation  |  ,  |  punctuation mark, comma\n",
      "clouding  |  cloud  |  VERB  |  verb  |  VBG  |  verb, gerund or present participle\n",
      "hopes  |  hope  |  NOUN  |  noun  |  NNS  |  noun, plural\n",
      "that  |  that  |  SCONJ  |  subordinating conjunction  |  IN  |  conjunction, subordinating or preposition\n",
      "inflation  |  inflation  |  NOUN  |  noun  |  NN  |  noun, singular or mass\n",
      "had  |  have  |  AUX  |  auxiliary  |  VBD  |  verb, past tense\n",
      "peaked  |  peak  |  VERB  |  verb  |  VBN  |  verb, past participle\n",
      "in  |  in  |  ADP  |  adposition  |  IN  |  conjunction, subordinating or preposition\n",
      "March  |  March  |  PROPN  |  proper noun  |  NNP  |  noun, proper singular\n",
      ".  |  .  |  PUNCT  |  punctuation  |  .  |  punctuation mark, sentence closer\n",
      "\n",
      " \n",
      "   |  \n",
      " \n",
      "   |  SPACE  |  space  |  _SP  |  whitespace\n",
      "The  |  the  |  DET  |  determiner  |  DT  |  determiner\n",
      "month  |  month  |  NOUN  |  noun  |  NN  |  noun, singular or mass\n",
      "-  |  -  |  PUNCT  |  punctuation  |  HYPH  |  punctuation mark, hyphen\n",
      "over  |  over  |  ADP  |  adposition  |  IN  |  conjunction, subordinating or preposition\n",
      "-  |  -  |  PUNCT  |  punctuation  |  HYPH  |  punctuation mark, hyphen\n",
      "month  |  month  |  NOUN  |  noun  |  NN  |  noun, singular or mass\n",
      "gains  |  gain  |  NOUN  |  noun  |  NNS  |  noun, plural\n",
      "also  |  also  |  ADV  |  adverb  |  RB  |  adverb\n",
      "were  |  be  |  AUX  |  auxiliary  |  VBD  |  verb, past tense\n",
      "higher  |  high  |  ADJ  |  adjective  |  JJR  |  adjective, comparative\n",
      "than  |  than  |  ADP  |  adposition  |  IN  |  conjunction, subordinating or preposition\n",
      "expectations  |  expectation  |  NOUN  |  noun  |  NNS  |  noun, plural\n",
      "â€  |  â€  |  NUM  |  numeral  |  CD  |  cardinal number\n",
      "”  |  \"  |  PUNCT  |  punctuation  |  ''  |  closing quotation mark\n",
      "0.3  |  0.3  |  NUM  |  numeral  |  CD  |  cardinal number\n",
      "%  |  %  |  NOUN  |  noun  |  NN  |  noun, singular or mass\n",
      "on  |  on  |  ADP  |  adposition  |  IN  |  conjunction, subordinating or preposition\n",
      "headline  |  headline  |  NOUN  |  noun  |  NN  |  noun, singular or mass\n",
      "CPI  |  CPI  |  PROPN  |  proper noun  |  NNP  |  noun, proper singular\n",
      "versus  |  versus  |  ADP  |  adposition  |  IN  |  conjunction, subordinating or preposition\n",
      "the  |  the  |  DET  |  determiner  |  DT  |  determiner\n",
      "0.2  |  0.2  |  NUM  |  numeral  |  CD  |  cardinal number\n",
      "%  |  %  |  NOUN  |  noun  |  NN  |  noun, singular or mass\n",
      "estimate  |  estimate  |  NOUN  |  noun  |  NN  |  noun, singular or mass\n",
      "and  |  and  |  CCONJ  |  coordinating conjunction  |  CC  |  conjunction, coordinating\n",
      "a  |  a  |  DET  |  determiner  |  DT  |  determiner\n",
      "0.6  |  0.6  |  NUM  |  numeral  |  CD  |  cardinal number\n",
      "%  |  %  |  NOUN  |  noun  |  NN  |  noun, singular or mass\n",
      "increase  |  increase  |  NOUN  |  noun  |  NN  |  noun, singular or mass\n",
      "for  |  for  |  ADP  |  adposition  |  IN  |  conjunction, subordinating or preposition\n",
      "core  |  core  |  NOUN  |  noun  |  NN  |  noun, singular or mass\n"
     ]
    },
    {
     "name": "stdout",
     "output_type": "stream",
     "text": [
      ",  |  ,  |  PUNCT  |  punctuation  |  ,  |  punctuation mark, comma\n",
      "against  |  against  |  ADP  |  adposition  |  IN  |  conjunction, subordinating or preposition\n",
      "the  |  the  |  DET  |  determiner  |  DT  |  determiner\n",
      "outlook  |  outlook  |  NOUN  |  noun  |  NN  |  noun, singular or mass\n",
      "for  |  for  |  ADP  |  adposition  |  IN  |  conjunction, subordinating or preposition\n",
      "a  |  a  |  DET  |  determiner  |  DT  |  determiner\n",
      "0.4  |  0.4  |  NUM  |  numeral  |  CD  |  cardinal number\n",
      "%  |  %  |  NOUN  |  noun  |  NN  |  noun, singular or mass\n",
      "gain  |  gain  |  NOUN  |  noun  |  NN  |  noun, singular or mass\n",
      ".  |  .  |  PUNCT  |  punctuation  |  .  |  punctuation mark, sentence closer\n",
      "\n",
      " \n",
      "   |  \n",
      " \n",
      "   |  SPACE  |  space  |  _SP  |  whitespace\n",
      "The  |  the  |  DET  |  determiner  |  DT  |  determiner\n",
      "price  |  price  |  NOUN  |  noun  |  NN  |  noun, singular or mass\n",
      "gains  |  gain  |  NOUN  |  noun  |  NNS  |  noun, plural\n",
      "also  |  also  |  ADV  |  adverb  |  RB  |  adverb\n",
      "meant  |  mean  |  VERB  |  verb  |  VBD  |  verb, past tense\n",
      "that  |  that  |  SCONJ  |  subordinating conjunction  |  IN  |  conjunction, subordinating or preposition\n",
      "workers  |  worker  |  NOUN  |  noun  |  NNS  |  noun, plural\n",
      "continued  |  continue  |  VERB  |  verb  |  VBD  |  verb, past tense\n",
      "to  |  to  |  PART  |  particle  |  TO  |  infinitival \"to\"\n",
      "lose  |  lose  |  VERB  |  verb  |  VB  |  verb, base form\n",
      "ground  |  ground  |  NOUN  |  noun  |  NN  |  noun, singular or mass\n",
      ".  |  .  |  PUNCT  |  punctuation  |  .  |  punctuation mark, sentence closer\n",
      "Real  |  real  |  ADJ  |  adjective  |  JJ  |  adjective (English), other noun-modifier (Chinese)\n",
      "wages  |  wage  |  NOUN  |  noun  |  NNS  |  noun, plural\n",
      "adjusted  |  adjust  |  VERB  |  verb  |  VBN  |  verb, past participle\n",
      "for  |  for  |  ADP  |  adposition  |  IN  |  conjunction, subordinating or preposition\n",
      "inflation  |  inflation  |  NOUN  |  noun  |  NN  |  noun, singular or mass\n",
      "decreased  |  decrease  |  VERB  |  verb  |  VBD  |  verb, past tense\n",
      "0.1  |  0.1  |  NUM  |  numeral  |  CD  |  cardinal number\n",
      "%  |  %  |  NOUN  |  noun  |  NN  |  noun, singular or mass\n",
      "on  |  on  |  ADP  |  adposition  |  IN  |  conjunction, subordinating or preposition\n",
      "the  |  the  |  DET  |  determiner  |  DT  |  determiner\n",
      "month  |  month  |  NOUN  |  noun  |  NN  |  noun, singular or mass\n",
      "despite  |  despite  |  SCONJ  |  subordinating conjunction  |  IN  |  conjunction, subordinating or preposition\n",
      "a  |  a  |  DET  |  determiner  |  DT  |  determiner\n",
      "nominal  |  nominal  |  ADJ  |  adjective  |  JJ  |  adjective (English), other noun-modifier (Chinese)\n",
      "increase  |  increase  |  NOUN  |  noun  |  NN  |  noun, singular or mass\n",
      "of  |  of  |  ADP  |  adposition  |  IN  |  conjunction, subordinating or preposition\n",
      "0.3  |  0.3  |  NUM  |  numeral  |  CD  |  cardinal number\n",
      "%  |  %  |  NOUN  |  noun  |  NN  |  noun, singular or mass\n",
      "in  |  in  |  ADP  |  adposition  |  IN  |  conjunction, subordinating or preposition\n",
      "average  |  average  |  ADJ  |  adjective  |  JJ  |  adjective (English), other noun-modifier (Chinese)\n",
      "hourly  |  hourly  |  ADJ  |  adjective  |  JJ  |  adjective (English), other noun-modifier (Chinese)\n",
      "earnings  |  earning  |  NOUN  |  noun  |  NNS  |  noun, plural\n",
      ".  |  .  |  PUNCT  |  punctuation  |  .  |  punctuation mark, sentence closer\n",
      "Over  |  over  |  ADP  |  adposition  |  IN  |  conjunction, subordinating or preposition\n",
      "the  |  the  |  DET  |  determiner  |  DT  |  determiner\n",
      "past  |  past  |  ADJ  |  adjective  |  JJ  |  adjective (English), other noun-modifier (Chinese)\n",
      "year  |  year  |  NOUN  |  noun  |  NN  |  noun, singular or mass\n",
      ",  |  ,  |  PUNCT  |  punctuation  |  ,  |  punctuation mark, comma\n",
      "real  |  real  |  ADJ  |  adjective  |  JJ  |  adjective (English), other noun-modifier (Chinese)\n",
      "earnings  |  earning  |  NOUN  |  noun  |  NNS  |  noun, plural\n",
      "have  |  have  |  AUX  |  auxiliary  |  VBP  |  verb, non-3rd person singular present\n",
      "dropped  |  drop  |  VERB  |  verb  |  VBN  |  verb, past participle\n",
      "2.6  |  2.6  |  NUM  |  numeral  |  CD  |  cardinal number\n",
      "%  |  %  |  NOUN  |  noun  |  NN  |  noun, singular or mass\n",
      "even  |  even  |  ADV  |  adverb  |  RB  |  adverb\n",
      "though  |  though  |  SCONJ  |  subordinating conjunction  |  IN  |  conjunction, subordinating or preposition\n",
      "average  |  average  |  ADJ  |  adjective  |  JJ  |  adjective (English), other noun-modifier (Chinese)\n",
      "hourly  |  hourly  |  ADJ  |  adjective  |  JJ  |  adjective (English), other noun-modifier (Chinese)\n",
      "earnings  |  earning  |  NOUN  |  noun  |  NNS  |  noun, plural\n",
      "are  |  be  |  AUX  |  auxiliary  |  VBP  |  verb, non-3rd person singular present\n",
      "up  |  up  |  ADV  |  adverb  |  RB  |  adverb\n",
      "5.5  |  5.5  |  NUM  |  numeral  |  CD  |  cardinal number\n",
      "%  |  %  |  NOUN  |  noun  |  NN  |  noun, singular or mass\n",
      ".  |  .  |  PUNCT  |  punctuation  |  .  |  punctuation mark, sentence closer\n",
      "\n",
      " \n",
      "   |  \n",
      " \n",
      "   |  SPACE  |  space  |  _SP  |  whitespace\n",
      "Inflation  |  inflation  |  NOUN  |  noun  |  NN  |  noun, singular or mass\n",
      "has  |  have  |  AUX  |  auxiliary  |  VBZ  |  verb, 3rd person singular present\n",
      "been  |  be  |  AUX  |  auxiliary  |  VBN  |  verb, past participle\n",
      "the  |  the  |  DET  |  determiner  |  DT  |  determiner\n",
      "single  |  single  |  ADJ  |  adjective  |  JJ  |  adjective (English), other noun-modifier (Chinese)\n",
      "biggest  |  big  |  ADJ  |  adjective  |  JJS  |  adjective, superlative\n",
      "threat  |  threat  |  NOUN  |  noun  |  NN  |  noun, singular or mass\n",
      "to  |  to  |  ADP  |  adposition  |  IN  |  conjunction, subordinating or preposition\n",
      "a  |  a  |  DET  |  determiner  |  DT  |  determiner\n",
      "recovery  |  recovery  |  NOUN  |  noun  |  NN  |  noun, singular or mass\n",
      "that  |  that  |  PRON  |  pronoun  |  WDT  |  wh-determiner\n",
      "began  |  begin  |  VERB  |  verb  |  VBD  |  verb, past tense\n",
      "early  |  early  |  ADV  |  adverb  |  RB  |  adverb\n",
      "in  |  in  |  ADP  |  adposition  |  IN  |  conjunction, subordinating or preposition\n",
      "the  |  the  |  DET  |  determiner  |  DT  |  determiner\n",
      "Covid  |  Covid  |  PROPN  |  proper noun  |  NNP  |  noun, proper singular\n",
      "pandemic  |  pandemic  |  NOUN  |  noun  |  NN  |  noun, singular or mass\n",
      "and  |  and  |  CCONJ  |  coordinating conjunction  |  CC  |  conjunction, coordinating\n",
      "saw  |  see  |  VERB  |  verb  |  VBD  |  verb, past tense\n",
      "the  |  the  |  DET  |  determiner  |  DT  |  determiner\n",
      "economy  |  economy  |  NOUN  |  noun  |  NN  |  noun, singular or mass\n",
      "in  |  in  |  ADP  |  adposition  |  IN  |  conjunction, subordinating or preposition\n",
      "2021  |  2021  |  NUM  |  numeral  |  CD  |  cardinal number\n",
      "stage  |  stage  |  NOUN  |  noun  |  NN  |  noun, singular or mass\n",
      "its  |  its  |  PRON  |  pronoun  |  PRP$  |  pronoun, possessive\n",
      "biggest  |  big  |  ADJ  |  adjective  |  JJS  |  adjective, superlative\n",
      "single  |  single  |  ADJ  |  adjective  |  JJ  |  adjective (English), other noun-modifier (Chinese)\n",
      "-  |  -  |  PUNCT  |  punctuation  |  HYPH  |  punctuation mark, hyphen\n",
      "year  |  year  |  NOUN  |  noun  |  NN  |  noun, singular or mass\n",
      "growth  |  growth  |  NOUN  |  noun  |  NN  |  noun, singular or mass\n",
      "level  |  level  |  NOUN  |  noun  |  NN  |  noun, singular or mass\n",
      "since  |  since  |  SCONJ  |  subordinating conjunction  |  IN  |  conjunction, subordinating or preposition\n",
      "1984  |  1984  |  NUM  |  numeral  |  CD  |  cardinal number\n",
      ".  |  .  |  PUNCT  |  punctuation  |  .  |  punctuation mark, sentence closer\n",
      "Rising  |  rise  |  VERB  |  verb  |  VBG  |  verb, gerund or present participle\n",
      "prices  |  price  |  NOUN  |  noun  |  NNS  |  noun, plural\n",
      "at  |  at  |  ADP  |  adposition  |  IN  |  conjunction, subordinating or preposition\n",
      "the  |  the  |  DET  |  determiner  |  DT  |  determiner\n",
      "pump  |  pump  |  NOUN  |  noun  |  NN  |  noun, singular or mass\n",
      "and  |  and  |  CCONJ  |  coordinating conjunction  |  CC  |  conjunction, coordinating\n",
      "in  |  in  |  ADP  |  adposition  |  IN  |  conjunction, subordinating or preposition\n",
      "grocery  |  grocery  |  NOUN  |  noun  |  NN  |  noun, singular or mass\n",
      "stores  |  store  |  NOUN  |  noun  |  NNS  |  noun, plural\n",
      "have  |  have  |  AUX  |  auxiliary  |  VBP  |  verb, non-3rd person singular present\n",
      "been  |  be  |  AUX  |  auxiliary  |  VBN  |  verb, past participle\n",
      "one  |  one  |  NUM  |  numeral  |  CD  |  cardinal number\n",
      "problem  |  problem  |  NOUN  |  noun  |  NN  |  noun, singular or mass\n",
      ",  |  ,  |  PUNCT  |  punctuation  |  ,  |  punctuation mark, comma\n",
      "but  |  but  |  CCONJ  |  coordinating conjunction  |  CC  |  conjunction, coordinating\n",
      "inflation  |  inflation  |  NOUN  |  noun  |  NN  |  noun, singular or mass\n",
      "has  |  have  |  AUX  |  auxiliary  |  VBZ  |  verb, 3rd person singular present\n",
      "spread  |  spread  |  VERB  |  verb  |  VBN  |  verb, past participle\n",
      "beyond  |  beyond  |  ADP  |  adposition  |  IN  |  conjunction, subordinating or preposition\n",
      "those  |  those  |  DET  |  determiner  |  DT  |  determiner\n",
      "two  |  two  |  NUM  |  numeral  |  CD  |  cardinal number\n",
      "areas  |  area  |  NOUN  |  noun  |  NNS  |  noun, plural\n",
      "into  |  into  |  ADP  |  adposition  |  IN  |  conjunction, subordinating or preposition\n",
      "housing  |  housing  |  NOUN  |  noun  |  NN  |  noun, singular or mass\n",
      ",  |  ,  |  PUNCT  |  punctuation  |  ,  |  punctuation mark, comma\n",
      "auto  |  auto  |  NOUN  |  noun  |  NN  |  noun, singular or mass\n",
      "sales  |  sale  |  NOUN  |  noun  |  NNS  |  noun, plural\n",
      "and  |  and  |  CCONJ  |  coordinating conjunction  |  CC  |  conjunction, coordinating\n",
      "a  |  a  |  DET  |  determiner  |  DT  |  determiner\n",
      "host  |  host  |  NOUN  |  noun  |  NN  |  noun, singular or mass\n",
      "of  |  of  |  ADP  |  adposition  |  IN  |  conjunction, subordinating or preposition\n",
      "other  |  other  |  ADJ  |  adjective  |  JJ  |  adjective (English), other noun-modifier (Chinese)\n",
      "areas  |  area  |  NOUN  |  noun  |  NNS  |  noun, plural\n",
      ".  |  .  |  PUNCT  |  punctuation  |  .  |  punctuation mark, sentence closer\n",
      "\n",
      " \n",
      "   |  \n",
      " \n",
      "   |  SPACE  |  space  |  _SP  |  whitespace\n",
      "Federal  |  Federal  |  PROPN  |  proper noun  |  NNP  |  noun, proper singular\n",
      "Reserve  |  Reserve  |  PROPN  |  proper noun  |  NNP  |  noun, proper singular\n",
      "officials  |  official  |  NOUN  |  noun  |  NNS  |  noun, plural\n",
      "have  |  have  |  AUX  |  auxiliary  |  VBP  |  verb, non-3rd person singular present\n",
      "responded  |  respond  |  VERB  |  verb  |  VBN  |  verb, past participle\n",
      "to  |  to  |  ADP  |  adposition  |  IN  |  conjunction, subordinating or preposition\n",
      "the  |  the  |  DET  |  determiner  |  DT  |  determiner\n",
      "problem  |  problem  |  NOUN  |  noun  |  NN  |  noun, singular or mass\n",
      "with  |  with  |  ADP  |  adposition  |  IN  |  conjunction, subordinating or preposition\n",
      "two  |  two  |  NUM  |  numeral  |  CD  |  cardinal number\n",
      "interest  |  interest  |  NOUN  |  noun  |  NN  |  noun, singular or mass\n",
      "rate  |  rate  |  NOUN  |  noun  |  NN  |  noun, singular or mass\n",
      "hikes  |  hike  |  NOUN  |  noun  |  NNS  |  noun, plural\n",
      "so  |  so  |  ADV  |  adverb  |  RB  |  adverb\n",
      "far  |  far  |  ADV  |  adverb  |  RB  |  adverb\n",
      "this  |  this  |  DET  |  determiner  |  DT  |  determiner\n",
      "year  |  year  |  NOUN  |  noun  |  NN  |  noun, singular or mass\n",
      "and  |  and  |  CCONJ  |  coordinating conjunction  |  CC  |  conjunction, coordinating\n",
      "pledges  |  pledge  |  NOUN  |  noun  |  NNS  |  noun, plural\n",
      "of  |  of  |  ADP  |  adposition  |  IN  |  conjunction, subordinating or preposition\n",
      "more  |  more  |  ADJ  |  adjective  |  JJR  |  adjective, comparative\n"
     ]
    },
    {
     "name": "stdout",
     "output_type": "stream",
     "text": [
      "until  |  until  |  SCONJ  |  subordinating conjunction  |  IN  |  conjunction, subordinating or preposition\n",
      "inflation  |  inflation  |  NOUN  |  noun  |  NN  |  noun, singular or mass\n",
      "comes  |  come  |  VERB  |  verb  |  VBZ  |  verb, 3rd person singular present\n",
      "down  |  down  |  ADP  |  adposition  |  RP  |  adverb, particle\n",
      "to  |  to  |  ADP  |  adposition  |  IN  |  conjunction, subordinating or preposition\n",
      "the  |  the  |  DET  |  determiner  |  DT  |  determiner\n",
      "central  |  central  |  ADJ  |  adjective  |  JJ  |  adjective (English), other noun-modifier (Chinese)\n",
      "bankâ€  |  bankâ€  |  PROPN  |  proper noun  |  NNP  |  noun, proper singular\n",
      "™  |  ™  |  PROPN  |  proper noun  |  NNP  |  noun, proper singular\n",
      "s  |  s  |  PART  |  particle  |  POS  |  possessive ending\n",
      "2  |  2  |  NUM  |  numeral  |  CD  |  cardinal number\n",
      "%  |  %  |  NOUN  |  noun  |  NN  |  noun, singular or mass\n",
      "goal  |  goal  |  NOUN  |  noun  |  NN  |  noun, singular or mass\n",
      ".  |  .  |  PUNCT  |  punctuation  |  .  |  punctuation mark, sentence closer\n",
      "However  |  however  |  ADV  |  adverb  |  RB  |  adverb\n",
      ",  |  ,  |  PUNCT  |  punctuation  |  ,  |  punctuation mark, comma\n",
      "Wednesdayâ€  |  Wednesdayâ€  |  PROPN  |  proper noun  |  NNP  |  noun, proper singular\n",
      "™  |  ™  |  NOUN  |  noun  |  NNS  |  noun, plural\n",
      "s  |  s  |  PART  |  particle  |  POS  |  possessive ending\n",
      "data  |  datum  |  NOUN  |  noun  |  NNS  |  noun, plural\n",
      "shows  |  show  |  VERB  |  verb  |  VBZ  |  verb, 3rd person singular present\n",
      "that  |  that  |  SCONJ  |  subordinating conjunction  |  IN  |  conjunction, subordinating or preposition\n",
      "the  |  the  |  DET  |  determiner  |  DT  |  determiner\n",
      "Fed  |  Fed  |  PROPN  |  proper noun  |  NNP  |  noun, proper singular\n",
      "has  |  have  |  VERB  |  verb  |  VBZ  |  verb, 3rd person singular present\n",
      "a  |  a  |  DET  |  determiner  |  DT  |  determiner\n",
      "big  |  big  |  ADJ  |  adjective  |  JJ  |  adjective (English), other noun-modifier (Chinese)\n",
      "job  |  job  |  NOUN  |  noun  |  NN  |  noun, singular or mass\n",
      "ahead  |  ahead  |  ADV  |  adverb  |  RB  |  adverb\n",
      ".  |  .  |  PUNCT  |  punctuation  |  .  |  punctuation mark, sentence closer\n",
      "\n",
      " \n",
      "   |  \n",
      " \n",
      "   |  SPACE  |  space  |  _SP  |  whitespace\n",
      "Credits  |  credit  |  NOUN  |  noun  |  NNS  |  noun, plural\n",
      ":  |  :  |  PUNCT  |  punctuation  |  :  |  punctuation mark, colon or ellipsis\n",
      "cnbc.com  |  cnbc.com  |  X  |  other  |  ADD  |  email\n"
     ]
    }
   ],
   "source": [
    "for token in doc:\n",
    "    print(token,' | ',token.lemma_, ' | ', token.pos_,' | ',spacy.explain(token.pos_) ,' | ', token.tag_, ' | ', spacy.explain(token.tag_))"
   ]
  },
  {
   "cell_type": "code",
   "execution_count": 25,
   "id": "5368c881",
   "metadata": {},
   "outputs": [
    {
     "data": {
      "text/plain": [
       "[Inflation,\n",
       " climb,\n",
       " consumers,\n",
       " brink,\n",
       " expansion,\n",
       " consumer,\n",
       " price,\n",
       " index,\n",
       " measure,\n",
       " prices,\n",
       " goods,\n",
       " services,\n",
       " %,\n",
       " year,\n",
       " estimate,\n",
       " %,\n",
       " gain,\n",
       " ease,\n",
       " Marchâ€,\n",
       " ™,\n",
       " peak,\n",
       " level,\n",
       " summer,\n",
       " food,\n",
       " energy,\n",
       " prices,\n",
       " core,\n",
       " %,\n",
       " expectations,\n",
       " %,\n",
       " gain,\n",
       " hopes,\n",
       " inflation,\n",
       " month,\n",
       " month,\n",
       " gains,\n",
       " expectations,\n",
       " %,\n",
       " headline,\n",
       " %,\n",
       " estimate,\n",
       " %,\n",
       " increase,\n",
       " core,\n",
       " outlook,\n",
       " %,\n",
       " gain,\n",
       " price,\n",
       " gains,\n",
       " workers,\n",
       " ground,\n",
       " wages,\n",
       " inflation,\n",
       " %,\n",
       " month,\n",
       " increase,\n",
       " %,\n",
       " earnings,\n",
       " year,\n",
       " earnings,\n",
       " %,\n",
       " earnings,\n",
       " %,\n",
       " Inflation,\n",
       " threat,\n",
       " recovery,\n",
       " pandemic,\n",
       " economy,\n",
       " stage,\n",
       " year,\n",
       " growth,\n",
       " level,\n",
       " prices,\n",
       " pump,\n",
       " grocery,\n",
       " stores,\n",
       " problem,\n",
       " inflation,\n",
       " areas,\n",
       " housing,\n",
       " auto,\n",
       " sales,\n",
       " host,\n",
       " areas,\n",
       " officials,\n",
       " problem,\n",
       " interest,\n",
       " rate,\n",
       " hikes,\n",
       " year,\n",
       " pledges,\n",
       " inflation,\n",
       " %,\n",
       " goal,\n",
       " ™,\n",
       " data,\n",
       " job,\n",
       " Credits]"
      ]
     },
     "execution_count": 25,
     "metadata": {},
     "output_type": "execute_result"
    }
   ],
   "source": [
    "nouns_lst = []\n",
    "\n",
    "for token in doc:\n",
    "    if token.pos_== 'NOUN':\n",
    "        nouns_lst.append(token)\n",
    "nouns_lst"
   ]
  },
  {
   "cell_type": "code",
   "execution_count": 27,
   "id": "aead3272",
   "metadata": {},
   "outputs": [
    {
     "data": {
      "text/plain": [
       "[8.3,\n",
       " 8.1,\n",
       " 1982,\n",
       " 6.2,\n",
       " 6,\n",
       " â€,\n",
       " 0.3,\n",
       " 0.2,\n",
       " 0.6,\n",
       " 0.4,\n",
       " 0.1,\n",
       " 0.3,\n",
       " 2.6,\n",
       " 5.5,\n",
       " 2021,\n",
       " 1984,\n",
       " one,\n",
       " two,\n",
       " two,\n",
       " 2]"
      ]
     },
     "execution_count": 27,
     "metadata": {},
     "output_type": "execute_result"
    }
   ],
   "source": [
    "NUM_lst=[]\n",
    "\n",
    "for token in doc:\n",
    "    if token.pos_ == 'NUM':\n",
    "        NUM_lst.append(token)\n",
    "        \n",
    "NUM_lst"
   ]
  },
  {
   "cell_type": "code",
   "execution_count": 28,
   "id": "b7f132b3",
   "metadata": {},
   "outputs": [
    {
     "data": {
      "text/plain": [
       "{92: 98,\n",
       " 100: 27,\n",
       " 86: 15,\n",
       " 85: 39,\n",
       " 96: 17,\n",
       " 97: 32,\n",
       " 90: 34,\n",
       " 95: 4,\n",
       " 87: 13,\n",
       " 89: 10,\n",
       " 84: 23,\n",
       " 103: 7,\n",
       " 93: 20,\n",
       " 94: 4,\n",
       " 98: 8,\n",
       " 101: 1}"
      ]
     },
     "execution_count": 28,
     "metadata": {},
     "output_type": "execute_result"
    }
   ],
   "source": [
    "count = doc.count_by(spacy.attrs.POS)\n",
    "count"
   ]
  },
  {
   "cell_type": "code",
   "execution_count": 29,
   "id": "5dab3db0",
   "metadata": {},
   "outputs": [
    {
     "data": {
      "text/plain": [
       "'PROPN'"
      ]
     },
     "execution_count": 29,
     "metadata": {},
     "output_type": "execute_result"
    }
   ],
   "source": [
    "doc.vocab[96].text"
   ]
  },
  {
   "cell_type": "code",
   "execution_count": 30,
   "id": "f00a1587",
   "metadata": {},
   "outputs": [
    {
     "data": {
      "text/plain": [
       "'NOUN'"
      ]
     },
     "execution_count": 30,
     "metadata": {},
     "output_type": "execute_result"
    }
   ],
   "source": [
    "doc.vocab[92].text"
   ]
  },
  {
   "cell_type": "code",
   "execution_count": 31,
   "id": "53eec8a4",
   "metadata": {},
   "outputs": [
    {
     "name": "stdout",
     "output_type": "stream",
     "text": [
      "NOUN 98\n",
      "VERB 27\n",
      "ADV 15\n",
      "ADP 39\n",
      "PROPN 17\n",
      "PUNCT 32\n",
      "DET 34\n",
      "PRON 4\n",
      "AUX 13\n",
      "CCONJ 10\n",
      "ADJ 23\n",
      "SPACE 7\n",
      "NUM 20\n",
      "PART 4\n",
      "SCONJ 8\n",
      "X 1\n"
     ]
    }
   ],
   "source": [
    "for key, value in count.items():\n",
    "    print(doc.vocab[key].text,value)"
   ]
  },
  {
   "cell_type": "code",
   "execution_count": null,
   "id": "fae5d5c9",
   "metadata": {},
   "outputs": [],
   "source": []
  }
 ],
 "metadata": {
  "kernelspec": {
   "display_name": "Python 3 (ipykernel)",
   "language": "python",
   "name": "python3"
  },
  "language_info": {
   "codemirror_mode": {
    "name": "ipython",
    "version": 3
   },
   "file_extension": ".py",
   "mimetype": "text/x-python",
   "name": "python",
   "nbconvert_exporter": "python",
   "pygments_lexer": "ipython3",
   "version": "3.9.7"
  }
 },
 "nbformat": 4,
 "nbformat_minor": 5
}
